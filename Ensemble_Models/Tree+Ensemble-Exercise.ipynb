{
 "cells": [
  {
   "cell_type": "code",
   "execution_count": null,
   "metadata": {},
   "outputs": [],
   "source": [
    "######### Predicting Churn for Bank Customers:\n",
    "\n",
    "## read in Churn_Modelling dataset\n",
    "## EDA + preprocessing\n",
    "## run a logreg to see directionality of features with target\n",
    "## run Dtree classifier and evaluate the model\n",
    "## observe feature importance\n",
    "## create a summary report of the feature parameters and importances\n",
    "\n",
    "\n",
    "## run ensemble models with hyperparameter tuning\n",
    "## check precision and recall\n",
    "## select best model with highest score\n",
    "## display feature importance "
   ]
  }
 ],
 "metadata": {
  "kernelspec": {
   "display_name": "Python 3",
   "language": "python",
   "name": "python3"
  },
  "language_info": {
   "codemirror_mode": {
    "name": "ipython",
    "version": 3
   },
   "file_extension": ".py",
   "mimetype": "text/x-python",
   "name": "python",
   "nbconvert_exporter": "python",
   "pygments_lexer": "ipython3",
   "version": "3.6.5"
  }
 },
 "nbformat": 4,
 "nbformat_minor": 2
}
