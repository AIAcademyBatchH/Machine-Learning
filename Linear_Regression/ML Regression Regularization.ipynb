{
 "cells": [
  {
   "cell_type": "code",
   "execution_count": 1,
   "metadata": {},
   "outputs": [],
   "source": [
    "import numpy as np\n",
    "import os\n",
    "import pandas as pd\n",
    "from pandas import DataFrame,Series\n",
    "import matplotlib.pyplot as plt\n",
    "%matplotlib inline"
   ]
  },
  {
   "cell_type": "code",
   "execution_count": 2,
   "metadata": {},
   "outputs": [],
   "source": [
    "data=pd.read_csv('Advertising.csv')"
   ]
  },
  {
   "cell_type": "markdown",
   "metadata": {},
   "source": [
    "We will build a couple of models and observe the behaviour of RSS.\n",
    "Let's define a few models:\n",
    "1. Model_1=$Sales=\\beta_0+\\beta_1TV$\n",
    "2. Model_2=$Sales=\\beta_0+\\beta_1Radio$\n",
    "3. Model_3=$Sales=\\beta_0+\\beta_1Newspaper$\n",
    "4. Model_4=$Sales=\\beta_0+\\beta_1TV+\\beta_2Radio$\n",
    "5. Model_5=$Sales=\\beta_0+\\beta_1TV+\\beta_2Newspaper$\n",
    "6. Model_6=$Sales=\\beta_0+\\beta_1Radio+\\beta_2Newspaper$\n",
    "7. Model_7=$Sales=\\beta_0+\\beta_1TV+\\beta_2Radio+\\beta_3Newspaper$"
   ]
  },
  {
   "cell_type": "code",
   "execution_count": 3,
   "metadata": {},
   "outputs": [],
   "source": [
    "data.drop(\"Unnamed: 0\",axis=1,inplace=True)"
   ]
  },
  {
   "cell_type": "code",
   "execution_count": 4,
   "metadata": {},
   "outputs": [
    {
     "name": "stdout",
     "output_type": "stream",
     "text": [
      "      TV  Radio  Newspaper  Sales\n",
      "0  230.1   37.8       69.2   22.1\n",
      "1   44.5   39.3       45.1   10.4\n",
      "2   17.2   45.9       69.3    9.3\n",
      "3  151.5   41.3       58.5   18.5\n",
      "4  180.8   10.8       58.4   12.9\n"
     ]
    }
   ],
   "source": [
    "print(data.head())"
   ]
  },
  {
   "cell_type": "code",
   "execution_count": 6,
   "metadata": {},
   "outputs": [],
   "source": [
    "X=data[['TV','Radio','Newspaper']]\n",
    "Y=data['Sales']"
   ]
  },
  {
   "cell_type": "code",
   "execution_count": 7,
   "metadata": {},
   "outputs": [],
   "source": [
    "#X['Ones']=np.repeat(1,X.shape[0])\n",
    "X=X[['TV','Radio','Newspaper']]"
   ]
  },
  {
   "cell_type": "code",
   "execution_count": 8,
   "metadata": {},
   "outputs": [],
   "source": [
    "import sklearn.linear_model as linear_model"
   ]
  },
  {
   "cell_type": "code",
   "execution_count": 9,
   "metadata": {},
   "outputs": [],
   "source": [
    "reg=linear_model.LinearRegression()"
   ]
  },
  {
   "cell_type": "code",
   "execution_count": 10,
   "metadata": {},
   "outputs": [],
   "source": [
    "Model_1=linear_model.LinearRegression(fit_intercept=True)\n",
    "Model_2=linear_model.LinearRegression(fit_intercept=True)\n",
    "Model_3=linear_model.LinearRegression(fit_intercept=True)\n",
    "Model_4=linear_model.LinearRegression(fit_intercept=True)\n",
    "Model_5=linear_model.LinearRegression(fit_intercept=True)\n",
    "Model_6=linear_model.LinearRegression(fit_intercept=True)\n",
    "Model_7=linear_model.LinearRegression(fit_intercept=True)\n",
    "Model_1=Model_1.fit(X[['TV']],Y)\n",
    "Model_2=Model_2.fit(X[['Radio']],Y)\n",
    "Model_3=Model_3.fit(X[['Newspaper']],Y)\n",
    "Model_4=Model_4.fit(X[['TV','Radio']],Y)\n",
    "Model_5=Model_5.fit(X[['TV','Newspaper']],Y)\n",
    "Model_6=Model_6.fit(X[['Radio','Newspaper']],Y)\n",
    "Model_7=Model_7.fit(X,Y)"
   ]
  },
  {
   "cell_type": "code",
   "execution_count": 11,
   "metadata": {},
   "outputs": [],
   "source": [
    "loss=[]"
   ]
  },
  {
   "cell_type": "code",
   "execution_count": 12,
   "metadata": {},
   "outputs": [],
   "source": [
    "loss.append(np.sum((Y-Model_3.predict(X[['Newspaper']]))**2))"
   ]
  },
  {
   "cell_type": "code",
   "execution_count": 13,
   "metadata": {},
   "outputs": [],
   "source": [
    "loss.append(np.sum((Y-Model_4.predict(X[['TV','Radio']]))**2))"
   ]
  },
  {
   "cell_type": "code",
   "execution_count": 14,
   "metadata": {},
   "outputs": [],
   "source": [
    "loss.append(np.sum((Y-Model_7.predict(X))**2))"
   ]
  },
  {
   "cell_type": "code",
   "execution_count": 15,
   "metadata": {},
   "outputs": [],
   "source": [
    "loss=Series(loss,index=['One Variable','Two Variables','Three Variables'])"
   ]
  },
  {
   "cell_type": "code",
   "execution_count": 16,
   "metadata": {},
   "outputs": [
    {
     "name": "stdout",
     "output_type": "stream",
     "text": [
      "One Variable       5134.804544\n",
      "Two Variables       556.913980\n",
      "Three Variables     556.825263\n",
      "dtype: float64\n"
     ]
    }
   ],
   "source": [
    "print(loss)"
   ]
  },
  {
   "cell_type": "code",
   "execution_count": 17,
   "metadata": {},
   "outputs": [
    {
     "data": {
      "text/plain": [
       "<matplotlib.axes._subplots.AxesSubplot at 0x2f52c44a898>"
      ]
     },
     "execution_count": 17,
     "metadata": {},
     "output_type": "execute_result"
    },
    {
     "data": {
      "image/png": "[encoded data removed]",
      "text/plain": [
       "<Figure size 432x288 with 1 Axes>"
      ]
     },
     "metadata": {},
     "output_type": "display_data"
    }
   ],
   "source": [
    "loss.plot.bar(color='green')"
   ]
  },
  {
   "cell_type": "markdown",
   "metadata": {},
   "source": [
    "#### So, as you can see as I increase the number of predictors in my data, my RSS seems to be decreasing as is evidenced by this graph here."
   ]
  }
 ],
 "metadata": {
  "anaconda-cloud": {},
  "kernelspec": {
   "display_name": "Python 3",
   "language": "python",
   "name": "python3"
  },
  "language_info": {
   "codemirror_mode": {
    "name": "ipython",
    "version": 3
   },
   "file_extension": ".py",
   "mimetype": "text/x-python",
   "name": "python",
   "nbconvert_exporter": "python",
   "pygments_lexer": "ipython3",
   "version": "3.6.5"
  }
 },
 "nbformat": 4,
 "nbformat_minor": 1
}
