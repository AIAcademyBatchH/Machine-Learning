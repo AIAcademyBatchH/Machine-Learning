{
 "cells": [
  {
   "cell_type": "code",
   "execution_count": 1,
   "id": "76ebd484",
   "metadata": {},
   "outputs": [],
   "source": [
    "import pandas as pd\n",
    "import numpy as np\n",
    "import os\n",
    "import matplotlib.pyplot as plt\n",
    "%matplotlib inline"
   ]
  },
  {
   "cell_type": "code",
   "execution_count": 123,
   "id": "8faae25f",
   "metadata": {},
   "outputs": [],
   "source": [
    "from sklearn.model_selection import train_test_split,GridSearchCV"
   ]
  },
  {
   "cell_type": "code",
   "execution_count": 22,
   "id": "2188918f",
   "metadata": {},
   "outputs": [],
   "source": [
    "import statsmodels.api as sm"
   ]
  },
  {
   "cell_type": "code",
   "execution_count": 55,
   "id": "06f4d279",
   "metadata": {},
   "outputs": [],
   "source": [
    "import sklearn.metrics as metrics\n",
    "from sklearn.metrics import confusion_matrix, classification_report, accuracy_score, roc_curve, roc_auc_score"
   ]
  },
  {
   "cell_type": "code",
   "execution_count": 90,
   "id": "20882d4f",
   "metadata": {},
   "outputs": [],
   "source": [
    "import sklearn.feature_extraction.text as text"
   ]
  },
  {
   "cell_type": "code",
   "execution_count": 111,
   "id": "657a42ea",
   "metadata": {},
   "outputs": [],
   "source": [
    "import sklearn.linear_model as linear_model"
   ]
  },
  {
   "cell_type": "code",
   "execution_count": 2,
   "id": "3c525281",
   "metadata": {},
   "outputs": [],
   "source": [
    "data = pd.read_csv('dm.csv',na_values=[\"\", \" \", \"NA\", \"N/A\"])"
   ]
  },
  {
   "cell_type": "code",
   "execution_count": 3,
   "id": "3eb1c852",
   "metadata": {},
   "outputs": [
    {
     "data": {
      "text/html": [
       "<div>\n",
       "<style scoped>\n",
       "    .dataframe tbody tr th:only-of-type {\n",
       "        vertical-align: middle;\n",
       "    }\n",
       "\n",
       "    .dataframe tbody tr th {\n",
       "        vertical-align: top;\n",
       "    }\n",
       "\n",
       "    .dataframe thead th {\n",
       "        text-align: right;\n",
       "    }\n",
       "</style>\n",
       "<table border=\"1\" class=\"dataframe\">\n",
       "  <thead>\n",
       "    <tr style=\"text-align: right;\">\n",
       "      <th></th>\n",
       "      <th>Age</th>\n",
       "      <th>Gender</th>\n",
       "      <th>OwnHome</th>\n",
       "      <th>Married</th>\n",
       "      <th>Location</th>\n",
       "      <th>Salary</th>\n",
       "      <th>Children</th>\n",
       "      <th>History</th>\n",
       "      <th>Catalogs</th>\n",
       "      <th>AmountSpent</th>\n",
       "      <th>Cust_Id</th>\n",
       "    </tr>\n",
       "  </thead>\n",
       "  <tbody>\n",
       "    <tr>\n",
       "      <th>0</th>\n",
       "      <td>Old</td>\n",
       "      <td>Female</td>\n",
       "      <td>Own</td>\n",
       "      <td>Single</td>\n",
       "      <td>Far</td>\n",
       "      <td>47500</td>\n",
       "      <td>0</td>\n",
       "      <td>High</td>\n",
       "      <td>6</td>\n",
       "      <td>755</td>\n",
       "      <td>247</td>\n",
       "    </tr>\n",
       "    <tr>\n",
       "      <th>1</th>\n",
       "      <td>Middle</td>\n",
       "      <td>Male</td>\n",
       "      <td>Rent</td>\n",
       "      <td>Single</td>\n",
       "      <td>Close</td>\n",
       "      <td>63600</td>\n",
       "      <td>0</td>\n",
       "      <td>High</td>\n",
       "      <td>6</td>\n",
       "      <td>1318</td>\n",
       "      <td>127</td>\n",
       "    </tr>\n",
       "    <tr>\n",
       "      <th>2</th>\n",
       "      <td>Young</td>\n",
       "      <td>Female</td>\n",
       "      <td>Rent</td>\n",
       "      <td>Single</td>\n",
       "      <td>Close</td>\n",
       "      <td>13500</td>\n",
       "      <td>0</td>\n",
       "      <td>Low</td>\n",
       "      <td>18</td>\n",
       "      <td>296</td>\n",
       "      <td>479</td>\n",
       "    </tr>\n",
       "    <tr>\n",
       "      <th>3</th>\n",
       "      <td>Middle</td>\n",
       "      <td>Male</td>\n",
       "      <td>Own</td>\n",
       "      <td>Married</td>\n",
       "      <td>Close</td>\n",
       "      <td>85600</td>\n",
       "      <td>1</td>\n",
       "      <td>High</td>\n",
       "      <td>18</td>\n",
       "      <td>2436</td>\n",
       "      <td>475</td>\n",
       "    </tr>\n",
       "    <tr>\n",
       "      <th>4</th>\n",
       "      <td>Middle</td>\n",
       "      <td>Female</td>\n",
       "      <td>Own</td>\n",
       "      <td>Single</td>\n",
       "      <td>Close</td>\n",
       "      <td>68400</td>\n",
       "      <td>0</td>\n",
       "      <td>High</td>\n",
       "      <td>12</td>\n",
       "      <td>1304</td>\n",
       "      <td>151</td>\n",
       "    </tr>\n",
       "  </tbody>\n",
       "</table>\n",
       "</div>"
      ],
      "text/plain": [
       "      Age  Gender OwnHome  Married Location  Salary  Children History  \\\n",
       "0     Old  Female     Own   Single      Far   47500         0    High   \n",
       "1  Middle    Male    Rent   Single    Close   63600         0    High   \n",
       "2   Young  Female    Rent   Single    Close   13500         0     Low   \n",
       "3  Middle    Male     Own  Married    Close   85600         1    High   \n",
       "4  Middle  Female     Own   Single    Close   68400         0    High   \n",
       "\n",
       "   Catalogs  AmountSpent  Cust_Id  \n",
       "0         6          755      247  \n",
       "1         6         1318      127  \n",
       "2        18          296      479  \n",
       "3        18         2436      475  \n",
       "4        12         1304      151  "
      ]
     },
     "execution_count": 3,
     "metadata": {},
     "output_type": "execute_result"
    }
   ],
   "source": [
    "data.head()"
   ]
  },
  {
   "cell_type": "code",
   "execution_count": 4,
   "id": "d1c32431",
   "metadata": {},
   "outputs": [],
   "source": [
    "data['Target'] = data['AmountSpent'].map(lambda x: 1 if x>data['AmountSpent'].mean() else 0)"
   ]
  },
  {
   "cell_type": "code",
   "execution_count": 6,
   "id": "4a72afad",
   "metadata": {},
   "outputs": [],
   "source": [
    "data.drop('AmountSpent',axis=1,inplace=True)"
   ]
  },
  {
   "cell_type": "code",
   "execution_count": 7,
   "id": "6ef7c63c",
   "metadata": {},
   "outputs": [
    {
     "data": {
      "text/html": [
       "<div>\n",
       "<style scoped>\n",
       "    .dataframe tbody tr th:only-of-type {\n",
       "        vertical-align: middle;\n",
       "    }\n",
       "\n",
       "    .dataframe tbody tr th {\n",
       "        vertical-align: top;\n",
       "    }\n",
       "\n",
       "    .dataframe thead th {\n",
       "        text-align: right;\n",
       "    }\n",
       "</style>\n",
       "<table border=\"1\" class=\"dataframe\">\n",
       "  <thead>\n",
       "    <tr style=\"text-align: right;\">\n",
       "      <th></th>\n",
       "      <th>Age</th>\n",
       "      <th>Gender</th>\n",
       "      <th>OwnHome</th>\n",
       "      <th>Married</th>\n",
       "      <th>Location</th>\n",
       "      <th>Salary</th>\n",
       "      <th>Children</th>\n",
       "      <th>History</th>\n",
       "      <th>Catalogs</th>\n",
       "      <th>Cust_Id</th>\n",
       "      <th>Target</th>\n",
       "    </tr>\n",
       "  </thead>\n",
       "  <tbody>\n",
       "    <tr>\n",
       "      <th>0</th>\n",
       "      <td>Old</td>\n",
       "      <td>Female</td>\n",
       "      <td>Own</td>\n",
       "      <td>Single</td>\n",
       "      <td>Far</td>\n",
       "      <td>47500</td>\n",
       "      <td>0</td>\n",
       "      <td>High</td>\n",
       "      <td>6</td>\n",
       "      <td>247</td>\n",
       "      <td>0</td>\n",
       "    </tr>\n",
       "    <tr>\n",
       "      <th>1</th>\n",
       "      <td>Middle</td>\n",
       "      <td>Male</td>\n",
       "      <td>Rent</td>\n",
       "      <td>Single</td>\n",
       "      <td>Close</td>\n",
       "      <td>63600</td>\n",
       "      <td>0</td>\n",
       "      <td>High</td>\n",
       "      <td>6</td>\n",
       "      <td>127</td>\n",
       "      <td>1</td>\n",
       "    </tr>\n",
       "    <tr>\n",
       "      <th>2</th>\n",
       "      <td>Young</td>\n",
       "      <td>Female</td>\n",
       "      <td>Rent</td>\n",
       "      <td>Single</td>\n",
       "      <td>Close</td>\n",
       "      <td>13500</td>\n",
       "      <td>0</td>\n",
       "      <td>Low</td>\n",
       "      <td>18</td>\n",
       "      <td>479</td>\n",
       "      <td>0</td>\n",
       "    </tr>\n",
       "    <tr>\n",
       "      <th>3</th>\n",
       "      <td>Middle</td>\n",
       "      <td>Male</td>\n",
       "      <td>Own</td>\n",
       "      <td>Married</td>\n",
       "      <td>Close</td>\n",
       "      <td>85600</td>\n",
       "      <td>1</td>\n",
       "      <td>High</td>\n",
       "      <td>18</td>\n",
       "      <td>475</td>\n",
       "      <td>1</td>\n",
       "    </tr>\n",
       "    <tr>\n",
       "      <th>4</th>\n",
       "      <td>Middle</td>\n",
       "      <td>Female</td>\n",
       "      <td>Own</td>\n",
       "      <td>Single</td>\n",
       "      <td>Close</td>\n",
       "      <td>68400</td>\n",
       "      <td>0</td>\n",
       "      <td>High</td>\n",
       "      <td>12</td>\n",
       "      <td>151</td>\n",
       "      <td>1</td>\n",
       "    </tr>\n",
       "  </tbody>\n",
       "</table>\n",
       "</div>"
      ],
      "text/plain": [
       "      Age  Gender OwnHome  Married Location  Salary  Children History  \\\n",
       "0     Old  Female     Own   Single      Far   47500         0    High   \n",
       "1  Middle    Male    Rent   Single    Close   63600         0    High   \n",
       "2   Young  Female    Rent   Single    Close   13500         0     Low   \n",
       "3  Middle    Male     Own  Married    Close   85600         1    High   \n",
       "4  Middle  Female     Own   Single    Close   68400         0    High   \n",
       "\n",
       "   Catalogs  Cust_Id  Target  \n",
       "0         6      247       0  \n",
       "1         6      127       1  \n",
       "2        18      479       0  \n",
       "3        18      475       1  \n",
       "4        12      151       1  "
      ]
     },
     "execution_count": 7,
     "metadata": {},
     "output_type": "execute_result"
    }
   ],
   "source": [
    "data.head()"
   ]
  },
  {
   "cell_type": "code",
   "execution_count": 10,
   "id": "74023241",
   "metadata": {},
   "outputs": [
    {
     "data": {
      "text/plain": [
       "(1000, 11)"
      ]
     },
     "execution_count": 10,
     "metadata": {},
     "output_type": "execute_result"
    }
   ],
   "source": [
    "data.shape"
   ]
  },
  {
   "cell_type": "code",
   "execution_count": 8,
   "id": "8bcf9d31",
   "metadata": {},
   "outputs": [
    {
     "data": {
      "text/plain": [
       "High      255\n",
       "Low       230\n",
       "Medium    212\n",
       "Name: History, dtype: int64"
      ]
     },
     "execution_count": 8,
     "metadata": {},
     "output_type": "execute_result"
    }
   ],
   "source": [
    "data['History'].value_counts()"
   ]
  },
  {
   "cell_type": "code",
   "execution_count": 9,
   "id": "89528ef3",
   "metadata": {},
   "outputs": [
    {
     "data": {
      "text/plain": [
       "303"
      ]
     },
     "execution_count": 9,
     "metadata": {},
     "output_type": "execute_result"
    }
   ],
   "source": [
    "data['History'].isnull().sum()"
   ]
  },
  {
   "cell_type": "code",
   "execution_count": 11,
   "id": "0e69911d",
   "metadata": {},
   "outputs": [],
   "source": [
    "data['History'] = data['History'].fillna('NewCust')"
   ]
  },
  {
   "cell_type": "code",
   "execution_count": 12,
   "id": "3ae17d61",
   "metadata": {},
   "outputs": [
    {
     "data": {
      "text/plain": [
       "NewCust    303\n",
       "High       255\n",
       "Low        230\n",
       "Medium     212\n",
       "Name: History, dtype: int64"
      ]
     },
     "execution_count": 12,
     "metadata": {},
     "output_type": "execute_result"
    }
   ],
   "source": [
    "data['History'].value_counts()"
   ]
  },
  {
   "cell_type": "code",
   "execution_count": 13,
   "id": "c7ac895f",
   "metadata": {},
   "outputs": [
    {
     "data": {
      "text/plain": [
       "Index(['Age', 'Gender', 'OwnHome', 'Married', 'Location', 'Salary', 'Children',\n",
       "       'History', 'Catalogs', 'Cust_Id', 'Target'],\n",
       "      dtype='object')"
      ]
     },
     "execution_count": 13,
     "metadata": {},
     "output_type": "execute_result"
    }
   ],
   "source": [
    "data.columns"
   ]
  },
  {
   "cell_type": "code",
   "execution_count": 14,
   "id": "96b5436c",
   "metadata": {},
   "outputs": [],
   "source": [
    "data = pd.get_dummies(data, columns=['Age', 'Gender', 'OwnHome', 'Married', 'Location', 'History'],prefix='class')"
   ]
  },
  {
   "cell_type": "code",
   "execution_count": 15,
   "id": "1b3aa109",
   "metadata": {},
   "outputs": [
    {
     "data": {
      "text/html": [
       "<div>\n",
       "<style scoped>\n",
       "    .dataframe tbody tr th:only-of-type {\n",
       "        vertical-align: middle;\n",
       "    }\n",
       "\n",
       "    .dataframe tbody tr th {\n",
       "        vertical-align: top;\n",
       "    }\n",
       "\n",
       "    .dataframe thead th {\n",
       "        text-align: right;\n",
       "    }\n",
       "</style>\n",
       "<table border=\"1\" class=\"dataframe\">\n",
       "  <thead>\n",
       "    <tr style=\"text-align: right;\">\n",
       "      <th></th>\n",
       "      <th>Salary</th>\n",
       "      <th>Children</th>\n",
       "      <th>Catalogs</th>\n",
       "      <th>Cust_Id</th>\n",
       "      <th>Target</th>\n",
       "      <th>class_Middle</th>\n",
       "      <th>class_Old</th>\n",
       "      <th>class_Young</th>\n",
       "      <th>class_Female</th>\n",
       "      <th>class_Male</th>\n",
       "      <th>class_Own</th>\n",
       "      <th>class_Rent</th>\n",
       "      <th>class_Married</th>\n",
       "      <th>class_Single</th>\n",
       "      <th>class_Close</th>\n",
       "      <th>class_Far</th>\n",
       "      <th>class_High</th>\n",
       "      <th>class_Low</th>\n",
       "      <th>class_Medium</th>\n",
       "      <th>class_NewCust</th>\n",
       "    </tr>\n",
       "  </thead>\n",
       "  <tbody>\n",
       "    <tr>\n",
       "      <th>0</th>\n",
       "      <td>47500</td>\n",
       "      <td>0</td>\n",
       "      <td>6</td>\n",
       "      <td>247</td>\n",
       "      <td>0</td>\n",
       "      <td>0</td>\n",
       "      <td>1</td>\n",
       "      <td>0</td>\n",
       "      <td>1</td>\n",
       "      <td>0</td>\n",
       "      <td>1</td>\n",
       "      <td>0</td>\n",
       "      <td>0</td>\n",
       "      <td>1</td>\n",
       "      <td>0</td>\n",
       "      <td>1</td>\n",
       "      <td>1</td>\n",
       "      <td>0</td>\n",
       "      <td>0</td>\n",
       "      <td>0</td>\n",
       "    </tr>\n",
       "    <tr>\n",
       "      <th>1</th>\n",
       "      <td>63600</td>\n",
       "      <td>0</td>\n",
       "      <td>6</td>\n",
       "      <td>127</td>\n",
       "      <td>1</td>\n",
       "      <td>1</td>\n",
       "      <td>0</td>\n",
       "      <td>0</td>\n",
       "      <td>0</td>\n",
       "      <td>1</td>\n",
       "      <td>0</td>\n",
       "      <td>1</td>\n",
       "      <td>0</td>\n",
       "      <td>1</td>\n",
       "      <td>1</td>\n",
       "      <td>0</td>\n",
       "      <td>1</td>\n",
       "      <td>0</td>\n",
       "      <td>0</td>\n",
       "      <td>0</td>\n",
       "    </tr>\n",
       "    <tr>\n",
       "      <th>2</th>\n",
       "      <td>13500</td>\n",
       "      <td>0</td>\n",
       "      <td>18</td>\n",
       "      <td>479</td>\n",
       "      <td>0</td>\n",
       "      <td>0</td>\n",
       "      <td>0</td>\n",
       "      <td>1</td>\n",
       "      <td>1</td>\n",
       "      <td>0</td>\n",
       "      <td>0</td>\n",
       "      <td>1</td>\n",
       "      <td>0</td>\n",
       "      <td>1</td>\n",
       "      <td>1</td>\n",
       "      <td>0</td>\n",
       "      <td>0</td>\n",
       "      <td>1</td>\n",
       "      <td>0</td>\n",
       "      <td>0</td>\n",
       "    </tr>\n",
       "    <tr>\n",
       "      <th>3</th>\n",
       "      <td>85600</td>\n",
       "      <td>1</td>\n",
       "      <td>18</td>\n",
       "      <td>475</td>\n",
       "      <td>1</td>\n",
       "      <td>1</td>\n",
       "      <td>0</td>\n",
       "      <td>0</td>\n",
       "      <td>0</td>\n",
       "      <td>1</td>\n",
       "      <td>1</td>\n",
       "      <td>0</td>\n",
       "      <td>1</td>\n",
       "      <td>0</td>\n",
       "      <td>1</td>\n",
       "      <td>0</td>\n",
       "      <td>1</td>\n",
       "      <td>0</td>\n",
       "      <td>0</td>\n",
       "      <td>0</td>\n",
       "    </tr>\n",
       "    <tr>\n",
       "      <th>4</th>\n",
       "      <td>68400</td>\n",
       "      <td>0</td>\n",
       "      <td>12</td>\n",
       "      <td>151</td>\n",
       "      <td>1</td>\n",
       "      <td>1</td>\n",
       "      <td>0</td>\n",
       "      <td>0</td>\n",
       "      <td>1</td>\n",
       "      <td>0</td>\n",
       "      <td>1</td>\n",
       "      <td>0</td>\n",
       "      <td>0</td>\n",
       "      <td>1</td>\n",
       "      <td>1</td>\n",
       "      <td>0</td>\n",
       "      <td>1</td>\n",
       "      <td>0</td>\n",
       "      <td>0</td>\n",
       "      <td>0</td>\n",
       "    </tr>\n",
       "  </tbody>\n",
       "</table>\n",
       "</div>"
      ],
      "text/plain": [
       "   Salary  Children  Catalogs  Cust_Id  Target  class_Middle  class_Old  \\\n",
       "0   47500         0         6      247       0             0          1   \n",
       "1   63600         0         6      127       1             1          0   \n",
       "2   13500         0        18      479       0             0          0   \n",
       "3   85600         1        18      475       1             1          0   \n",
       "4   68400         0        12      151       1             1          0   \n",
       "\n",
       "   class_Young  class_Female  class_Male  class_Own  class_Rent  \\\n",
       "0            0             1           0          1           0   \n",
       "1            0             0           1          0           1   \n",
       "2            1             1           0          0           1   \n",
       "3            0             0           1          1           0   \n",
       "4            0             1           0          1           0   \n",
       "\n",
       "   class_Married  class_Single  class_Close  class_Far  class_High  class_Low  \\\n",
       "0              0             1            0          1           1          0   \n",
       "1              0             1            1          0           1          0   \n",
       "2              0             1            1          0           0          1   \n",
       "3              1             0            1          0           1          0   \n",
       "4              0             1            1          0           1          0   \n",
       "\n",
       "   class_Medium  class_NewCust  \n",
       "0             0              0  \n",
       "1             0              0  \n",
       "2             0              0  \n",
       "3             0              0  \n",
       "4             0              0  "
      ]
     },
     "execution_count": 15,
     "metadata": {},
     "output_type": "execute_result"
    }
   ],
   "source": [
    "data.head()"
   ]
  },
  {
   "cell_type": "code",
   "execution_count": 16,
   "id": "6f77c6a3",
   "metadata": {},
   "outputs": [
    {
     "data": {
      "text/plain": [
       "Index(['Salary', 'Children', 'Catalogs', 'Cust_Id', 'Target', 'class_Middle',\n",
       "       'class_Old', 'class_Young', 'class_Female', 'class_Male', 'class_Own',\n",
       "       'class_Rent', 'class_Married', 'class_Single', 'class_Close',\n",
       "       'class_Far', 'class_High', 'class_Low', 'class_Medium',\n",
       "       'class_NewCust'],\n",
       "      dtype='object')"
      ]
     },
     "execution_count": 16,
     "metadata": {},
     "output_type": "execute_result"
    }
   ],
   "source": [
    "data.columns"
   ]
  },
  {
   "cell_type": "code",
   "execution_count": 17,
   "id": "73a2f73a",
   "metadata": {},
   "outputs": [],
   "source": [
    "data.drop(['Cust_Id', 'class_Male', 'class_Rent', 'class_Single', 'class_Far'], axis=1, inplace=True)"
   ]
  },
  {
   "cell_type": "code",
   "execution_count": 18,
   "id": "3050c11f",
   "metadata": {},
   "outputs": [
    {
     "data": {
      "text/html": [
       "<div>\n",
       "<style scoped>\n",
       "    .dataframe tbody tr th:only-of-type {\n",
       "        vertical-align: middle;\n",
       "    }\n",
       "\n",
       "    .dataframe tbody tr th {\n",
       "        vertical-align: top;\n",
       "    }\n",
       "\n",
       "    .dataframe thead th {\n",
       "        text-align: right;\n",
       "    }\n",
       "</style>\n",
       "<table border=\"1\" class=\"dataframe\">\n",
       "  <thead>\n",
       "    <tr style=\"text-align: right;\">\n",
       "      <th></th>\n",
       "      <th>Salary</th>\n",
       "      <th>Children</th>\n",
       "      <th>Catalogs</th>\n",
       "      <th>Target</th>\n",
       "      <th>class_Middle</th>\n",
       "      <th>class_Old</th>\n",
       "      <th>class_Young</th>\n",
       "      <th>class_Female</th>\n",
       "      <th>class_Own</th>\n",
       "      <th>class_Married</th>\n",
       "      <th>class_Close</th>\n",
       "      <th>class_High</th>\n",
       "      <th>class_Low</th>\n",
       "      <th>class_Medium</th>\n",
       "      <th>class_NewCust</th>\n",
       "    </tr>\n",
       "  </thead>\n",
       "  <tbody>\n",
       "    <tr>\n",
       "      <th>0</th>\n",
       "      <td>47500</td>\n",
       "      <td>0</td>\n",
       "      <td>6</td>\n",
       "      <td>0</td>\n",
       "      <td>0</td>\n",
       "      <td>1</td>\n",
       "      <td>0</td>\n",
       "      <td>1</td>\n",
       "      <td>1</td>\n",
       "      <td>0</td>\n",
       "      <td>0</td>\n",
       "      <td>1</td>\n",
       "      <td>0</td>\n",
       "      <td>0</td>\n",
       "      <td>0</td>\n",
       "    </tr>\n",
       "    <tr>\n",
       "      <th>1</th>\n",
       "      <td>63600</td>\n",
       "      <td>0</td>\n",
       "      <td>6</td>\n",
       "      <td>1</td>\n",
       "      <td>1</td>\n",
       "      <td>0</td>\n",
       "      <td>0</td>\n",
       "      <td>0</td>\n",
       "      <td>0</td>\n",
       "      <td>0</td>\n",
       "      <td>1</td>\n",
       "      <td>1</td>\n",
       "      <td>0</td>\n",
       "      <td>0</td>\n",
       "      <td>0</td>\n",
       "    </tr>\n",
       "    <tr>\n",
       "      <th>2</th>\n",
       "      <td>13500</td>\n",
       "      <td>0</td>\n",
       "      <td>18</td>\n",
       "      <td>0</td>\n",
       "      <td>0</td>\n",
       "      <td>0</td>\n",
       "      <td>1</td>\n",
       "      <td>1</td>\n",
       "      <td>0</td>\n",
       "      <td>0</td>\n",
       "      <td>1</td>\n",
       "      <td>0</td>\n",
       "      <td>1</td>\n",
       "      <td>0</td>\n",
       "      <td>0</td>\n",
       "    </tr>\n",
       "    <tr>\n",
       "      <th>3</th>\n",
       "      <td>85600</td>\n",
       "      <td>1</td>\n",
       "      <td>18</td>\n",
       "      <td>1</td>\n",
       "      <td>1</td>\n",
       "      <td>0</td>\n",
       "      <td>0</td>\n",
       "      <td>0</td>\n",
       "      <td>1</td>\n",
       "      <td>1</td>\n",
       "      <td>1</td>\n",
       "      <td>1</td>\n",
       "      <td>0</td>\n",
       "      <td>0</td>\n",
       "      <td>0</td>\n",
       "    </tr>\n",
       "    <tr>\n",
       "      <th>4</th>\n",
       "      <td>68400</td>\n",
       "      <td>0</td>\n",
       "      <td>12</td>\n",
       "      <td>1</td>\n",
       "      <td>1</td>\n",
       "      <td>0</td>\n",
       "      <td>0</td>\n",
       "      <td>1</td>\n",
       "      <td>1</td>\n",
       "      <td>0</td>\n",
       "      <td>1</td>\n",
       "      <td>1</td>\n",
       "      <td>0</td>\n",
       "      <td>0</td>\n",
       "      <td>0</td>\n",
       "    </tr>\n",
       "  </tbody>\n",
       "</table>\n",
       "</div>"
      ],
      "text/plain": [
       "   Salary  Children  Catalogs  Target  class_Middle  class_Old  class_Young  \\\n",
       "0   47500         0         6       0             0          1            0   \n",
       "1   63600         0         6       1             1          0            0   \n",
       "2   13500         0        18       0             0          0            1   \n",
       "3   85600         1        18       1             1          0            0   \n",
       "4   68400         0        12       1             1          0            0   \n",
       "\n",
       "   class_Female  class_Own  class_Married  class_Close  class_High  class_Low  \\\n",
       "0             1          1              0            0           1          0   \n",
       "1             0          0              0            1           1          0   \n",
       "2             1          0              0            1           0          1   \n",
       "3             0          1              1            1           1          0   \n",
       "4             1          1              0            1           1          0   \n",
       "\n",
       "   class_Medium  class_NewCust  \n",
       "0             0              0  \n",
       "1             0              0  \n",
       "2             0              0  \n",
       "3             0              0  \n",
       "4             0              0  "
      ]
     },
     "execution_count": 18,
     "metadata": {},
     "output_type": "execute_result"
    }
   ],
   "source": [
    "data.head()"
   ]
  },
  {
   "cell_type": "code",
   "execution_count": 19,
   "id": "4b470792",
   "metadata": {},
   "outputs": [
    {
     "data": {
      "text/plain": [
       "(1000, 15)"
      ]
     },
     "execution_count": 19,
     "metadata": {},
     "output_type": "execute_result"
    }
   ],
   "source": [
    "data.shape"
   ]
  },
  {
   "cell_type": "code",
   "execution_count": 21,
   "id": "bbefc3fe",
   "metadata": {},
   "outputs": [],
   "source": [
    "xtrain, xtest, ytrain, ytest = train_test_split(data.drop('Target',axis=1),data['Target'],\\\n",
    "                                               test_size=0.2, random_state=42)"
   ]
  },
  {
   "cell_type": "code",
   "execution_count": 23,
   "id": "2141d72b",
   "metadata": {},
   "outputs": [],
   "source": [
    "xtrain = sm.add_constant(xtrain)\n",
    "xtest = sm.add_constant(xtest)"
   ]
  },
  {
   "cell_type": "code",
   "execution_count": 24,
   "id": "506c8a40",
   "metadata": {},
   "outputs": [],
   "source": [
    "model1 = sm.GLM(ytrain,xtrain,family=sm.families.Binomial()).fit()"
   ]
  },
  {
   "cell_type": "code",
   "execution_count": 25,
   "id": "9740d051",
   "metadata": {},
   "outputs": [
    {
     "data": {
      "text/html": [
       "<table class=\"simpletable\">\n",
       "<caption>Generalized Linear Model Regression Results</caption>\n",
       "<tr>\n",
       "  <th>Dep. Variable:</th>        <td>Target</td>      <th>  No. Observations:  </th>  <td>   800</td> \n",
       "</tr>\n",
       "<tr>\n",
       "  <th>Model:</th>                  <td>GLM</td>       <th>  Df Residuals:      </th>  <td>   787</td> \n",
       "</tr>\n",
       "<tr>\n",
       "  <th>Model Family:</th>        <td>Binomial</td>     <th>  Df Model:          </th>  <td>    12</td> \n",
       "</tr>\n",
       "<tr>\n",
       "  <th>Link Function:</th>         <td>logit</td>      <th>  Scale:             </th> <td>  1.0000</td>\n",
       "</tr>\n",
       "<tr>\n",
       "  <th>Method:</th>                <td>IRLS</td>       <th>  Log-Likelihood:    </th> <td> -193.34</td>\n",
       "</tr>\n",
       "<tr>\n",
       "  <th>Date:</th>            <td>Wed, 16 Feb 2022</td> <th>  Deviance:          </th> <td>  386.67</td>\n",
       "</tr>\n",
       "<tr>\n",
       "  <th>Time:</th>                <td>11:59:06</td>     <th>  Pearson chi2:      </th>  <td>  479.</td> \n",
       "</tr>\n",
       "<tr>\n",
       "  <th>No. Iterations:</th>         <td>24</td>        <th>                     </th>     <td> </td>   \n",
       "</tr>\n",
       "<tr>\n",
       "  <th>Covariance Type:</th>     <td>nonrobust</td>    <th>                     </th>     <td> </td>   \n",
       "</tr>\n",
       "</table>\n",
       "<table class=\"simpletable\">\n",
       "<tr>\n",
       "        <td></td>           <th>coef</th>     <th>std err</th>      <th>z</th>      <th>P>|z|</th>  <th>[0.025</th>    <th>0.975]</th>  \n",
       "</tr>\n",
       "<tr>\n",
       "  <th>const</th>         <td>   -7.4089</td> <td> 2108.820</td> <td>   -0.004</td> <td> 0.997</td> <td>-4140.620</td> <td> 4125.802</td>\n",
       "</tr>\n",
       "<tr>\n",
       "  <th>Salary</th>        <td> 6.857e-05</td> <td> 1.07e-05</td> <td>    6.401</td> <td> 0.000</td> <td> 4.76e-05</td> <td> 8.96e-05</td>\n",
       "</tr>\n",
       "<tr>\n",
       "  <th>Children</th>      <td>   -0.7417</td> <td>    0.177</td> <td>   -4.193</td> <td> 0.000</td> <td>   -1.088</td> <td>   -0.395</td>\n",
       "</tr>\n",
       "<tr>\n",
       "  <th>Catalogs</th>      <td>    0.2083</td> <td>    0.024</td> <td>    8.738</td> <td> 0.000</td> <td>    0.162</td> <td>    0.255</td>\n",
       "</tr>\n",
       "<tr>\n",
       "  <th>class_Middle</th>  <td>   -2.1876</td> <td>  702.940</td> <td>   -0.003</td> <td> 0.998</td> <td>-1379.925</td> <td> 1375.549</td>\n",
       "</tr>\n",
       "<tr>\n",
       "  <th>class_Old</th>     <td>   -2.1784</td> <td>  702.940</td> <td>   -0.003</td> <td> 0.998</td> <td>-1379.915</td> <td> 1375.559</td>\n",
       "</tr>\n",
       "<tr>\n",
       "  <th>class_Young</th>   <td>   -3.0429</td> <td>  702.940</td> <td>   -0.004</td> <td> 0.997</td> <td>-1380.780</td> <td> 1374.694</td>\n",
       "</tr>\n",
       "<tr>\n",
       "  <th>class_Female</th>  <td>   -0.3089</td> <td>    0.271</td> <td>   -1.141</td> <td> 0.254</td> <td>   -0.840</td> <td>    0.222</td>\n",
       "</tr>\n",
       "<tr>\n",
       "  <th>class_Own</th>     <td>    0.2163</td> <td>    0.300</td> <td>    0.720</td> <td> 0.471</td> <td>   -0.372</td> <td>    0.805</td>\n",
       "</tr>\n",
       "<tr>\n",
       "  <th>class_Married</th> <td>    0.1562</td> <td>    0.349</td> <td>    0.447</td> <td> 0.655</td> <td>   -0.528</td> <td>    0.840</td>\n",
       "</tr>\n",
       "<tr>\n",
       "  <th>class_Close</th>   <td>   -1.7830</td> <td>    0.346</td> <td>   -5.148</td> <td> 0.000</td> <td>   -2.462</td> <td>   -1.104</td>\n",
       "</tr>\n",
       "<tr>\n",
       "  <th>class_High</th>    <td>    4.5367</td> <td> 2811.760</td> <td>    0.002</td> <td> 0.999</td> <td>-5506.411</td> <td> 5515.484</td>\n",
       "</tr>\n",
       "<tr>\n",
       "  <th>class_Low</th>     <td>  -19.7524</td> <td> 1.05e+04</td> <td>   -0.002</td> <td> 0.999</td> <td>-2.07e+04</td> <td> 2.06e+04</td>\n",
       "</tr>\n",
       "<tr>\n",
       "  <th>class_Medium</th>  <td>    2.7703</td> <td> 2811.760</td> <td>    0.001</td> <td> 0.999</td> <td>-5508.177</td> <td> 5513.718</td>\n",
       "</tr>\n",
       "<tr>\n",
       "  <th>class_NewCust</th> <td>    5.0365</td> <td> 2811.760</td> <td>    0.002</td> <td> 0.999</td> <td>-5505.911</td> <td> 5515.984</td>\n",
       "</tr>\n",
       "</table>"
      ],
      "text/plain": [
       "<class 'statsmodels.iolib.summary.Summary'>\n",
       "\"\"\"\n",
       "                 Generalized Linear Model Regression Results                  \n",
       "==============================================================================\n",
       "Dep. Variable:                 Target   No. Observations:                  800\n",
       "Model:                            GLM   Df Residuals:                      787\n",
       "Model Family:                Binomial   Df Model:                           12\n",
       "Link Function:                  logit   Scale:                          1.0000\n",
       "Method:                          IRLS   Log-Likelihood:                -193.34\n",
       "Date:                Wed, 16 Feb 2022   Deviance:                       386.67\n",
       "Time:                        11:59:06   Pearson chi2:                     479.\n",
       "No. Iterations:                    24                                         \n",
       "Covariance Type:            nonrobust                                         \n",
       "=================================================================================\n",
       "                    coef    std err          z      P>|z|      [0.025      0.975]\n",
       "---------------------------------------------------------------------------------\n",
       "const            -7.4089   2108.820     -0.004      0.997   -4140.620    4125.802\n",
       "Salary         6.857e-05   1.07e-05      6.401      0.000    4.76e-05    8.96e-05\n",
       "Children         -0.7417      0.177     -4.193      0.000      -1.088      -0.395\n",
       "Catalogs          0.2083      0.024      8.738      0.000       0.162       0.255\n",
       "class_Middle     -2.1876    702.940     -0.003      0.998   -1379.925    1375.549\n",
       "class_Old        -2.1784    702.940     -0.003      0.998   -1379.915    1375.559\n",
       "class_Young      -3.0429    702.940     -0.004      0.997   -1380.780    1374.694\n",
       "class_Female     -0.3089      0.271     -1.141      0.254      -0.840       0.222\n",
       "class_Own         0.2163      0.300      0.720      0.471      -0.372       0.805\n",
       "class_Married     0.1562      0.349      0.447      0.655      -0.528       0.840\n",
       "class_Close      -1.7830      0.346     -5.148      0.000      -2.462      -1.104\n",
       "class_High        4.5367   2811.760      0.002      0.999   -5506.411    5515.484\n",
       "class_Low       -19.7524   1.05e+04     -0.002      0.999   -2.07e+04    2.06e+04\n",
       "class_Medium      2.7703   2811.760      0.001      0.999   -5508.177    5513.718\n",
       "class_NewCust     5.0365   2811.760      0.002      0.999   -5505.911    5515.984\n",
       "=================================================================================\n",
       "\"\"\""
      ]
     },
     "execution_count": 25,
     "metadata": {},
     "output_type": "execute_result"
    }
   ],
   "source": [
    "model1.summary()"
   ]
  },
  {
   "cell_type": "code",
   "execution_count": 26,
   "id": "e839cf59",
   "metadata": {},
   "outputs": [
    {
     "data": {
      "text/html": [
       "<table class=\"simpletable\">\n",
       "<tr>\n",
       "        <td>Model:</td>               <td>GLM</td>            <td>AIC:</td>        <td>412.6700</td> \n",
       "</tr>\n",
       "<tr>\n",
       "    <td>Link Function:</td>          <td>logit</td>           <td>BIC:</td>       <td>-4874.1194</td>\n",
       "</tr>\n",
       "<tr>\n",
       "  <td>Dependent Variable:</td>      <td>Target</td>      <td>Log-Likelihood:</td>   <td>-193.34</td> \n",
       "</tr>\n",
       "<tr>\n",
       "         <td>Date:</td>        <td>2022-02-16 11:59</td>    <td>LL-Null:</td>       <td>-542.20</td> \n",
       "</tr>\n",
       "<tr>\n",
       "   <td>No. Observations:</td>         <td>800</td>          <td>Deviance:</td>      <td>386.67</td>  \n",
       "</tr>\n",
       "<tr>\n",
       "       <td>Df Model:</td>             <td>12</td>         <td>Pearson chi2:</td>     <td>479.</td>   \n",
       "</tr>\n",
       "<tr>\n",
       "     <td>Df Residuals:</td>           <td>787</td>           <td>Scale:</td>        <td>1.0000</td>  \n",
       "</tr>\n",
       "<tr>\n",
       "        <td>Method:</td>             <td>IRLS</td>              <td></td>              <td></td>     \n",
       "</tr>\n",
       "</table>\n",
       "<table class=\"simpletable\">\n",
       "<tr>\n",
       "        <td></td>          <th>Coef.</th>   <th>Std.Err.</th>     <th>z</th>     <th>P>|z|</th>   <th>[0.025</th>      <th>0.975]</th>  \n",
       "</tr>\n",
       "<tr>\n",
       "  <th>const</th>          <td>-7.4089</td>  <td>2108.8197</td> <td>-0.0035</td> <td>0.9972</td> <td>-4140.6196</td>   <td>4125.8017</td>\n",
       "</tr>\n",
       "<tr>\n",
       "  <th>Salary</th>         <td>0.0001</td>    <td>0.0000</td>   <td>6.4011</td>  <td>0.0000</td>   <td>0.0000</td>      <td>0.0001</td>  \n",
       "</tr>\n",
       "<tr>\n",
       "  <th>Children</th>       <td>-0.7417</td>   <td>0.1769</td>   <td>-4.1930</td> <td>0.0000</td>   <td>-1.0885</td>     <td>-0.3950</td> \n",
       "</tr>\n",
       "<tr>\n",
       "  <th>Catalogs</th>       <td>0.2083</td>    <td>0.0238</td>   <td>8.7380</td>  <td>0.0000</td>   <td>0.1616</td>      <td>0.2550</td>  \n",
       "</tr>\n",
       "<tr>\n",
       "  <th>class_Middle</th>   <td>-2.1876</td>  <td>702.9399</td>  <td>-0.0031</td> <td>0.9975</td> <td>-1379.9246</td>   <td>1375.5494</td>\n",
       "</tr>\n",
       "<tr>\n",
       "  <th>class_Old</th>      <td>-2.1784</td>  <td>702.9399</td>  <td>-0.0031</td> <td>0.9975</td> <td>-1379.9154</td>   <td>1375.5585</td>\n",
       "</tr>\n",
       "<tr>\n",
       "  <th>class_Young</th>    <td>-3.0429</td>  <td>702.9399</td>  <td>-0.0043</td> <td>0.9965</td> <td>-1380.7798</td>   <td>1374.6941</td>\n",
       "</tr>\n",
       "<tr>\n",
       "  <th>class_Female</th>   <td>-0.3089</td>   <td>0.2708</td>   <td>-1.1406</td> <td>0.2541</td>   <td>-0.8397</td>     <td>0.2219</td>  \n",
       "</tr>\n",
       "<tr>\n",
       "  <th>class_Own</th>      <td>0.2163</td>    <td>0.3003</td>   <td>0.7202</td>  <td>0.4714</td>   <td>-0.3723</td>     <td>0.8049</td>  \n",
       "</tr>\n",
       "<tr>\n",
       "  <th>class_Married</th>  <td>0.1562</td>    <td>0.3490</td>   <td>0.4474</td>  <td>0.6546</td>   <td>-0.5279</td>     <td>0.8402</td>  \n",
       "</tr>\n",
       "<tr>\n",
       "  <th>class_Close</th>    <td>-1.7830</td>   <td>0.3463</td>   <td>-5.1482</td> <td>0.0000</td>   <td>-2.4618</td>     <td>-1.1042</td> \n",
       "</tr>\n",
       "<tr>\n",
       "  <th>class_High</th>     <td>4.5367</td>   <td>2811.7595</td> <td>0.0016</td>  <td>0.9987</td> <td>-5506.4107</td>   <td>5515.4841</td>\n",
       "</tr>\n",
       "<tr>\n",
       "  <th>class_Low</th>     <td>-19.7524</td> <td>10544.0982</td> <td>-0.0019</td> <td>0.9985</td> <td>-20685.8052</td> <td>20646.3003</td>\n",
       "</tr>\n",
       "<tr>\n",
       "  <th>class_Medium</th>   <td>2.7703</td>   <td>2811.7595</td> <td>0.0010</td>  <td>0.9992</td> <td>-5508.1771</td>   <td>5513.7177</td>\n",
       "</tr>\n",
       "<tr>\n",
       "  <th>class_NewCust</th>  <td>5.0365</td>   <td>2811.7595</td> <td>0.0018</td>  <td>0.9986</td> <td>-5505.9109</td>   <td>5515.9839</td>\n",
       "</tr>\n",
       "</table>"
      ],
      "text/plain": [
       "<class 'statsmodels.iolib.summary2.Summary'>\n",
       "\"\"\"\n",
       "                   Results: Generalized linear model\n",
       "=======================================================================\n",
       "Model:                  GLM                AIC:              412.6700  \n",
       "Link Function:          logit              BIC:              -4874.1194\n",
       "Dependent Variable:     Target             Log-Likelihood:   -193.34   \n",
       "Date:                   2022-02-16 11:59   LL-Null:          -542.20   \n",
       "No. Observations:       800                Deviance:         386.67    \n",
       "Df Model:               12                 Pearson chi2:     479.      \n",
       "Df Residuals:           787                Scale:            1.0000    \n",
       "Method:                 IRLS                                           \n",
       "-----------------------------------------------------------------------\n",
       "               Coef.    Std.Err.     z    P>|z|     [0.025     0.975]  \n",
       "-----------------------------------------------------------------------\n",
       "const          -7.4089  2108.8197 -0.0035 0.9972  -4140.6196  4125.8017\n",
       "Salary          0.0001     0.0000  6.4011 0.0000      0.0000     0.0001\n",
       "Children       -0.7417     0.1769 -4.1930 0.0000     -1.0885    -0.3950\n",
       "Catalogs        0.2083     0.0238  8.7380 0.0000      0.1616     0.2550\n",
       "class_Middle   -2.1876   702.9399 -0.0031 0.9975  -1379.9246  1375.5494\n",
       "class_Old      -2.1784   702.9399 -0.0031 0.9975  -1379.9154  1375.5585\n",
       "class_Young    -3.0429   702.9399 -0.0043 0.9965  -1380.7798  1374.6941\n",
       "class_Female   -0.3089     0.2708 -1.1406 0.2541     -0.8397     0.2219\n",
       "class_Own       0.2163     0.3003  0.7202 0.4714     -0.3723     0.8049\n",
       "class_Married   0.1562     0.3490  0.4474 0.6546     -0.5279     0.8402\n",
       "class_Close    -1.7830     0.3463 -5.1482 0.0000     -2.4618    -1.1042\n",
       "class_High      4.5367  2811.7595  0.0016 0.9987  -5506.4107  5515.4841\n",
       "class_Low     -19.7524 10544.0982 -0.0019 0.9985 -20685.8052 20646.3003\n",
       "class_Medium    2.7703  2811.7595  0.0010 0.9992  -5508.1771  5513.7177\n",
       "class_NewCust   5.0365  2811.7595  0.0018 0.9986  -5505.9109  5515.9839\n",
       "=======================================================================\n",
       "\n",
       "\"\"\""
      ]
     },
     "execution_count": 26,
     "metadata": {},
     "output_type": "execute_result"
    }
   ],
   "source": [
    "model1.summary2()"
   ]
  },
  {
   "cell_type": "code",
   "execution_count": 27,
   "id": "4734f057",
   "metadata": {},
   "outputs": [],
   "source": [
    "xtrain.drop(['class_Medium'],axis=1,inplace=True)\n",
    "xtest.drop(['class_Medium'],axis=1,inplace=True)"
   ]
  },
  {
   "cell_type": "code",
   "execution_count": 28,
   "id": "77f91518",
   "metadata": {},
   "outputs": [],
   "source": [
    "model2 = sm.GLM(ytrain,xtrain,family=sm.families.Binomial()).fit()"
   ]
  },
  {
   "cell_type": "code",
   "execution_count": 29,
   "id": "f8de899c",
   "metadata": {},
   "outputs": [
    {
     "data": {
      "text/html": [
       "<table class=\"simpletable\">\n",
       "<tr>\n",
       "        <td>Model:</td>               <td>GLM</td>            <td>AIC:</td>        <td>412.6700</td> \n",
       "</tr>\n",
       "<tr>\n",
       "    <td>Link Function:</td>          <td>logit</td>           <td>BIC:</td>       <td>-4874.1194</td>\n",
       "</tr>\n",
       "<tr>\n",
       "  <td>Dependent Variable:</td>      <td>Target</td>      <td>Log-Likelihood:</td>   <td>-193.34</td> \n",
       "</tr>\n",
       "<tr>\n",
       "         <td>Date:</td>        <td>2022-02-16 12:01</td>    <td>LL-Null:</td>       <td>-542.20</td> \n",
       "</tr>\n",
       "<tr>\n",
       "   <td>No. Observations:</td>         <td>800</td>          <td>Deviance:</td>      <td>386.67</td>  \n",
       "</tr>\n",
       "<tr>\n",
       "       <td>Df Model:</td>             <td>12</td>         <td>Pearson chi2:</td>     <td>479.</td>   \n",
       "</tr>\n",
       "<tr>\n",
       "     <td>Df Residuals:</td>           <td>787</td>           <td>Scale:</td>        <td>1.0000</td>  \n",
       "</tr>\n",
       "<tr>\n",
       "        <td>Method:</td>             <td>IRLS</td>              <td></td>              <td></td>     \n",
       "</tr>\n",
       "</table>\n",
       "<table class=\"simpletable\">\n",
       "<tr>\n",
       "        <td></td>          <th>Coef.</th>   <th>Std.Err.</th>     <th>z</th>     <th>P>|z|</th>   <th>[0.025</th>      <th>0.975]</th>  \n",
       "</tr>\n",
       "<tr>\n",
       "  <th>const</th>          <td>-5.3312</td>   <td>0.5666</td>   <td>-9.4084</td> <td>0.0000</td>   <td>-6.4418</td>     <td>-4.2206</td> \n",
       "</tr>\n",
       "<tr>\n",
       "  <th>Salary</th>         <td>0.0001</td>    <td>0.0000</td>   <td>6.4011</td>  <td>0.0000</td>   <td>0.0000</td>      <td>0.0001</td>  \n",
       "</tr>\n",
       "<tr>\n",
       "  <th>Children</th>       <td>-0.7417</td>   <td>0.1769</td>   <td>-4.1930</td> <td>0.0000</td>   <td>-1.0885</td>     <td>-0.3950</td> \n",
       "</tr>\n",
       "<tr>\n",
       "  <th>Catalogs</th>       <td>0.2083</td>    <td>0.0238</td>   <td>8.7380</td>  <td>0.0000</td>   <td>0.1616</td>      <td>0.2550</td>  \n",
       "</tr>\n",
       "<tr>\n",
       "  <th>class_Middle</th>   <td>-1.4950</td>   <td>0.3133</td>   <td>-4.7712</td> <td>0.0000</td>   <td>-2.1092</td>     <td>-0.8809</td> \n",
       "</tr>\n",
       "<tr>\n",
       "  <th>class_Old</th>      <td>-1.4859</td>   <td>0.3113</td>   <td>-4.7730</td> <td>0.0000</td>   <td>-2.0960</td>     <td>-0.8757</td> \n",
       "</tr>\n",
       "<tr>\n",
       "  <th>class_Young</th>    <td>-2.3503</td>   <td>0.3268</td>   <td>-7.1924</td> <td>0.0000</td>   <td>-2.9908</td>     <td>-1.7098</td> \n",
       "</tr>\n",
       "<tr>\n",
       "  <th>class_Female</th>   <td>-0.3089</td>   <td>0.2708</td>   <td>-1.1406</td> <td>0.2541</td>   <td>-0.8397</td>     <td>0.2219</td>  \n",
       "</tr>\n",
       "<tr>\n",
       "  <th>class_Own</th>      <td>0.2163</td>    <td>0.3003</td>   <td>0.7202</td>  <td>0.4714</td>   <td>-0.3723</td>     <td>0.8049</td>  \n",
       "</tr>\n",
       "<tr>\n",
       "  <th>class_Married</th>  <td>0.1562</td>    <td>0.3490</td>   <td>0.4474</td>  <td>0.6546</td>   <td>-0.5279</td>     <td>0.8402</td>  \n",
       "</tr>\n",
       "<tr>\n",
       "  <th>class_Close</th>    <td>-1.7830</td>   <td>0.3463</td>   <td>-5.1482</td> <td>0.0000</td>   <td>-2.4618</td>     <td>-1.1042</td> \n",
       "</tr>\n",
       "<tr>\n",
       "  <th>class_High</th>     <td>1.7664</td>    <td>0.4073</td>   <td>4.3368</td>  <td>0.0000</td>   <td>0.9681</td>      <td>2.5647</td>  \n",
       "</tr>\n",
       "<tr>\n",
       "  <th>class_Low</th>     <td>-22.5227</td> <td>13355.8577</td> <td>-0.0017</td> <td>0.9987</td> <td>-26199.5228</td> <td>26154.4774</td>\n",
       "</tr>\n",
       "<tr>\n",
       "  <th>class_NewCust</th>  <td>2.2662</td>    <td>0.3398</td>   <td>6.6690</td>  <td>0.0000</td>   <td>1.6002</td>      <td>2.9322</td>  \n",
       "</tr>\n",
       "</table>"
      ],
      "text/plain": [
       "<class 'statsmodels.iolib.summary2.Summary'>\n",
       "\"\"\"\n",
       "                   Results: Generalized linear model\n",
       "=======================================================================\n",
       "Model:                  GLM                AIC:              412.6700  \n",
       "Link Function:          logit              BIC:              -4874.1194\n",
       "Dependent Variable:     Target             Log-Likelihood:   -193.34   \n",
       "Date:                   2022-02-16 12:01   LL-Null:          -542.20   \n",
       "No. Observations:       800                Deviance:         386.67    \n",
       "Df Model:               12                 Pearson chi2:     479.      \n",
       "Df Residuals:           787                Scale:            1.0000    \n",
       "Method:                 IRLS                                           \n",
       "-----------------------------------------------------------------------\n",
       "               Coef.    Std.Err.     z    P>|z|     [0.025     0.975]  \n",
       "-----------------------------------------------------------------------\n",
       "const          -5.3312     0.5666 -9.4084 0.0000     -6.4418    -4.2206\n",
       "Salary          0.0001     0.0000  6.4011 0.0000      0.0000     0.0001\n",
       "Children       -0.7417     0.1769 -4.1930 0.0000     -1.0885    -0.3950\n",
       "Catalogs        0.2083     0.0238  8.7380 0.0000      0.1616     0.2550\n",
       "class_Middle   -1.4950     0.3133 -4.7712 0.0000     -2.1092    -0.8809\n",
       "class_Old      -1.4859     0.3113 -4.7730 0.0000     -2.0960    -0.8757\n",
       "class_Young    -2.3503     0.3268 -7.1924 0.0000     -2.9908    -1.7098\n",
       "class_Female   -0.3089     0.2708 -1.1406 0.2541     -0.8397     0.2219\n",
       "class_Own       0.2163     0.3003  0.7202 0.4714     -0.3723     0.8049\n",
       "class_Married   0.1562     0.3490  0.4474 0.6546     -0.5279     0.8402\n",
       "class_Close    -1.7830     0.3463 -5.1482 0.0000     -2.4618    -1.1042\n",
       "class_High      1.7664     0.4073  4.3368 0.0000      0.9681     2.5647\n",
       "class_Low     -22.5227 13355.8577 -0.0017 0.9987 -26199.5228 26154.4774\n",
       "class_NewCust   2.2662     0.3398  6.6690 0.0000      1.6002     2.9322\n",
       "=======================================================================\n",
       "\n",
       "\"\"\""
      ]
     },
     "execution_count": 29,
     "metadata": {},
     "output_type": "execute_result"
    }
   ],
   "source": [
    "model2.summary2()"
   ]
  },
  {
   "cell_type": "code",
   "execution_count": 30,
   "id": "fc4f7700",
   "metadata": {},
   "outputs": [],
   "source": [
    "xtrain.drop(['class_Low'],axis=1,inplace=True)\n",
    "xtest.drop(['class_Low'],axis=1,inplace=True)"
   ]
  },
  {
   "cell_type": "code",
   "execution_count": 31,
   "id": "17ed8a0d",
   "metadata": {},
   "outputs": [],
   "source": [
    "model3 = sm.GLM(ytrain,xtrain,family=sm.families.Binomial()).fit()"
   ]
  },
  {
   "cell_type": "code",
   "execution_count": 32,
   "id": "8f213c1f",
   "metadata": {},
   "outputs": [
    {
     "data": {
      "text/html": [
       "<table class=\"simpletable\">\n",
       "<tr>\n",
       "        <td>Model:</td>               <td>GLM</td>            <td>AIC:</td>        <td>421.9369</td> \n",
       "</tr>\n",
       "<tr>\n",
       "    <td>Link Function:</td>          <td>logit</td>           <td>BIC:</td>       <td>-4869.5371</td>\n",
       "</tr>\n",
       "<tr>\n",
       "  <td>Dependent Variable:</td>      <td>Target</td>      <td>Log-Likelihood:</td>   <td>-198.97</td> \n",
       "</tr>\n",
       "<tr>\n",
       "         <td>Date:</td>        <td>2022-02-16 12:02</td>    <td>LL-Null:</td>       <td>-542.20</td> \n",
       "</tr>\n",
       "<tr>\n",
       "   <td>No. Observations:</td>         <td>800</td>          <td>Deviance:</td>      <td>397.94</td>  \n",
       "</tr>\n",
       "<tr>\n",
       "       <td>Df Model:</td>             <td>11</td>         <td>Pearson chi2:</td>     <td>537.</td>   \n",
       "</tr>\n",
       "<tr>\n",
       "     <td>Df Residuals:</td>           <td>788</td>           <td>Scale:</td>        <td>1.0000</td>  \n",
       "</tr>\n",
       "<tr>\n",
       "        <td>Method:</td>             <td>IRLS</td>              <td></td>              <td></td>     \n",
       "</tr>\n",
       "</table>\n",
       "<table class=\"simpletable\">\n",
       "<tr>\n",
       "        <td></td>         <th>Coef.</th>  <th>Std.Err.</th>    <th>z</th>     <th>P>|z|</th> <th>[0.025</th>  <th>0.975]</th> \n",
       "</tr>\n",
       "<tr>\n",
       "  <th>const</th>         <td>-5.4100</td>  <td>0.5452</td>  <td>-9.9227</td> <td>0.0000</td> <td>-6.4786</td> <td>-4.3414</td>\n",
       "</tr>\n",
       "<tr>\n",
       "  <th>Salary</th>        <td>0.0001</td>   <td>0.0000</td>  <td>6.5279</td>  <td>0.0000</td> <td>0.0000</td>  <td>0.0001</td> \n",
       "</tr>\n",
       "<tr>\n",
       "  <th>Children</th>      <td>-0.8594</td>  <td>0.1728</td>  <td>-4.9738</td> <td>0.0000</td> <td>-1.1980</td> <td>-0.5207</td>\n",
       "</tr>\n",
       "<tr>\n",
       "  <th>Catalogs</th>      <td>0.2105</td>   <td>0.0235</td>  <td>8.9641</td>  <td>0.0000</td> <td>0.1644</td>  <td>0.2565</td> \n",
       "</tr>\n",
       "<tr>\n",
       "  <th>class_Middle</th>  <td>-1.4396</td>  <td>0.3100</td>  <td>-4.6438</td> <td>0.0000</td> <td>-2.0472</td> <td>-0.8320</td>\n",
       "</tr>\n",
       "<tr>\n",
       "  <th>class_Old</th>     <td>-1.5260</td>  <td>0.3079</td>  <td>-4.9565</td> <td>0.0000</td> <td>-2.1294</td> <td>-0.9226</td>\n",
       "</tr>\n",
       "<tr>\n",
       "  <th>class_Young</th>   <td>-2.4445</td>  <td>0.3199</td>  <td>-7.6422</td> <td>0.0000</td> <td>-3.0714</td> <td>-1.8175</td>\n",
       "</tr>\n",
       "<tr>\n",
       "  <th>class_Female</th>  <td>-0.2970</td>  <td>0.2703</td>  <td>-1.0986</td> <td>0.2719</td> <td>-0.8269</td> <td>0.2329</td> \n",
       "</tr>\n",
       "<tr>\n",
       "  <th>class_Own</th>     <td>0.2146</td>   <td>0.2992</td>  <td>0.7172</td>  <td>0.4733</td> <td>-0.3719</td> <td>0.8010</td> \n",
       "</tr>\n",
       "<tr>\n",
       "  <th>class_Married</th> <td>0.2344</td>   <td>0.3496</td>  <td>0.6703</td>  <td>0.5027</td> <td>-0.4509</td> <td>0.9197</td> \n",
       "</tr>\n",
       "<tr>\n",
       "  <th>class_Close</th>   <td>-1.8908</td>  <td>0.3455</td>  <td>-5.4720</td> <td>0.0000</td> <td>-2.5680</td> <td>-1.2135</td>\n",
       "</tr>\n",
       "<tr>\n",
       "  <th>class_High</th>    <td>1.9076</td>   <td>0.4090</td>  <td>4.6644</td>  <td>0.0000</td> <td>1.1060</td>  <td>2.7092</td> \n",
       "</tr>\n",
       "<tr>\n",
       "  <th>class_NewCust</th> <td>2.4945</td>   <td>0.3321</td>  <td>7.5117</td>  <td>0.0000</td> <td>1.8436</td>  <td>3.1454</td> \n",
       "</tr>\n",
       "</table>"
      ],
      "text/plain": [
       "<class 'statsmodels.iolib.summary2.Summary'>\n",
       "\"\"\"\n",
       "               Results: Generalized linear model\n",
       "===============================================================\n",
       "Model:              GLM              AIC:            421.9369  \n",
       "Link Function:      logit            BIC:            -4869.5371\n",
       "Dependent Variable: Target           Log-Likelihood: -198.97   \n",
       "Date:               2022-02-16 12:02 LL-Null:        -542.20   \n",
       "No. Observations:   800              Deviance:       397.94    \n",
       "Df Model:           11               Pearson chi2:   537.      \n",
       "Df Residuals:       788              Scale:          1.0000    \n",
       "Method:             IRLS                                       \n",
       "---------------------------------------------------------------\n",
       "                 Coef.  Std.Err.    z    P>|z|   [0.025  0.975]\n",
       "---------------------------------------------------------------\n",
       "const           -5.4100   0.5452 -9.9227 0.0000 -6.4786 -4.3414\n",
       "Salary           0.0001   0.0000  6.5279 0.0000  0.0000  0.0001\n",
       "Children        -0.8594   0.1728 -4.9738 0.0000 -1.1980 -0.5207\n",
       "Catalogs         0.2105   0.0235  8.9641 0.0000  0.1644  0.2565\n",
       "class_Middle    -1.4396   0.3100 -4.6438 0.0000 -2.0472 -0.8320\n",
       "class_Old       -1.5260   0.3079 -4.9565 0.0000 -2.1294 -0.9226\n",
       "class_Young     -2.4445   0.3199 -7.6422 0.0000 -3.0714 -1.8175\n",
       "class_Female    -0.2970   0.2703 -1.0986 0.2719 -0.8269  0.2329\n",
       "class_Own        0.2146   0.2992  0.7172 0.4733 -0.3719  0.8010\n",
       "class_Married    0.2344   0.3496  0.6703 0.5027 -0.4509  0.9197\n",
       "class_Close     -1.8908   0.3455 -5.4720 0.0000 -2.5680 -1.2135\n",
       "class_High       1.9076   0.4090  4.6644 0.0000  1.1060  2.7092\n",
       "class_NewCust    2.4945   0.3321  7.5117 0.0000  1.8436  3.1454\n",
       "===============================================================\n",
       "\n",
       "\"\"\""
      ]
     },
     "execution_count": 32,
     "metadata": {},
     "output_type": "execute_result"
    }
   ],
   "source": [
    "model3.summary2()"
   ]
  },
  {
   "cell_type": "code",
   "execution_count": 33,
   "id": "69ba896d",
   "metadata": {},
   "outputs": [],
   "source": [
    "xtrain.drop(['class_Married'],axis=1,inplace=True)\n",
    "xtest.drop(['class_Married'],axis=1,inplace=True)"
   ]
  },
  {
   "cell_type": "code",
   "execution_count": 34,
   "id": "46775e75",
   "metadata": {},
   "outputs": [],
   "source": [
    "model4 = sm.GLM(ytrain,xtrain,family=sm.families.Binomial()).fit()"
   ]
  },
  {
   "cell_type": "code",
   "execution_count": 35,
   "id": "dbde2768",
   "metadata": {},
   "outputs": [
    {
     "data": {
      "text/html": [
       "<table class=\"simpletable\">\n",
       "<tr>\n",
       "        <td>Model:</td>               <td>GLM</td>            <td>AIC:</td>        <td>420.3846</td> \n",
       "</tr>\n",
       "<tr>\n",
       "    <td>Link Function:</td>          <td>logit</td>           <td>BIC:</td>       <td>-4875.7740</td>\n",
       "</tr>\n",
       "<tr>\n",
       "  <td>Dependent Variable:</td>      <td>Target</td>      <td>Log-Likelihood:</td>   <td>-199.19</td> \n",
       "</tr>\n",
       "<tr>\n",
       "         <td>Date:</td>        <td>2022-02-16 12:03</td>    <td>LL-Null:</td>       <td>-542.20</td> \n",
       "</tr>\n",
       "<tr>\n",
       "   <td>No. Observations:</td>         <td>800</td>          <td>Deviance:</td>      <td>398.38</td>  \n",
       "</tr>\n",
       "<tr>\n",
       "       <td>Df Model:</td>             <td>10</td>         <td>Pearson chi2:</td>     <td>557.</td>   \n",
       "</tr>\n",
       "<tr>\n",
       "     <td>Df Residuals:</td>           <td>789</td>           <td>Scale:</td>        <td>1.0000</td>  \n",
       "</tr>\n",
       "<tr>\n",
       "        <td>Method:</td>             <td>IRLS</td>              <td></td>              <td></td>     \n",
       "</tr>\n",
       "</table>\n",
       "<table class=\"simpletable\">\n",
       "<tr>\n",
       "        <td></td>         <th>Coef.</th>  <th>Std.Err.</th>     <th>z</th>     <th>P>|z|</th> <th>[0.025</th>  <th>0.975]</th> \n",
       "</tr>\n",
       "<tr>\n",
       "  <th>const</th>         <td>-5.4776</td>  <td>0.5378</td>  <td>-10.1860</td> <td>0.0000</td> <td>-6.5316</td> <td>-4.4236</td>\n",
       "</tr>\n",
       "<tr>\n",
       "  <th>Salary</th>        <td>0.0001</td>   <td>0.0000</td>   <td>8.2763</td>  <td>0.0000</td> <td>0.0001</td>  <td>0.0001</td> \n",
       "</tr>\n",
       "<tr>\n",
       "  <th>Children</th>      <td>-0.8496</td>  <td>0.1718</td>   <td>-4.9464</td> <td>0.0000</td> <td>-1.1863</td> <td>-0.5130</td>\n",
       "</tr>\n",
       "<tr>\n",
       "  <th>Catalogs</th>      <td>0.2112</td>   <td>0.0234</td>   <td>9.0080</td>  <td>0.0000</td> <td>0.1652</td>  <td>0.2572</td> \n",
       "</tr>\n",
       "<tr>\n",
       "  <th>class_Middle</th>  <td>-1.5243</td>  <td>0.2841</td>   <td>-5.3650</td> <td>0.0000</td> <td>-2.0811</td> <td>-0.9674</td>\n",
       "</tr>\n",
       "<tr>\n",
       "  <th>class_Old</th>     <td>-1.5228</td>  <td>0.3076</td>   <td>-4.9506</td> <td>0.0000</td> <td>-2.1257</td> <td>-0.9199</td>\n",
       "</tr>\n",
       "<tr>\n",
       "  <th>class_Young</th>   <td>-2.4305</td>  <td>0.3182</td>   <td>-7.6374</td> <td>0.0000</td> <td>-3.0542</td> <td>-1.8068</td>\n",
       "</tr>\n",
       "<tr>\n",
       "  <th>class_Female</th>  <td>-0.2718</td>  <td>0.2677</td>   <td>-1.0154</td> <td>0.3099</td> <td>-0.7964</td> <td>0.2528</td> \n",
       "</tr>\n",
       "<tr>\n",
       "  <th>class_Own</th>     <td>0.1955</td>   <td>0.2973</td>   <td>0.6574</td>  <td>0.5109</td> <td>-0.3873</td> <td>0.7782</td> \n",
       "</tr>\n",
       "<tr>\n",
       "  <th>class_Close</th>   <td>-1.8966</td>  <td>0.3453</td>   <td>-5.4931</td> <td>0.0000</td> <td>-2.5733</td> <td>-1.2199</td>\n",
       "</tr>\n",
       "<tr>\n",
       "  <th>class_High</th>    <td>1.8963</td>   <td>0.4084</td>   <td>4.6433</td>  <td>0.0000</td> <td>1.0958</td>  <td>2.6967</td> \n",
       "</tr>\n",
       "<tr>\n",
       "  <th>class_NewCust</th> <td>2.4962</td>   <td>0.3322</td>   <td>7.5135</td>  <td>0.0000</td> <td>1.8451</td>  <td>3.1474</td> \n",
       "</tr>\n",
       "</table>"
      ],
      "text/plain": [
       "<class 'statsmodels.iolib.summary2.Summary'>\n",
       "\"\"\"\n",
       "               Results: Generalized linear model\n",
       "===============================================================\n",
       "Model:              GLM              AIC:            420.3846  \n",
       "Link Function:      logit            BIC:            -4875.7740\n",
       "Dependent Variable: Target           Log-Likelihood: -199.19   \n",
       "Date:               2022-02-16 12:03 LL-Null:        -542.20   \n",
       "No. Observations:   800              Deviance:       398.38    \n",
       "Df Model:           10               Pearson chi2:   557.      \n",
       "Df Residuals:       789              Scale:          1.0000    \n",
       "Method:             IRLS                                       \n",
       "---------------------------------------------------------------\n",
       "                Coef.  Std.Err.    z     P>|z|   [0.025  0.975]\n",
       "---------------------------------------------------------------\n",
       "const          -5.4776   0.5378 -10.1860 0.0000 -6.5316 -4.4236\n",
       "Salary          0.0001   0.0000   8.2763 0.0000  0.0001  0.0001\n",
       "Children       -0.8496   0.1718  -4.9464 0.0000 -1.1863 -0.5130\n",
       "Catalogs        0.2112   0.0234   9.0080 0.0000  0.1652  0.2572\n",
       "class_Middle   -1.5243   0.2841  -5.3650 0.0000 -2.0811 -0.9674\n",
       "class_Old      -1.5228   0.3076  -4.9506 0.0000 -2.1257 -0.9199\n",
       "class_Young    -2.4305   0.3182  -7.6374 0.0000 -3.0542 -1.8068\n",
       "class_Female   -0.2718   0.2677  -1.0154 0.3099 -0.7964  0.2528\n",
       "class_Own       0.1955   0.2973   0.6574 0.5109 -0.3873  0.7782\n",
       "class_Close    -1.8966   0.3453  -5.4931 0.0000 -2.5733 -1.2199\n",
       "class_High      1.8963   0.4084   4.6433 0.0000  1.0958  2.6967\n",
       "class_NewCust   2.4962   0.3322   7.5135 0.0000  1.8451  3.1474\n",
       "===============================================================\n",
       "\n",
       "\"\"\""
      ]
     },
     "execution_count": 35,
     "metadata": {},
     "output_type": "execute_result"
    }
   ],
   "source": [
    "model4.summary2()"
   ]
  },
  {
   "cell_type": "code",
   "execution_count": 36,
   "id": "f17a5632",
   "metadata": {},
   "outputs": [],
   "source": [
    "xtrain.drop(['class_Own'],axis=1,inplace=True)\n",
    "xtest.drop(['class_Own'],axis=1,inplace=True)"
   ]
  },
  {
   "cell_type": "code",
   "execution_count": 37,
   "id": "df2f88d9",
   "metadata": {},
   "outputs": [],
   "source": [
    "model5 = sm.GLM(ytrain,xtrain,family=sm.families.Binomial()).fit()"
   ]
  },
  {
   "cell_type": "code",
   "execution_count": 38,
   "id": "0dc04063",
   "metadata": {},
   "outputs": [
    {
     "data": {
      "text/html": [
       "<table class=\"simpletable\">\n",
       "<tr>\n",
       "        <td>Model:</td>               <td>GLM</td>            <td>AIC:</td>        <td>418.8162</td> \n",
       "</tr>\n",
       "<tr>\n",
       "    <td>Link Function:</td>          <td>logit</td>           <td>BIC:</td>       <td>-4882.0270</td>\n",
       "</tr>\n",
       "<tr>\n",
       "  <td>Dependent Variable:</td>      <td>Target</td>      <td>Log-Likelihood:</td>   <td>-199.41</td> \n",
       "</tr>\n",
       "<tr>\n",
       "         <td>Date:</td>        <td>2022-02-16 12:04</td>    <td>LL-Null:</td>       <td>-542.20</td> \n",
       "</tr>\n",
       "<tr>\n",
       "   <td>No. Observations:</td>         <td>800</td>          <td>Deviance:</td>      <td>398.82</td>  \n",
       "</tr>\n",
       "<tr>\n",
       "       <td>Df Model:</td>              <td>9</td>         <td>Pearson chi2:</td>     <td>553.</td>   \n",
       "</tr>\n",
       "<tr>\n",
       "     <td>Df Residuals:</td>           <td>790</td>           <td>Scale:</td>        <td>1.0000</td>  \n",
       "</tr>\n",
       "<tr>\n",
       "        <td>Method:</td>             <td>IRLS</td>              <td></td>              <td></td>     \n",
       "</tr>\n",
       "</table>\n",
       "<table class=\"simpletable\">\n",
       "<tr>\n",
       "        <td></td>         <th>Coef.</th>  <th>Std.Err.</th>     <th>z</th>     <th>P>|z|</th> <th>[0.025</th>  <th>0.975]</th> \n",
       "</tr>\n",
       "<tr>\n",
       "  <th>const</th>         <td>-5.4665</td>  <td>0.5376</td>  <td>-10.1678</td> <td>0.0000</td> <td>-6.5202</td> <td>-4.4128</td>\n",
       "</tr>\n",
       "<tr>\n",
       "  <th>Salary</th>        <td>0.0001</td>   <td>0.0000</td>   <td>8.5453</td>  <td>0.0000</td> <td>0.0001</td>  <td>0.0001</td> \n",
       "</tr>\n",
       "<tr>\n",
       "  <th>Children</th>      <td>-0.8446</td>  <td>0.1714</td>   <td>-4.9269</td> <td>0.0000</td> <td>-1.1805</td> <td>-0.5086</td>\n",
       "</tr>\n",
       "<tr>\n",
       "  <th>Catalogs</th>      <td>0.2110</td>   <td>0.0234</td>   <td>9.0175</td>  <td>0.0000</td> <td>0.1652</td>  <td>0.2569</td> \n",
       "</tr>\n",
       "<tr>\n",
       "  <th>class_Middle</th>  <td>-1.5183</td>  <td>0.2837</td>   <td>-5.3519</td> <td>0.0000</td> <td>-2.0743</td> <td>-0.9623</td>\n",
       "</tr>\n",
       "<tr>\n",
       "  <th>class_Old</th>     <td>-1.4697</td>  <td>0.2963</td>   <td>-4.9608</td> <td>0.0000</td> <td>-2.0503</td> <td>-0.8890</td>\n",
       "</tr>\n",
       "<tr>\n",
       "  <th>class_Young</th>   <td>-2.4785</td>  <td>0.3108</td>   <td>-7.9741</td> <td>0.0000</td> <td>-3.0877</td> <td>-1.8693</td>\n",
       "</tr>\n",
       "<tr>\n",
       "  <th>class_Female</th>  <td>-0.2637</td>  <td>0.2672</td>   <td>-0.9870</td> <td>0.3236</td> <td>-0.7875</td> <td>0.2600</td> \n",
       "</tr>\n",
       "<tr>\n",
       "  <th>class_Close</th>   <td>-1.8742</td>  <td>0.3435</td>   <td>-5.4570</td> <td>0.0000</td> <td>-2.5474</td> <td>-1.2011</td>\n",
       "</tr>\n",
       "<tr>\n",
       "  <th>class_High</th>    <td>1.9055</td>   <td>0.4073</td>   <td>4.6783</td>  <td>0.0000</td> <td>1.1072</td>  <td>2.7038</td> \n",
       "</tr>\n",
       "<tr>\n",
       "  <th>class_NewCust</th> <td>2.5085</td>   <td>0.3320</td>   <td>7.5558</td>  <td>0.0000</td> <td>1.8578</td>  <td>3.1593</td> \n",
       "</tr>\n",
       "</table>"
      ],
      "text/plain": [
       "<class 'statsmodels.iolib.summary2.Summary'>\n",
       "\"\"\"\n",
       "               Results: Generalized linear model\n",
       "===============================================================\n",
       "Model:              GLM              AIC:            418.8162  \n",
       "Link Function:      logit            BIC:            -4882.0270\n",
       "Dependent Variable: Target           Log-Likelihood: -199.41   \n",
       "Date:               2022-02-16 12:04 LL-Null:        -542.20   \n",
       "No. Observations:   800              Deviance:       398.82    \n",
       "Df Model:           9                Pearson chi2:   553.      \n",
       "Df Residuals:       790              Scale:          1.0000    \n",
       "Method:             IRLS                                       \n",
       "---------------------------------------------------------------\n",
       "                Coef.  Std.Err.    z     P>|z|   [0.025  0.975]\n",
       "---------------------------------------------------------------\n",
       "const          -5.4665   0.5376 -10.1678 0.0000 -6.5202 -4.4128\n",
       "Salary          0.0001   0.0000   8.5453 0.0000  0.0001  0.0001\n",
       "Children       -0.8446   0.1714  -4.9269 0.0000 -1.1805 -0.5086\n",
       "Catalogs        0.2110   0.0234   9.0175 0.0000  0.1652  0.2569\n",
       "class_Middle   -1.5183   0.2837  -5.3519 0.0000 -2.0743 -0.9623\n",
       "class_Old      -1.4697   0.2963  -4.9608 0.0000 -2.0503 -0.8890\n",
       "class_Young    -2.4785   0.3108  -7.9741 0.0000 -3.0877 -1.8693\n",
       "class_Female   -0.2637   0.2672  -0.9870 0.3236 -0.7875  0.2600\n",
       "class_Close    -1.8742   0.3435  -5.4570 0.0000 -2.5474 -1.2011\n",
       "class_High      1.9055   0.4073   4.6783 0.0000  1.1072  2.7038\n",
       "class_NewCust   2.5085   0.3320   7.5558 0.0000  1.8578  3.1593\n",
       "===============================================================\n",
       "\n",
       "\"\"\""
      ]
     },
     "execution_count": 38,
     "metadata": {},
     "output_type": "execute_result"
    }
   ],
   "source": [
    "model5.summary2()"
   ]
  },
  {
   "cell_type": "code",
   "execution_count": 39,
   "id": "16c0fb1b",
   "metadata": {},
   "outputs": [],
   "source": [
    "xtrain.drop(['class_Female'],axis=1,inplace=True)\n",
    "xtest.drop(['class_Female'],axis=1,inplace=True)"
   ]
  },
  {
   "cell_type": "code",
   "execution_count": 40,
   "id": "a1742c8e",
   "metadata": {},
   "outputs": [],
   "source": [
    "model6 = sm.GLM(ytrain,xtrain,family=sm.families.Binomial()).fit()"
   ]
  },
  {
   "cell_type": "code",
   "execution_count": 41,
   "id": "47abe049",
   "metadata": {},
   "outputs": [
    {
     "data": {
      "text/html": [
       "<table class=\"simpletable\">\n",
       "<tr>\n",
       "        <td>Model:</td>               <td>GLM</td>            <td>AIC:</td>        <td>417.7897</td> \n",
       "</tr>\n",
       "<tr>\n",
       "    <td>Link Function:</td>          <td>logit</td>           <td>BIC:</td>       <td>-4887.7382</td>\n",
       "</tr>\n",
       "<tr>\n",
       "  <td>Dependent Variable:</td>      <td>Target</td>      <td>Log-Likelihood:</td>   <td>-199.89</td> \n",
       "</tr>\n",
       "<tr>\n",
       "         <td>Date:</td>        <td>2022-02-16 12:05</td>    <td>LL-Null:</td>       <td>-542.20</td> \n",
       "</tr>\n",
       "<tr>\n",
       "   <td>No. Observations:</td>         <td>800</td>          <td>Deviance:</td>      <td>399.79</td>  \n",
       "</tr>\n",
       "<tr>\n",
       "       <td>Df Model:</td>              <td>8</td>         <td>Pearson chi2:</td>     <td>581.</td>   \n",
       "</tr>\n",
       "<tr>\n",
       "     <td>Df Residuals:</td>           <td>791</td>           <td>Scale:</td>        <td>1.0000</td>  \n",
       "</tr>\n",
       "<tr>\n",
       "        <td>Method:</td>             <td>IRLS</td>              <td></td>              <td></td>     \n",
       "</tr>\n",
       "</table>\n",
       "<table class=\"simpletable\">\n",
       "<tr>\n",
       "        <td></td>         <th>Coef.</th>  <th>Std.Err.</th>     <th>z</th>     <th>P>|z|</th> <th>[0.025</th>  <th>0.975]</th> \n",
       "</tr>\n",
       "<tr>\n",
       "  <th>const</th>         <td>-5.5792</td>  <td>0.5270</td>  <td>-10.5873</td> <td>0.0000</td> <td>-6.6120</td> <td>-4.5463</td>\n",
       "</tr>\n",
       "<tr>\n",
       "  <th>Salary</th>        <td>0.0001</td>   <td>0.0000</td>   <td>8.7903</td>  <td>0.0000</td> <td>0.0001</td>  <td>0.0001</td> \n",
       "</tr>\n",
       "<tr>\n",
       "  <th>Children</th>      <td>-0.8673</td>  <td>0.1702</td>   <td>-5.0946</td> <td>0.0000</td> <td>-1.2009</td> <td>-0.5336</td>\n",
       "</tr>\n",
       "<tr>\n",
       "  <th>Catalogs</th>      <td>0.2103</td>   <td>0.0233</td>   <td>9.0342</td>  <td>0.0000</td> <td>0.1646</td>  <td>0.2559</td> \n",
       "</tr>\n",
       "<tr>\n",
       "  <th>class_Middle</th>  <td>-1.5405</td>  <td>0.2823</td>   <td>-5.4560</td> <td>0.0000</td> <td>-2.0939</td> <td>-0.9871</td>\n",
       "</tr>\n",
       "<tr>\n",
       "  <th>class_Old</th>     <td>-1.5364</td>  <td>0.2887</td>   <td>-5.3216</td> <td>0.0000</td> <td>-2.1022</td> <td>-0.9705</td>\n",
       "</tr>\n",
       "<tr>\n",
       "  <th>class_Young</th>   <td>-2.5023</td>  <td>0.3118</td>   <td>-8.0253</td> <td>0.0000</td> <td>-3.1134</td> <td>-1.8912</td>\n",
       "</tr>\n",
       "<tr>\n",
       "  <th>class_Close</th>   <td>-1.8871</td>  <td>0.3441</td>   <td>-5.4850</td> <td>0.0000</td> <td>-2.5615</td> <td>-1.2128</td>\n",
       "</tr>\n",
       "<tr>\n",
       "  <th>class_High</th>    <td>1.8771</td>   <td>0.4057</td>   <td>4.6272</td>  <td>0.0000</td> <td>1.0820</td>  <td>2.6722</td> \n",
       "</tr>\n",
       "<tr>\n",
       "  <th>class_NewCust</th> <td>2.4871</td>   <td>0.3302</td>   <td>7.5313</td>  <td>0.0000</td> <td>1.8399</td>  <td>3.1344</td> \n",
       "</tr>\n",
       "</table>"
      ],
      "text/plain": [
       "<class 'statsmodels.iolib.summary2.Summary'>\n",
       "\"\"\"\n",
       "               Results: Generalized linear model\n",
       "===============================================================\n",
       "Model:              GLM              AIC:            417.7897  \n",
       "Link Function:      logit            BIC:            -4887.7382\n",
       "Dependent Variable: Target           Log-Likelihood: -199.89   \n",
       "Date:               2022-02-16 12:05 LL-Null:        -542.20   \n",
       "No. Observations:   800              Deviance:       399.79    \n",
       "Df Model:           8                Pearson chi2:   581.      \n",
       "Df Residuals:       791              Scale:          1.0000    \n",
       "Method:             IRLS                                       \n",
       "---------------------------------------------------------------\n",
       "                Coef.  Std.Err.    z     P>|z|   [0.025  0.975]\n",
       "---------------------------------------------------------------\n",
       "const          -5.5792   0.5270 -10.5873 0.0000 -6.6120 -4.5463\n",
       "Salary          0.0001   0.0000   8.7903 0.0000  0.0001  0.0001\n",
       "Children       -0.8673   0.1702  -5.0946 0.0000 -1.2009 -0.5336\n",
       "Catalogs        0.2103   0.0233   9.0342 0.0000  0.1646  0.2559\n",
       "class_Middle   -1.5405   0.2823  -5.4560 0.0000 -2.0939 -0.9871\n",
       "class_Old      -1.5364   0.2887  -5.3216 0.0000 -2.1022 -0.9705\n",
       "class_Young    -2.5023   0.3118  -8.0253 0.0000 -3.1134 -1.8912\n",
       "class_Close    -1.8871   0.3441  -5.4850 0.0000 -2.5615 -1.2128\n",
       "class_High      1.8771   0.4057   4.6272 0.0000  1.0820  2.6722\n",
       "class_NewCust   2.4871   0.3302   7.5313 0.0000  1.8399  3.1344\n",
       "===============================================================\n",
       "\n",
       "\"\"\""
      ]
     },
     "execution_count": 41,
     "metadata": {},
     "output_type": "execute_result"
    }
   ],
   "source": [
    "model6.summary2()"
   ]
  },
  {
   "cell_type": "code",
   "execution_count": 44,
   "id": "cbd587aa",
   "metadata": {},
   "outputs": [],
   "source": [
    "predictions = model6.predict(xtest)"
   ]
  },
  {
   "cell_type": "code",
   "execution_count": 45,
   "id": "7f12b1df",
   "metadata": {},
   "outputs": [
    {
     "data": {
      "text/plain": [
       "521    0.002653\n",
       "737    0.041345\n",
       "740    0.019799\n",
       "660    0.000226\n",
       "411    0.253016\n",
       "         ...   \n",
       "408    0.015969\n",
       "332    0.952753\n",
       "208    0.238566\n",
       "613    0.289760\n",
       "78     0.000425\n",
       "Length: 200, dtype: float64"
      ]
     },
     "execution_count": 45,
     "metadata": {},
     "output_type": "execute_result"
    }
   ],
   "source": [
    "predictions"
   ]
  },
  {
   "cell_type": "code",
   "execution_count": 46,
   "id": "0d80b83b",
   "metadata": {},
   "outputs": [],
   "source": [
    "threshold=0.5\n",
    "predicted_classes = np.where(predictions>threshold,1,0)"
   ]
  },
  {
   "cell_type": "code",
   "execution_count": 47,
   "id": "72588abb",
   "metadata": {},
   "outputs": [
    {
     "data": {
      "text/plain": [
       "521    0\n",
       "737    0\n",
       "740    0\n",
       "660    0\n",
       "411    0\n",
       "      ..\n",
       "408    0\n",
       "332    1\n",
       "208    0\n",
       "613    0\n",
       "78     0\n",
       "Name: Target, Length: 200, dtype: int64"
      ]
     },
     "execution_count": 47,
     "metadata": {},
     "output_type": "execute_result"
    }
   ],
   "source": [
    "ytest"
   ]
  },
  {
   "cell_type": "code",
   "execution_count": 48,
   "id": "feefbb80",
   "metadata": {},
   "outputs": [
    {
     "data": {
      "text/plain": [
       "0.89"
      ]
     },
     "execution_count": 48,
     "metadata": {},
     "output_type": "execute_result"
    }
   ],
   "source": [
    "accuracy_score(ytest,predicted_classes)"
   ]
  },
  {
   "cell_type": "code",
   "execution_count": 49,
   "id": "c5f2ea8d",
   "metadata": {},
   "outputs": [],
   "source": [
    "confmat = confusion_matrix(ytest, predicted_classes)"
   ]
  },
  {
   "cell_type": "code",
   "execution_count": 50,
   "id": "a15f2435",
   "metadata": {},
   "outputs": [
    {
     "data": {
      "text/plain": [
       "array([[119,  12],\n",
       "       [ 10,  59]], dtype=int64)"
      ]
     },
     "execution_count": 50,
     "metadata": {},
     "output_type": "execute_result"
    }
   ],
   "source": [
    "confmat"
   ]
  },
  {
   "cell_type": "code",
   "execution_count": 51,
   "id": "6439ea58",
   "metadata": {},
   "outputs": [],
   "source": [
    "confmat = pd.DataFrame(confmat, index=['Actual 0','Actual 1'], columns=['Predicted 0','Predicted 1'])"
   ]
  },
  {
   "cell_type": "code",
   "execution_count": 52,
   "id": "1aab3c68",
   "metadata": {},
   "outputs": [
    {
     "data": {
      "text/html": [
       "<div>\n",
       "<style scoped>\n",
       "    .dataframe tbody tr th:only-of-type {\n",
       "        vertical-align: middle;\n",
       "    }\n",
       "\n",
       "    .dataframe tbody tr th {\n",
       "        vertical-align: top;\n",
       "    }\n",
       "\n",
       "    .dataframe thead th {\n",
       "        text-align: right;\n",
       "    }\n",
       "</style>\n",
       "<table border=\"1\" class=\"dataframe\">\n",
       "  <thead>\n",
       "    <tr style=\"text-align: right;\">\n",
       "      <th></th>\n",
       "      <th>Predicted 0</th>\n",
       "      <th>Predicted 1</th>\n",
       "    </tr>\n",
       "  </thead>\n",
       "  <tbody>\n",
       "    <tr>\n",
       "      <th>Actual 0</th>\n",
       "      <td>119</td>\n",
       "      <td>12</td>\n",
       "    </tr>\n",
       "    <tr>\n",
       "      <th>Actual 1</th>\n",
       "      <td>10</td>\n",
       "      <td>59</td>\n",
       "    </tr>\n",
       "  </tbody>\n",
       "</table>\n",
       "</div>"
      ],
      "text/plain": [
       "          Predicted 0  Predicted 1\n",
       "Actual 0          119           12\n",
       "Actual 1           10           59"
      ]
     },
     "execution_count": 52,
     "metadata": {},
     "output_type": "execute_result"
    }
   ],
   "source": [
    "confmat"
   ]
  },
  {
   "cell_type": "code",
   "execution_count": 54,
   "id": "d0c1f2e6",
   "metadata": {},
   "outputs": [
    {
     "name": "stdout",
     "output_type": "stream",
     "text": [
      "              precision    recall  f1-score   support\n",
      "\n",
      "           0       0.92      0.91      0.92       131\n",
      "           1       0.83      0.86      0.84        69\n",
      "\n",
      "    accuracy                           0.89       200\n",
      "   macro avg       0.88      0.88      0.88       200\n",
      "weighted avg       0.89      0.89      0.89       200\n",
      "\n"
     ]
    }
   ],
   "source": [
    "print(classification_report(ytest, predicted_classes))"
   ]
  },
  {
   "cell_type": "code",
   "execution_count": 56,
   "id": "4433374d",
   "metadata": {},
   "outputs": [],
   "source": [
    "roc_score = roc_auc_score(ytest,predictions)"
   ]
  },
  {
   "cell_type": "code",
   "execution_count": 57,
   "id": "9f95f31f",
   "metadata": {},
   "outputs": [
    {
     "data": {
      "text/plain": [
       "0.9587343732713796"
      ]
     },
     "execution_count": 57,
     "metadata": {},
     "output_type": "execute_result"
    }
   ],
   "source": [
    "roc_score"
   ]
  },
  {
   "cell_type": "code",
   "execution_count": 58,
   "id": "d8d5558d",
   "metadata": {},
   "outputs": [],
   "source": [
    "fpr, tpr, threshold = roc_curve(ytest,predictions)"
   ]
  },
  {
   "cell_type": "code",
   "execution_count": 62,
   "id": "38e1fe96",
   "metadata": {},
   "outputs": [
    {
     "data": {
      "text/plain": [
       "array([1.99991424e+00, 9.99914243e-01, 9.44236257e-01, 9.41703826e-01,\n",
       "       8.94482933e-01, 8.69065757e-01, 8.45099029e-01, 8.36840135e-01,\n",
       "       7.96489826e-01, 7.96000602e-01, 7.80284298e-01, 7.10934301e-01,\n",
       "       6.85995097e-01, 6.81387539e-01, 6.60705657e-01, 6.06387742e-01,\n",
       "       5.98318377e-01, 5.79919915e-01, 5.26267796e-01, 5.05470757e-01,\n",
       "       4.77372292e-01, 4.60893690e-01, 4.43023265e-01, 3.77449599e-01,\n",
       "       3.66703246e-01, 3.29050701e-01, 3.10105675e-01, 2.74759386e-01,\n",
       "       2.61493160e-01, 2.09374641e-01, 2.09177618e-01, 1.62016411e-01,\n",
       "       1.61027208e-01, 8.29807984e-02, 8.12487592e-02, 4.21481984e-02,\n",
       "       4.15875564e-02, 1.11178269e-04])"
      ]
     },
     "execution_count": 62,
     "metadata": {},
     "output_type": "execute_result"
    }
   ],
   "source": [
    "threshold"
   ]
  },
  {
   "cell_type": "code",
   "execution_count": 67,
   "id": "61cdc5fd",
   "metadata": {},
   "outputs": [
    {
     "data": {
      "image/png": "[encoded data removed]",
      "text/plain": [
       "<Figure size 432x288 with 1 Axes>"
      ]
     },
     "metadata": {
      "needs_background": "light"
     },
     "output_type": "display_data"
    }
   ],
   "source": [
    "plt.title('ROC Curve')\n",
    "plt.plot(fpr,tpr,'b',label='AUC = %0.2f' % roc_score)\n",
    "plt.legend(loc='lower right')\n",
    "plt.plot([0,1],[0,1],'r--')\n",
    "plt.ylabel('True Positive Rate')\n",
    "plt.xlabel('False Positive Rate')\n",
    "plt.show()"
   ]
  },
  {
   "cell_type": "code",
   "execution_count": 69,
   "id": "69bf5b0f",
   "metadata": {},
   "outputs": [],
   "source": [
    "optimal_idx = np.argmax(tpr-fpr)\n",
    "optimal_threshold = threshold[optimal_idx]"
   ]
  },
  {
   "cell_type": "code",
   "execution_count": 70,
   "id": "06bc78d0",
   "metadata": {},
   "outputs": [
    {
     "data": {
      "text/plain": [
       "0.44302326482927595"
      ]
     },
     "execution_count": 70,
     "metadata": {},
     "output_type": "execute_result"
    }
   ],
   "source": [
    "optimal_threshold"
   ]
  },
  {
   "cell_type": "code",
   "execution_count": 71,
   "id": "3426f169",
   "metadata": {},
   "outputs": [],
   "source": [
    "predicted_classes = np.where(predictions>optimal_threshold,1,0)"
   ]
  },
  {
   "cell_type": "code",
   "execution_count": 72,
   "id": "4f8eb912",
   "metadata": {},
   "outputs": [
    {
     "data": {
      "text/plain": [
       "0.885"
      ]
     },
     "execution_count": 72,
     "metadata": {},
     "output_type": "execute_result"
    }
   ],
   "source": [
    "accuracy_score(ytest,predicted_classes)"
   ]
  },
  {
   "cell_type": "code",
   "execution_count": 73,
   "id": "680091a7",
   "metadata": {},
   "outputs": [
    {
     "data": {
      "text/html": [
       "<div>\n",
       "<style scoped>\n",
       "    .dataframe tbody tr th:only-of-type {\n",
       "        vertical-align: middle;\n",
       "    }\n",
       "\n",
       "    .dataframe tbody tr th {\n",
       "        vertical-align: top;\n",
       "    }\n",
       "\n",
       "    .dataframe thead th {\n",
       "        text-align: right;\n",
       "    }\n",
       "</style>\n",
       "<table border=\"1\" class=\"dataframe\">\n",
       "  <thead>\n",
       "    <tr style=\"text-align: right;\">\n",
       "      <th></th>\n",
       "      <th>Predicted 0</th>\n",
       "      <th>Predicted 1</th>\n",
       "    </tr>\n",
       "  </thead>\n",
       "  <tbody>\n",
       "    <tr>\n",
       "      <th>Actual 0</th>\n",
       "      <td>116</td>\n",
       "      <td>15</td>\n",
       "    </tr>\n",
       "    <tr>\n",
       "      <th>Actual 1</th>\n",
       "      <td>8</td>\n",
       "      <td>61</td>\n",
       "    </tr>\n",
       "  </tbody>\n",
       "</table>\n",
       "</div>"
      ],
      "text/plain": [
       "          Predicted 0  Predicted 1\n",
       "Actual 0          116           15\n",
       "Actual 1            8           61"
      ]
     },
     "execution_count": 73,
     "metadata": {},
     "output_type": "execute_result"
    }
   ],
   "source": [
    "confmat = confusion_matrix(ytest, predicted_classes)\n",
    "confmat = pd.DataFrame(confmat, index=['Actual 0','Actual 1'], columns=['Predicted 0','Predicted 1'])\n",
    "confmat"
   ]
  },
  {
   "cell_type": "code",
   "execution_count": 74,
   "id": "964150a9",
   "metadata": {},
   "outputs": [
    {
     "name": "stdout",
     "output_type": "stream",
     "text": [
      "              precision    recall  f1-score   support\n",
      "\n",
      "           0       0.94      0.89      0.91       131\n",
      "           1       0.80      0.88      0.84        69\n",
      "\n",
      "    accuracy                           0.89       200\n",
      "   macro avg       0.87      0.88      0.88       200\n",
      "weighted avg       0.89      0.89      0.89       200\n",
      "\n"
     ]
    }
   ],
   "source": [
    "print(classification_report(ytest, predicted_classes))"
   ]
  },
  {
   "cell_type": "code",
   "execution_count": null,
   "id": "42c4f676",
   "metadata": {},
   "outputs": [],
   "source": []
  },
  {
   "cell_type": "code",
   "execution_count": 130,
   "id": "bd91ffe4",
   "metadata": {},
   "outputs": [],
   "source": [
    "mreview = pd.read_table('movie_reviews.tsv',sep='\\t')"
   ]
  },
  {
   "cell_type": "code",
   "execution_count": 131,
   "id": "18917e28",
   "metadata": {},
   "outputs": [
    {
     "data": {
      "text/html": [
       "<div>\n",
       "<style scoped>\n",
       "    .dataframe tbody tr th:only-of-type {\n",
       "        vertical-align: middle;\n",
       "    }\n",
       "\n",
       "    .dataframe tbody tr th {\n",
       "        vertical-align: top;\n",
       "    }\n",
       "\n",
       "    .dataframe thead th {\n",
       "        text-align: right;\n",
       "    }\n",
       "</style>\n",
       "<table border=\"1\" class=\"dataframe\">\n",
       "  <thead>\n",
       "    <tr style=\"text-align: right;\">\n",
       "      <th></th>\n",
       "      <th>id</th>\n",
       "      <th>sentiment</th>\n",
       "      <th>review</th>\n",
       "    </tr>\n",
       "  </thead>\n",
       "  <tbody>\n",
       "    <tr>\n",
       "      <th>0</th>\n",
       "      <td>5814_8</td>\n",
       "      <td>1</td>\n",
       "      <td>With all this stuff going down at the moment w...</td>\n",
       "    </tr>\n",
       "    <tr>\n",
       "      <th>1</th>\n",
       "      <td>2381_9</td>\n",
       "      <td>1</td>\n",
       "      <td>\\The Classic War of the Worlds\\\" by Timothy Hi...</td>\n",
       "    </tr>\n",
       "    <tr>\n",
       "      <th>2</th>\n",
       "      <td>7759_3</td>\n",
       "      <td>0</td>\n",
       "      <td>The film starts with a manager (Nicholas Bell)...</td>\n",
       "    </tr>\n",
       "    <tr>\n",
       "      <th>3</th>\n",
       "      <td>3630_4</td>\n",
       "      <td>0</td>\n",
       "      <td>It must be assumed that those who praised this...</td>\n",
       "    </tr>\n",
       "    <tr>\n",
       "      <th>4</th>\n",
       "      <td>9495_8</td>\n",
       "      <td>1</td>\n",
       "      <td>Superbly trashy and wondrously unpretentious 8...</td>\n",
       "    </tr>\n",
       "  </tbody>\n",
       "</table>\n",
       "</div>"
      ],
      "text/plain": [
       "       id  sentiment                                             review\n",
       "0  5814_8          1  With all this stuff going down at the moment w...\n",
       "1  2381_9          1  \\The Classic War of the Worlds\\\" by Timothy Hi...\n",
       "2  7759_3          0  The film starts with a manager (Nicholas Bell)...\n",
       "3  3630_4          0  It must be assumed that those who praised this...\n",
       "4  9495_8          1  Superbly trashy and wondrously unpretentious 8..."
      ]
     },
     "execution_count": 131,
     "metadata": {},
     "output_type": "execute_result"
    }
   ],
   "source": [
    "mreview.head()"
   ]
  },
  {
   "cell_type": "code",
   "execution_count": 79,
   "id": "5453b345",
   "metadata": {},
   "outputs": [
    {
     "data": {
      "text/plain": [
       "'I just watched it. A couple of laughs, but nothing to write home about. Jason Lee looked like he was having fun. The (long) DVD gag reel consists almost solely of him having fits of uncontrollable laughter. Selma Blair seemed to be punching a time clock, but then again, her character was supposed to be a stick in the mud, so \\\\well done\\\\\" I guess? Jim Brolin was surprisingly funny. (Being married to Babs can\\'t be a picnic.) The soundtrack was hip, and eclectic. Larry Miller, who played Julia Stiles father (hilariously), in 10 Things I Hate About You is funny here as well. He\\'s great, but the best aspect of this movie was the casting of Julia Stiles. I could spend two hours watching her fold laundry, and I feel like I just did.\"'"
      ]
     },
     "execution_count": 79,
     "metadata": {},
     "output_type": "execute_result"
    }
   ],
   "source": [
    "mreview['review'][20000]"
   ]
  },
  {
   "cell_type": "code",
   "execution_count": 78,
   "id": "6784f41b",
   "metadata": {},
   "outputs": [
    {
     "data": {
      "text/plain": [
       "(25000, 3)"
      ]
     },
     "execution_count": 78,
     "metadata": {},
     "output_type": "execute_result"
    }
   ],
   "source": [
    "mreview.shape"
   ]
  },
  {
   "cell_type": "code",
   "execution_count": 80,
   "id": "361415ba",
   "metadata": {},
   "outputs": [
    {
     "data": {
      "text/plain": [
       "id           0\n",
       "sentiment    0\n",
       "review       0\n",
       "dtype: int64"
      ]
     },
     "execution_count": 80,
     "metadata": {},
     "output_type": "execute_result"
    }
   ],
   "source": [
    "mreview.isnull().sum()"
   ]
  },
  {
   "cell_type": "code",
   "execution_count": 81,
   "id": "05d5a70b",
   "metadata": {},
   "outputs": [
    {
     "data": {
      "text/plain": [
       "count    25000.00000\n",
       "mean         0.50000\n",
       "std          0.50001\n",
       "min          0.00000\n",
       "25%          0.00000\n",
       "50%          0.50000\n",
       "75%          1.00000\n",
       "max          1.00000\n",
       "Name: sentiment, dtype: float64"
      ]
     },
     "execution_count": 81,
     "metadata": {},
     "output_type": "execute_result"
    }
   ],
   "source": [
    "mreview['sentiment'].describe()"
   ]
  },
  {
   "cell_type": "code",
   "execution_count": 132,
   "id": "c5a8fe14",
   "metadata": {},
   "outputs": [],
   "source": [
    "mreview.drop(['id'],axis=1,inplace=True)"
   ]
  },
  {
   "cell_type": "code",
   "execution_count": 133,
   "id": "2b49af48",
   "metadata": {},
   "outputs": [
    {
     "data": {
      "text/html": [
       "<div>\n",
       "<style scoped>\n",
       "    .dataframe tbody tr th:only-of-type {\n",
       "        vertical-align: middle;\n",
       "    }\n",
       "\n",
       "    .dataframe tbody tr th {\n",
       "        vertical-align: top;\n",
       "    }\n",
       "\n",
       "    .dataframe thead th {\n",
       "        text-align: right;\n",
       "    }\n",
       "</style>\n",
       "<table border=\"1\" class=\"dataframe\">\n",
       "  <thead>\n",
       "    <tr style=\"text-align: right;\">\n",
       "      <th></th>\n",
       "      <th>sentiment</th>\n",
       "      <th>review</th>\n",
       "    </tr>\n",
       "  </thead>\n",
       "  <tbody>\n",
       "    <tr>\n",
       "      <th>0</th>\n",
       "      <td>1</td>\n",
       "      <td>With all this stuff going down at the moment w...</td>\n",
       "    </tr>\n",
       "    <tr>\n",
       "      <th>1</th>\n",
       "      <td>1</td>\n",
       "      <td>\\The Classic War of the Worlds\\\" by Timothy Hi...</td>\n",
       "    </tr>\n",
       "    <tr>\n",
       "      <th>2</th>\n",
       "      <td>0</td>\n",
       "      <td>The film starts with a manager (Nicholas Bell)...</td>\n",
       "    </tr>\n",
       "    <tr>\n",
       "      <th>3</th>\n",
       "      <td>0</td>\n",
       "      <td>It must be assumed that those who praised this...</td>\n",
       "    </tr>\n",
       "    <tr>\n",
       "      <th>4</th>\n",
       "      <td>1</td>\n",
       "      <td>Superbly trashy and wondrously unpretentious 8...</td>\n",
       "    </tr>\n",
       "  </tbody>\n",
       "</table>\n",
       "</div>"
      ],
      "text/plain": [
       "   sentiment                                             review\n",
       "0          1  With all this stuff going down at the moment w...\n",
       "1          1  \\The Classic War of the Worlds\\\" by Timothy Hi...\n",
       "2          0  The film starts with a manager (Nicholas Bell)...\n",
       "3          0  It must be assumed that those who praised this...\n",
       "4          1  Superbly trashy and wondrously unpretentious 8..."
      ]
     },
     "execution_count": 133,
     "metadata": {},
     "output_type": "execute_result"
    }
   ],
   "source": [
    "mreview.head()"
   ]
  },
  {
   "cell_type": "code",
   "execution_count": 83,
   "id": "efb3e366",
   "metadata": {},
   "outputs": [],
   "source": []
  },
  {
   "cell_type": "code",
   "execution_count": null,
   "id": "16496e6c",
   "metadata": {},
   "outputs": [],
   "source": [
    "#Convert [text]-->[predictor_matrix]\n",
    "\n",
    "#Term-Document Matrix"
   ]
  },
  {
   "cell_type": "code",
   "execution_count": 89,
   "id": "002ce5a9",
   "metadata": {},
   "outputs": [
    {
     "data": {
      "text/plain": [
       "['This is sentence one',\n",
       " 'This is sentence two',\n",
       " 'This is very very long sentence three']"
      ]
     },
     "execution_count": 89,
     "metadata": {},
     "output_type": "execute_result"
    }
   ],
   "source": [
    "demo_text = ['This is sentence one','This is sentence two','This is very very long sentence three']\n",
    "demo_text"
   ]
  },
  {
   "cell_type": "code",
   "execution_count": 92,
   "id": "6c2c1e83",
   "metadata": {},
   "outputs": [],
   "source": [
    "cv = text.CountVectorizer()"
   ]
  },
  {
   "cell_type": "code",
   "execution_count": 93,
   "id": "83473f2a",
   "metadata": {},
   "outputs": [],
   "source": [
    "count_matrix = cv.fit_transform(demo_text)"
   ]
  },
  {
   "cell_type": "code",
   "execution_count": 94,
   "id": "6cb6a188",
   "metadata": {},
   "outputs": [
    {
     "data": {
      "text/plain": [
       "['is', 'long', 'one', 'sentence', 'this', 'three', 'two', 'very']"
      ]
     },
     "execution_count": 94,
     "metadata": {},
     "output_type": "execute_result"
    }
   ],
   "source": [
    "cv.get_feature_names()"
   ]
  },
  {
   "cell_type": "code",
   "execution_count": 96,
   "id": "4db9a35a",
   "metadata": {},
   "outputs": [
    {
     "data": {
      "text/plain": [
       "array([[1, 0, 1, 1, 1, 0, 0, 0],\n",
       "       [1, 0, 0, 1, 1, 0, 1, 0],\n",
       "       [1, 1, 0, 1, 1, 1, 0, 2]], dtype=int64)"
      ]
     },
     "execution_count": 96,
     "metadata": {},
     "output_type": "execute_result"
    }
   ],
   "source": [
    "count_matrix.toarray()"
   ]
  },
  {
   "cell_type": "code",
   "execution_count": 97,
   "id": "cec7573d",
   "metadata": {},
   "outputs": [
    {
     "data": {
      "text/html": [
       "<div>\n",
       "<style scoped>\n",
       "    .dataframe tbody tr th:only-of-type {\n",
       "        vertical-align: middle;\n",
       "    }\n",
       "\n",
       "    .dataframe tbody tr th {\n",
       "        vertical-align: top;\n",
       "    }\n",
       "\n",
       "    .dataframe thead th {\n",
       "        text-align: right;\n",
       "    }\n",
       "</style>\n",
       "<table border=\"1\" class=\"dataframe\">\n",
       "  <thead>\n",
       "    <tr style=\"text-align: right;\">\n",
       "      <th></th>\n",
       "      <th>is</th>\n",
       "      <th>long</th>\n",
       "      <th>one</th>\n",
       "      <th>sentence</th>\n",
       "      <th>this</th>\n",
       "      <th>three</th>\n",
       "      <th>two</th>\n",
       "      <th>very</th>\n",
       "    </tr>\n",
       "  </thead>\n",
       "  <tbody>\n",
       "    <tr>\n",
       "      <th>0</th>\n",
       "      <td>1</td>\n",
       "      <td>0</td>\n",
       "      <td>1</td>\n",
       "      <td>1</td>\n",
       "      <td>1</td>\n",
       "      <td>0</td>\n",
       "      <td>0</td>\n",
       "      <td>0</td>\n",
       "    </tr>\n",
       "    <tr>\n",
       "      <th>1</th>\n",
       "      <td>1</td>\n",
       "      <td>0</td>\n",
       "      <td>0</td>\n",
       "      <td>1</td>\n",
       "      <td>1</td>\n",
       "      <td>0</td>\n",
       "      <td>1</td>\n",
       "      <td>0</td>\n",
       "    </tr>\n",
       "    <tr>\n",
       "      <th>2</th>\n",
       "      <td>1</td>\n",
       "      <td>1</td>\n",
       "      <td>0</td>\n",
       "      <td>1</td>\n",
       "      <td>1</td>\n",
       "      <td>1</td>\n",
       "      <td>0</td>\n",
       "      <td>2</td>\n",
       "    </tr>\n",
       "  </tbody>\n",
       "</table>\n",
       "</div>"
      ],
      "text/plain": [
       "   is  long  one  sentence  this  three  two  very\n",
       "0   1     0    1         1     1      0    0     0\n",
       "1   1     0    0         1     1      0    1     0\n",
       "2   1     1    0         1     1      1    0     2"
      ]
     },
     "execution_count": 97,
     "metadata": {},
     "output_type": "execute_result"
    }
   ],
   "source": [
    "pd.DataFrame(count_matrix.toarray(), columns=cv.get_feature_names())"
   ]
  },
  {
   "cell_type": "code",
   "execution_count": 134,
   "id": "88bd8eda",
   "metadata": {},
   "outputs": [
    {
     "name": "stderr",
     "output_type": "stream",
     "text": [
      "IOPub data rate exceeded.\n",
      "The notebook server will temporarily stop sending output\n",
      "to the client in order to avoid crashing it.\n",
      "To change this limit, set the config variable\n",
      "`--NotebookApp.iopub_data_rate_limit`.\n",
      "\n",
      "Current values:\n",
      "NotebookApp.iopub_data_rate_limit=1000000.0 (bytes/sec)\n",
      "NotebookApp.rate_limit_window=3.0 (secs)\n",
      "\n"
     ]
    }
   ],
   "source": [
    "cv = text.CountVectorizer(mreview['review'].tolist(),max_features=4000)\n",
    "X = cv.fit_transform(mreview['review'])"
   ]
  },
  {
   "cell_type": "code",
   "execution_count": 135,
   "id": "65a0f987",
   "metadata": {},
   "outputs": [
    {
     "data": {
      "text/plain": [
       "(25000, 4000)"
      ]
     },
     "execution_count": 135,
     "metadata": {},
     "output_type": "execute_result"
    }
   ],
   "source": [
    "X.shape"
   ]
  },
  {
   "cell_type": "code",
   "execution_count": 136,
   "id": "7c48a161",
   "metadata": {},
   "outputs": [
    {
     "data": {
      "text/plain": [
       "['000',\n",
       " '10',\n",
       " '100',\n",
       " '11',\n",
       " '12',\n",
       " '13',\n",
       " '14',\n",
       " '15',\n",
       " '16',\n",
       " '17',\n",
       " '18',\n",
       " '1930s',\n",
       " '1950',\n",
       " '1950s',\n",
       " '1970',\n",
       " '1970s',\n",
       " '1980',\n",
       " '1980s',\n",
       " '1990',\n",
       " '1st',\n",
       " '20',\n",
       " '2000',\n",
       " '2001',\n",
       " '2002',\n",
       " '2003',\n",
       " '2004',\n",
       " '2005',\n",
       " '2006',\n",
       " '2007',\n",
       " '20th',\n",
       " '24',\n",
       " '25',\n",
       " '2nd',\n",
       " '30',\n",
       " '40',\n",
       " '45',\n",
       " '50',\n",
       " '50s',\n",
       " '60',\n",
       " '60s',\n",
       " '70',\n",
       " '70s',\n",
       " '80',\n",
       " '80s',\n",
       " '90',\n",
       " '99',\n",
       " 'abandoned',\n",
       " 'abc',\n",
       " 'ability',\n",
       " 'able',\n",
       " 'about',\n",
       " 'above',\n",
       " 'absence',\n",
       " 'absolute',\n",
       " 'absolutely',\n",
       " 'absurd',\n",
       " 'abuse',\n",
       " 'academy',\n",
       " 'accent',\n",
       " 'accents',\n",
       " 'accept',\n",
       " 'acceptable',\n",
       " 'accepted',\n",
       " 'accident',\n",
       " 'accidentally',\n",
       " 'accomplished',\n",
       " 'according',\n",
       " 'account',\n",
       " 'accurate',\n",
       " 'accused',\n",
       " 'achieve',\n",
       " 'achieved',\n",
       " 'achievement',\n",
       " 'across',\n",
       " 'act',\n",
       " 'acted',\n",
       " 'acting',\n",
       " 'action',\n",
       " 'actions',\n",
       " 'actor',\n",
       " 'actors',\n",
       " 'actress',\n",
       " 'actresses',\n",
       " 'acts',\n",
       " 'actual',\n",
       " 'actually',\n",
       " 'ad',\n",
       " 'adam',\n",
       " 'adaptation',\n",
       " 'adapted',\n",
       " 'add',\n",
       " 'added',\n",
       " 'adding',\n",
       " 'addition',\n",
       " 'adds',\n",
       " 'adequate',\n",
       " 'admire',\n",
       " 'admit',\n",
       " 'admittedly',\n",
       " 'adult',\n",
       " 'adults',\n",
       " 'advantage',\n",
       " 'adventure',\n",
       " 'adventures',\n",
       " 'advice',\n",
       " 'affair',\n",
       " 'affected',\n",
       " 'aforementioned',\n",
       " 'afraid',\n",
       " 'africa',\n",
       " 'african',\n",
       " 'after',\n",
       " 'afternoon',\n",
       " 'afterwards',\n",
       " 'again',\n",
       " 'against',\n",
       " 'age',\n",
       " 'aged',\n",
       " 'agent',\n",
       " 'ages',\n",
       " 'aging',\n",
       " 'ago',\n",
       " 'agree',\n",
       " 'ah',\n",
       " 'ahead',\n",
       " 'aimed',\n",
       " 'ain',\n",
       " 'air',\n",
       " 'aired',\n",
       " 'aka',\n",
       " 'al',\n",
       " 'alan',\n",
       " 'alas',\n",
       " 'albeit',\n",
       " 'albert',\n",
       " 'alex',\n",
       " 'alexander',\n",
       " 'alice',\n",
       " 'alien',\n",
       " 'aliens',\n",
       " 'alike',\n",
       " 'alive',\n",
       " 'all',\n",
       " 'allen',\n",
       " 'allow',\n",
       " 'allowed',\n",
       " 'allowing',\n",
       " 'allows',\n",
       " 'almost',\n",
       " 'alone',\n",
       " 'along',\n",
       " 'already',\n",
       " 'alright',\n",
       " 'also',\n",
       " 'although',\n",
       " 'altman',\n",
       " 'altogether',\n",
       " 'always',\n",
       " 'am',\n",
       " 'amateur',\n",
       " 'amateurish',\n",
       " 'amazed',\n",
       " 'amazing',\n",
       " 'amazingly',\n",
       " 'ambitious',\n",
       " 'america',\n",
       " 'american',\n",
       " 'americans',\n",
       " 'among',\n",
       " 'amongst',\n",
       " 'amount',\n",
       " 'amusing',\n",
       " 'an',\n",
       " 'ancient',\n",
       " 'and',\n",
       " 'anderson',\n",
       " 'andrew',\n",
       " 'andrews',\n",
       " 'andy',\n",
       " 'angel',\n",
       " 'angels',\n",
       " 'anger',\n",
       " 'angle',\n",
       " 'angles',\n",
       " 'angry',\n",
       " 'animal',\n",
       " 'animals',\n",
       " 'animated',\n",
       " 'animation',\n",
       " 'anime',\n",
       " 'ann',\n",
       " 'anna',\n",
       " 'anne',\n",
       " 'annie',\n",
       " 'annoyed',\n",
       " 'annoying',\n",
       " 'another',\n",
       " 'answer',\n",
       " 'answers',\n",
       " 'anthony',\n",
       " 'anti',\n",
       " 'antics',\n",
       " 'any',\n",
       " 'anybody',\n",
       " 'anymore',\n",
       " 'anyone',\n",
       " 'anything',\n",
       " 'anyway',\n",
       " 'anyways',\n",
       " 'anywhere',\n",
       " 'apart',\n",
       " 'apartment',\n",
       " 'apes',\n",
       " 'appalling',\n",
       " 'apparent',\n",
       " 'apparently',\n",
       " 'appeal',\n",
       " 'appealing',\n",
       " 'appear',\n",
       " 'appearance',\n",
       " 'appearances',\n",
       " 'appeared',\n",
       " 'appearing',\n",
       " 'appears',\n",
       " 'appreciate',\n",
       " 'appreciated',\n",
       " 'approach',\n",
       " 'appropriate',\n",
       " 'are',\n",
       " 'area',\n",
       " 'areas',\n",
       " 'aren',\n",
       " 'argue',\n",
       " 'argument',\n",
       " 'arm',\n",
       " 'arms',\n",
       " 'army',\n",
       " 'arnold',\n",
       " 'around',\n",
       " 'arrested',\n",
       " 'arrive',\n",
       " 'arrives',\n",
       " 'art',\n",
       " 'arthur',\n",
       " 'artist',\n",
       " 'artistic',\n",
       " 'artists',\n",
       " 'arts',\n",
       " 'as',\n",
       " 'ashamed',\n",
       " 'asian',\n",
       " 'aside',\n",
       " 'ask',\n",
       " 'asked',\n",
       " 'asking',\n",
       " 'asks',\n",
       " 'asleep',\n",
       " 'aspect',\n",
       " 'aspects',\n",
       " 'ass',\n",
       " 'assistant',\n",
       " 'associated',\n",
       " 'assume',\n",
       " 'astaire',\n",
       " 'at',\n",
       " 'atmosphere',\n",
       " 'atmospheric',\n",
       " 'atrocious',\n",
       " 'attached',\n",
       " 'attack',\n",
       " 'attacked',\n",
       " 'attacks',\n",
       " 'attempt',\n",
       " 'attempted',\n",
       " 'attempting',\n",
       " 'attempts',\n",
       " 'attention',\n",
       " 'attitude',\n",
       " 'attracted',\n",
       " 'attraction',\n",
       " 'attractive',\n",
       " 'audience',\n",
       " 'audiences',\n",
       " 'audio',\n",
       " 'aunt',\n",
       " 'australia',\n",
       " 'australian',\n",
       " 'authentic',\n",
       " 'author',\n",
       " 'available',\n",
       " 'average',\n",
       " 'avoid',\n",
       " 'award',\n",
       " 'awards',\n",
       " 'aware',\n",
       " 'away',\n",
       " 'awesome',\n",
       " 'awful',\n",
       " 'awkward',\n",
       " 'baby',\n",
       " 'back',\n",
       " 'background',\n",
       " 'bad',\n",
       " 'badly',\n",
       " 'bag',\n",
       " 'baker',\n",
       " 'bakshi',\n",
       " 'balance',\n",
       " 'ball',\n",
       " 'band',\n",
       " 'bank',\n",
       " 'bar',\n",
       " 'barbara',\n",
       " 'bare',\n",
       " 'barely',\n",
       " 'barry',\n",
       " 'base',\n",
       " 'baseball',\n",
       " 'based',\n",
       " 'basement',\n",
       " 'basic',\n",
       " 'basically',\n",
       " 'basis',\n",
       " 'bat',\n",
       " 'bathroom',\n",
       " 'batman',\n",
       " 'battle',\n",
       " 'battles',\n",
       " 'bbc',\n",
       " 'be',\n",
       " 'beach',\n",
       " 'bear',\n",
       " 'bears',\n",
       " 'beast',\n",
       " 'beat',\n",
       " 'beaten',\n",
       " 'beating',\n",
       " 'beats',\n",
       " 'beatty',\n",
       " 'beautiful',\n",
       " 'beautifully',\n",
       " 'beauty',\n",
       " 'became',\n",
       " 'because',\n",
       " 'become',\n",
       " 'becomes',\n",
       " 'becoming',\n",
       " 'bed',\n",
       " 'been',\n",
       " 'beer',\n",
       " 'before',\n",
       " 'began',\n",
       " 'begin',\n",
       " 'beginning',\n",
       " 'begins',\n",
       " 'behavior',\n",
       " 'behind',\n",
       " 'being',\n",
       " 'beings',\n",
       " 'belief',\n",
       " 'believable',\n",
       " 'believe',\n",
       " 'believed',\n",
       " 'believes',\n",
       " 'believing',\n",
       " 'bell',\n",
       " 'belongs',\n",
       " 'beloved',\n",
       " 'below',\n",
       " 'ben',\n",
       " 'besides',\n",
       " 'best',\n",
       " 'bet',\n",
       " 'bette',\n",
       " 'better',\n",
       " 'bettie',\n",
       " 'between',\n",
       " 'beyond',\n",
       " 'bible',\n",
       " 'big',\n",
       " 'bigger',\n",
       " 'biggest',\n",
       " 'bill',\n",
       " 'billy',\n",
       " 'bin',\n",
       " 'bird',\n",
       " 'birds',\n",
       " 'birth',\n",
       " 'birthday',\n",
       " 'bit',\n",
       " 'bite',\n",
       " 'bits',\n",
       " 'bitter',\n",
       " 'bizarre',\n",
       " 'black',\n",
       " 'blah',\n",
       " 'blair',\n",
       " 'blake',\n",
       " 'blame',\n",
       " 'bland',\n",
       " 'blank',\n",
       " 'bleak',\n",
       " 'blend',\n",
       " 'blind',\n",
       " 'blob',\n",
       " 'block',\n",
       " 'blockbuster',\n",
       " 'blonde',\n",
       " 'blood',\n",
       " 'bloody',\n",
       " 'blow',\n",
       " 'blown',\n",
       " 'blows',\n",
       " 'blue',\n",
       " 'bo',\n",
       " 'board',\n",
       " 'boat',\n",
       " 'bob',\n",
       " 'bobby',\n",
       " 'bodies',\n",
       " 'body',\n",
       " 'boll',\n",
       " 'bollywood',\n",
       " 'bomb',\n",
       " 'bond',\n",
       " 'bone',\n",
       " 'book',\n",
       " 'books',\n",
       " 'border',\n",
       " 'bore',\n",
       " 'bored',\n",
       " 'boredom',\n",
       " 'boring',\n",
       " 'born',\n",
       " 'boss',\n",
       " 'both',\n",
       " 'bother',\n",
       " 'bothered',\n",
       " 'bottom',\n",
       " 'bought',\n",
       " 'bound',\n",
       " 'bourne',\n",
       " 'box',\n",
       " 'boxing',\n",
       " 'boy',\n",
       " 'boyfriend',\n",
       " 'boys',\n",
       " 'br',\n",
       " 'brad',\n",
       " 'brady',\n",
       " 'brain',\n",
       " 'brains',\n",
       " 'branagh',\n",
       " 'brand',\n",
       " 'brando',\n",
       " 'brave',\n",
       " 'brazil',\n",
       " 'break',\n",
       " 'breaking',\n",
       " 'breaks',\n",
       " 'breasts',\n",
       " 'breath',\n",
       " 'breathtaking',\n",
       " 'brian',\n",
       " 'bride',\n",
       " 'bridge',\n",
       " 'brief',\n",
       " 'briefly',\n",
       " 'bright',\n",
       " 'brilliance',\n",
       " 'brilliant',\n",
       " 'brilliantly',\n",
       " 'bring',\n",
       " 'bringing',\n",
       " 'brings',\n",
       " 'britain',\n",
       " 'british',\n",
       " 'broad',\n",
       " 'broadcast',\n",
       " 'broadway',\n",
       " 'broke',\n",
       " 'broken',\n",
       " 'brooks',\n",
       " 'brosnan',\n",
       " 'brother',\n",
       " 'brothers',\n",
       " 'brought',\n",
       " 'brown',\n",
       " 'bruce',\n",
       " 'brutal',\n",
       " 'buck',\n",
       " 'bucks',\n",
       " 'buddies',\n",
       " 'buddy',\n",
       " 'budget',\n",
       " 'bug',\n",
       " 'bugs',\n",
       " 'build',\n",
       " 'building',\n",
       " 'builds',\n",
       " 'built',\n",
       " 'bullet',\n",
       " 'bullets',\n",
       " 'bunch',\n",
       " 'buried',\n",
       " 'burn',\n",
       " 'burned',\n",
       " 'burning',\n",
       " 'burns',\n",
       " 'burt',\n",
       " 'burton',\n",
       " 'bus',\n",
       " 'bush',\n",
       " 'business',\n",
       " 'busy',\n",
       " 'but',\n",
       " 'butt',\n",
       " 'buy',\n",
       " 'buying',\n",
       " 'by',\n",
       " 'cabin',\n",
       " 'cable',\n",
       " 'cage',\n",
       " 'cagney',\n",
       " 'caine',\n",
       " 'california',\n",
       " 'call',\n",
       " 'called',\n",
       " 'calling',\n",
       " 'calls',\n",
       " 'came',\n",
       " 'cameo',\n",
       " 'cameos',\n",
       " 'camera',\n",
       " 'cameras',\n",
       " 'cameron',\n",
       " 'camp',\n",
       " 'campy',\n",
       " 'can',\n",
       " 'canada',\n",
       " 'canadian',\n",
       " 'candy',\n",
       " 'cannot',\n",
       " 'cant',\n",
       " 'capable',\n",
       " 'captain',\n",
       " 'captivating',\n",
       " 'capture',\n",
       " 'captured',\n",
       " 'captures',\n",
       " 'car',\n",
       " 'card',\n",
       " 'cardboard',\n",
       " 'care',\n",
       " 'cared',\n",
       " 'career',\n",
       " 'carefully',\n",
       " 'cares',\n",
       " 'caring',\n",
       " 'carl',\n",
       " 'carol',\n",
       " 'carpenter',\n",
       " 'carrey',\n",
       " 'carrie',\n",
       " 'carried',\n",
       " 'carries',\n",
       " 'carry',\n",
       " 'carrying',\n",
       " 'cars',\n",
       " 'carter',\n",
       " 'cartoon',\n",
       " 'cartoons',\n",
       " 'case',\n",
       " 'cases',\n",
       " 'cash',\n",
       " 'cast',\n",
       " 'casting',\n",
       " 'castle',\n",
       " 'cat',\n",
       " 'catch',\n",
       " 'category',\n",
       " 'catherine',\n",
       " 'catholic',\n",
       " 'cats',\n",
       " 'caught',\n",
       " 'cause',\n",
       " 'caused',\n",
       " 'causes',\n",
       " 'cell',\n",
       " 'center',\n",
       " 'centered',\n",
       " 'central',\n",
       " 'century',\n",
       " 'certain',\n",
       " 'certainly',\n",
       " 'cgi',\n",
       " 'chain',\n",
       " 'chair',\n",
       " 'challenge',\n",
       " 'chan',\n",
       " 'chance',\n",
       " 'chances',\n",
       " 'change',\n",
       " 'changed',\n",
       " 'changes',\n",
       " 'changing',\n",
       " 'channel',\n",
       " 'chaplin',\n",
       " 'character',\n",
       " 'characterization',\n",
       " 'characters',\n",
       " 'charge',\n",
       " 'charisma',\n",
       " 'charismatic',\n",
       " 'charles',\n",
       " 'charlie',\n",
       " 'charm',\n",
       " 'charming',\n",
       " 'chase',\n",
       " 'chases',\n",
       " 'chasing',\n",
       " 'che',\n",
       " 'cheap',\n",
       " 'check',\n",
       " 'checking',\n",
       " 'cheek',\n",
       " 'cheese',\n",
       " 'cheesy',\n",
       " 'chemistry',\n",
       " 'chick',\n",
       " 'chief',\n",
       " 'child',\n",
       " 'childhood',\n",
       " 'childish',\n",
       " 'children',\n",
       " 'chilling',\n",
       " 'china',\n",
       " 'chinese',\n",
       " 'choice',\n",
       " 'choices',\n",
       " 'choose',\n",
       " 'choreography',\n",
       " 'chose',\n",
       " 'chosen',\n",
       " 'chris',\n",
       " 'christ',\n",
       " 'christian',\n",
       " 'christmas',\n",
       " 'christopher',\n",
       " 'chuck',\n",
       " 'church',\n",
       " 'cia',\n",
       " 'cinderella',\n",
       " 'cinema',\n",
       " 'cinematic',\n",
       " 'cinematography',\n",
       " 'circumstances',\n",
       " 'citizen',\n",
       " 'city',\n",
       " 'civil',\n",
       " 'claim',\n",
       " 'claims',\n",
       " 'claire',\n",
       " 'clark',\n",
       " 'class',\n",
       " 'classic',\n",
       " 'classics',\n",
       " 'clean',\n",
       " 'clear',\n",
       " 'clearly',\n",
       " 'clever',\n",
       " 'cliché',\n",
       " 'clichéd',\n",
       " 'clichés',\n",
       " 'cliff',\n",
       " 'climax',\n",
       " 'clint',\n",
       " 'clips',\n",
       " 'close',\n",
       " 'closely',\n",
       " 'closer',\n",
       " 'closing',\n",
       " 'clothes',\n",
       " 'clothing',\n",
       " 'club',\n",
       " 'clue',\n",
       " 'clues',\n",
       " 'co',\n",
       " 'code',\n",
       " 'coherent',\n",
       " 'cold',\n",
       " 'cole',\n",
       " 'collection',\n",
       " 'college',\n",
       " 'color',\n",
       " 'colorful',\n",
       " 'colors',\n",
       " 'colour',\n",
       " 'columbo',\n",
       " 'com',\n",
       " 'combat',\n",
       " 'combination',\n",
       " 'combined',\n",
       " 'come',\n",
       " 'comedian',\n",
       " 'comedic',\n",
       " 'comedies',\n",
       " 'comedy',\n",
       " 'comes',\n",
       " 'comfortable',\n",
       " 'comic',\n",
       " 'comical',\n",
       " 'comics',\n",
       " 'coming',\n",
       " 'comment',\n",
       " 'commentary',\n",
       " 'comments',\n",
       " 'commercial',\n",
       " 'commercials',\n",
       " 'commit',\n",
       " 'committed',\n",
       " 'common',\n",
       " 'community',\n",
       " 'company',\n",
       " 'compare',\n",
       " 'compared',\n",
       " 'comparison',\n",
       " 'compelling',\n",
       " 'competent',\n",
       " 'competition',\n",
       " 'complain',\n",
       " 'complaint',\n",
       " 'complete',\n",
       " 'completely',\n",
       " 'complex',\n",
       " 'complicated',\n",
       " 'composed',\n",
       " 'computer',\n",
       " 'con',\n",
       " 'conceived',\n",
       " 'concept',\n",
       " 'concerned',\n",
       " 'concerning',\n",
       " 'concerns',\n",
       " 'concert',\n",
       " 'conclusion',\n",
       " 'condition',\n",
       " 'conflict',\n",
       " 'confused',\n",
       " 'confusing',\n",
       " 'confusion',\n",
       " 'connect',\n",
       " 'connected',\n",
       " 'connection',\n",
       " 'consequences',\n",
       " 'consider',\n",
       " 'considered',\n",
       " 'considering',\n",
       " 'consists',\n",
       " 'conspiracy',\n",
       " 'constant',\n",
       " 'constantly',\n",
       " 'contact',\n",
       " 'contain',\n",
       " 'contained',\n",
       " 'contains',\n",
       " 'contemporary',\n",
       " 'content',\n",
       " 'context',\n",
       " 'continue',\n",
       " 'continued',\n",
       " 'continues',\n",
       " 'continuity',\n",
       " 'contract',\n",
       " 'contrary',\n",
       " 'contrast',\n",
       " 'contrived',\n",
       " 'control',\n",
       " 'controversial',\n",
       " 'conventional',\n",
       " 'conversation',\n",
       " 'conversations',\n",
       " 'convey',\n",
       " 'convince',\n",
       " 'convinced',\n",
       " 'convincing',\n",
       " 'convoluted',\n",
       " 'cook',\n",
       " 'cool',\n",
       " 'cooper',\n",
       " 'cop',\n",
       " 'cops',\n",
       " 'copy',\n",
       " 'core',\n",
       " 'corner',\n",
       " 'corny',\n",
       " 'corpse',\n",
       " 'correct',\n",
       " 'corrupt',\n",
       " 'cost',\n",
       " 'costs',\n",
       " 'costume',\n",
       " 'costumes',\n",
       " 'could',\n",
       " 'couldn',\n",
       " 'count',\n",
       " 'countless',\n",
       " 'countries',\n",
       " 'country',\n",
       " 'couple',\n",
       " 'courage',\n",
       " 'course',\n",
       " 'court',\n",
       " 'cousin',\n",
       " 'cover',\n",
       " 'covered',\n",
       " 'covers',\n",
       " 'cowboy',\n",
       " 'cox',\n",
       " 'craft',\n",
       " 'crafted',\n",
       " 'craig',\n",
       " 'crap',\n",
       " 'crappy',\n",
       " 'crash',\n",
       " 'craven',\n",
       " 'crazy',\n",
       " 'create',\n",
       " 'created',\n",
       " 'creates',\n",
       " 'creating',\n",
       " 'creation',\n",
       " 'creative',\n",
       " 'creators',\n",
       " 'creature',\n",
       " 'creatures',\n",
       " 'credibility',\n",
       " 'credible',\n",
       " 'credit',\n",
       " 'credits',\n",
       " 'creepy',\n",
       " 'crew',\n",
       " 'cried',\n",
       " 'crime',\n",
       " 'crimes',\n",
       " 'criminal',\n",
       " 'criminals',\n",
       " 'crisis',\n",
       " 'critic',\n",
       " 'critical',\n",
       " 'criticism',\n",
       " 'critics',\n",
       " 'cross',\n",
       " 'crowd',\n",
       " 'crude',\n",
       " 'cruel',\n",
       " 'cruise',\n",
       " 'cry',\n",
       " 'crying',\n",
       " 'cuba',\n",
       " 'cube',\n",
       " 'cult',\n",
       " 'cultural',\n",
       " 'culture',\n",
       " 'cup',\n",
       " 'curiosity',\n",
       " 'curious',\n",
       " 'current',\n",
       " 'currently',\n",
       " 'curse',\n",
       " 'curtis',\n",
       " 'cusack',\n",
       " 'cut',\n",
       " 'cute',\n",
       " 'cuts',\n",
       " 'cutting',\n",
       " 'cynical',\n",
       " 'dad',\n",
       " 'daily',\n",
       " 'damn',\n",
       " 'dan',\n",
       " 'dance',\n",
       " 'dancer',\n",
       " 'dancers',\n",
       " 'dancing',\n",
       " 'danes',\n",
       " 'danger',\n",
       " 'dangerous',\n",
       " 'daniel',\n",
       " 'danny',\n",
       " 'dare',\n",
       " 'daring',\n",
       " 'dark',\n",
       " 'darker',\n",
       " 'darkness',\n",
       " 'date',\n",
       " 'dated',\n",
       " 'daughter',\n",
       " 'daughters',\n",
       " 'dave',\n",
       " 'david',\n",
       " 'davies',\n",
       " 'davis',\n",
       " 'dawn',\n",
       " 'dawson',\n",
       " 'day',\n",
       " 'days',\n",
       " 'de',\n",
       " 'dead',\n",
       " 'deadly',\n",
       " 'deal',\n",
       " 'dealing',\n",
       " 'deals',\n",
       " 'dealt',\n",
       " 'dean',\n",
       " 'dear',\n",
       " 'death',\n",
       " 'deaths',\n",
       " 'debut',\n",
       " 'decade',\n",
       " 'decades',\n",
       " 'decent',\n",
       " 'decide',\n",
       " 'decided',\n",
       " 'decides',\n",
       " 'decision',\n",
       " 'deep',\n",
       " 'deeper',\n",
       " 'deeply',\n",
       " 'definite',\n",
       " 'definitely',\n",
       " 'degree',\n",
       " 'delight',\n",
       " 'delightful',\n",
       " 'deliver',\n",
       " 'delivered',\n",
       " 'delivers',\n",
       " 'delivery',\n",
       " 'demands',\n",
       " 'demon',\n",
       " 'demons',\n",
       " 'dennis',\n",
       " 'dentist',\n",
       " 'denzel',\n",
       " 'department',\n",
       " 'depicted',\n",
       " 'depiction',\n",
       " 'depressing',\n",
       " 'depression',\n",
       " 'depth',\n",
       " 'derek',\n",
       " 'describe',\n",
       " 'described',\n",
       " 'description',\n",
       " 'desert',\n",
       " 'deserve',\n",
       " 'deserved',\n",
       " 'deserves',\n",
       " 'design',\n",
       " 'designed',\n",
       " 'desire',\n",
       " 'desperate',\n",
       " 'desperately',\n",
       " 'despite',\n",
       " 'destroy',\n",
       " 'destroyed',\n",
       " 'destruction',\n",
       " 'detail',\n",
       " 'details',\n",
       " 'detective',\n",
       " 'determined',\n",
       " 'develop',\n",
       " 'developed',\n",
       " 'development',\n",
       " 'develops',\n",
       " 'device',\n",
       " 'devil',\n",
       " 'devoted',\n",
       " 'dialog',\n",
       " 'dialogs',\n",
       " 'dialogue',\n",
       " 'dialogues',\n",
       " 'diamond',\n",
       " 'dick',\n",
       " 'did',\n",
       " 'didn',\n",
       " 'die',\n",
       " 'died',\n",
       " 'dies',\n",
       " 'difference',\n",
       " 'differences',\n",
       " 'different',\n",
       " 'difficult',\n",
       " 'dig',\n",
       " 'digital',\n",
       " 'dignity',\n",
       " 'dimensional',\n",
       " 'dinner',\n",
       " 'dinosaurs',\n",
       " 'dire',\n",
       " ...]"
      ]
     },
     "execution_count": 136,
     "metadata": {},
     "output_type": "execute_result"
    }
   ],
   "source": [
    "cv.get_feature_names()"
   ]
  },
  {
   "cell_type": "code",
   "execution_count": 137,
   "id": "d7b3b743",
   "metadata": {},
   "outputs": [],
   "source": [
    "y = mreview['sentiment']"
   ]
  },
  {
   "cell_type": "code",
   "execution_count": 138,
   "id": "bd57295d",
   "metadata": {},
   "outputs": [
    {
     "data": {
      "text/plain": [
       "0        1\n",
       "1        1\n",
       "2        0\n",
       "3        0\n",
       "4        1\n",
       "        ..\n",
       "24995    0\n",
       "24996    0\n",
       "24997    0\n",
       "24998    0\n",
       "24999    1\n",
       "Name: sentiment, Length: 25000, dtype: int64"
      ]
     },
     "execution_count": 138,
     "metadata": {},
     "output_type": "execute_result"
    }
   ],
   "source": [
    "y"
   ]
  },
  {
   "cell_type": "code",
   "execution_count": 139,
   "id": "eade3452",
   "metadata": {},
   "outputs": [],
   "source": [
    "Xtrain, Xtest, ytrain, ytest = train_test_split(X,y,test_size=0.2,random_state=200)"
   ]
  },
  {
   "cell_type": "code",
   "execution_count": 107,
   "id": "8c50a358",
   "metadata": {},
   "outputs": [
    {
     "data": {
      "text/plain": [
       "(20000, 4000)"
      ]
     },
     "execution_count": 107,
     "metadata": {},
     "output_type": "execute_result"
    }
   ],
   "source": [
    "Xtrain.shape"
   ]
  },
  {
   "cell_type": "code",
   "execution_count": 108,
   "id": "804a18ff",
   "metadata": {},
   "outputs": [
    {
     "data": {
      "text/plain": [
       "(5000, 4000)"
      ]
     },
     "execution_count": 108,
     "metadata": {},
     "output_type": "execute_result"
    }
   ],
   "source": [
    "Xtest.shape"
   ]
  },
  {
   "cell_type": "code",
   "execution_count": 140,
   "id": "3284a2c5",
   "metadata": {},
   "outputs": [
    {
     "data": {
      "text/plain": [
       "(20000,)"
      ]
     },
     "execution_count": 140,
     "metadata": {},
     "output_type": "execute_result"
    }
   ],
   "source": [
    "ytrain.shape"
   ]
  },
  {
   "cell_type": "code",
   "execution_count": 141,
   "id": "8197256e",
   "metadata": {},
   "outputs": [
    {
     "data": {
      "text/plain": [
       "(5000,)"
      ]
     },
     "execution_count": 141,
     "metadata": {},
     "output_type": "execute_result"
    }
   ],
   "source": [
    "ytest.shape"
   ]
  },
  {
   "cell_type": "code",
   "execution_count": 116,
   "id": "979f1700",
   "metadata": {},
   "outputs": [],
   "source": [
    "clf = linear_model.LogisticRegression(max_iter=500)"
   ]
  },
  {
   "cell_type": "code",
   "execution_count": 117,
   "id": "ad2917c2",
   "metadata": {},
   "outputs": [
    {
     "name": "stderr",
     "output_type": "stream",
     "text": [
      "C:\\Users\\Swastik\\anaconda3\\lib\\site-packages\\sklearn\\linear_model\\_logistic.py:763: ConvergenceWarning: lbfgs failed to converge (status=1):\n",
      "STOP: TOTAL NO. of ITERATIONS REACHED LIMIT.\n",
      "\n",
      "Increase the number of iterations (max_iter) or scale the data as shown in:\n",
      "    https://scikit-learn.org/stable/modules/preprocessing.html\n",
      "Please also refer to the documentation for alternative solver options:\n",
      "    https://scikit-learn.org/stable/modules/linear_model.html#logistic-regression\n",
      "  n_iter_i = _check_optimize_result(\n"
     ]
    }
   ],
   "source": [
    "mod = clf.fit(Xtrain,ytrain)"
   ]
  },
  {
   "cell_type": "code",
   "execution_count": 119,
   "id": "f1e83fa0",
   "metadata": {},
   "outputs": [
    {
     "data": {
      "text/plain": [
       "array([[2.65611529e-01, 7.34388471e-01],\n",
       "       [9.99933058e-01, 6.69422534e-05],\n",
       "       [9.99999977e-01, 2.25216733e-08],\n",
       "       ...,\n",
       "       [5.99755147e-03, 9.94002449e-01],\n",
       "       [9.99721550e-01, 2.78450155e-04],\n",
       "       [9.99986659e-01, 1.33414645e-05]])"
      ]
     },
     "execution_count": 119,
     "metadata": {},
     "output_type": "execute_result"
    }
   ],
   "source": [
    "mod.predict_proba(Xtest)"
   ]
  },
  {
   "cell_type": "code",
   "execution_count": 120,
   "id": "a5730799",
   "metadata": {},
   "outputs": [
    {
     "data": {
      "text/plain": [
       "array([0, 1], dtype=int64)"
      ]
     },
     "execution_count": 120,
     "metadata": {},
     "output_type": "execute_result"
    }
   ],
   "source": [
    "mod.classes_"
   ]
  },
  {
   "cell_type": "code",
   "execution_count": 142,
   "id": "2956619d",
   "metadata": {
    "scrolled": true
   },
   "outputs": [
    {
     "name": "stderr",
     "output_type": "stream",
     "text": [
      "C:\\Users\\Swastik\\anaconda3\\lib\\site-packages\\sklearn\\linear_model\\_logistic.py:763: ConvergenceWarning: lbfgs failed to converge (status=1):\n",
      "STOP: TOTAL NO. of ITERATIONS REACHED LIMIT.\n",
      "\n",
      "Increase the number of iterations (max_iter) or scale the data as shown in:\n",
      "    https://scikit-learn.org/stable/modules/preprocessing.html\n",
      "Please also refer to the documentation for alternative solver options:\n",
      "    https://scikit-learn.org/stable/modules/linear_model.html#logistic-regression\n",
      "  n_iter_i = _check_optimize_result(\n",
      "C:\\Users\\Swastik\\anaconda3\\lib\\site-packages\\sklearn\\linear_model\\_logistic.py:763: ConvergenceWarning: lbfgs failed to converge (status=1):\n",
      "STOP: TOTAL NO. of ITERATIONS REACHED LIMIT.\n",
      "\n",
      "Increase the number of iterations (max_iter) or scale the data as shown in:\n",
      "    https://scikit-learn.org/stable/modules/preprocessing.html\n",
      "Please also refer to the documentation for alternative solver options:\n",
      "    https://scikit-learn.org/stable/modules/linear_model.html#logistic-regression\n",
      "  n_iter_i = _check_optimize_result(\n",
      "C:\\Users\\Swastik\\anaconda3\\lib\\site-packages\\sklearn\\linear_model\\_logistic.py:763: ConvergenceWarning: lbfgs failed to converge (status=1):\n",
      "STOP: TOTAL NO. of ITERATIONS REACHED LIMIT.\n",
      "\n",
      "Increase the number of iterations (max_iter) or scale the data as shown in:\n",
      "    https://scikit-learn.org/stable/modules/preprocessing.html\n",
      "Please also refer to the documentation for alternative solver options:\n",
      "    https://scikit-learn.org/stable/modules/linear_model.html#logistic-regression\n",
      "  n_iter_i = _check_optimize_result(\n",
      "C:\\Users\\Swastik\\anaconda3\\lib\\site-packages\\sklearn\\linear_model\\_logistic.py:763: ConvergenceWarning: lbfgs failed to converge (status=1):\n",
      "STOP: TOTAL NO. of ITERATIONS REACHED LIMIT.\n",
      "\n",
      "Increase the number of iterations (max_iter) or scale the data as shown in:\n",
      "    https://scikit-learn.org/stable/modules/preprocessing.html\n",
      "Please also refer to the documentation for alternative solver options:\n",
      "    https://scikit-learn.org/stable/modules/linear_model.html#logistic-regression\n",
      "  n_iter_i = _check_optimize_result(\n",
      "C:\\Users\\Swastik\\anaconda3\\lib\\site-packages\\sklearn\\linear_model\\_logistic.py:763: ConvergenceWarning: lbfgs failed to converge (status=1):\n",
      "STOP: TOTAL NO. of ITERATIONS REACHED LIMIT.\n",
      "\n",
      "Increase the number of iterations (max_iter) or scale the data as shown in:\n",
      "    https://scikit-learn.org/stable/modules/preprocessing.html\n",
      "Please also refer to the documentation for alternative solver options:\n",
      "    https://scikit-learn.org/stable/modules/linear_model.html#logistic-regression\n",
      "  n_iter_i = _check_optimize_result(\n",
      "C:\\Users\\Swastik\\anaconda3\\lib\\site-packages\\sklearn\\linear_model\\_logistic.py:763: ConvergenceWarning: lbfgs failed to converge (status=1):\n",
      "STOP: TOTAL NO. of ITERATIONS REACHED LIMIT.\n",
      "\n",
      "Increase the number of iterations (max_iter) or scale the data as shown in:\n",
      "    https://scikit-learn.org/stable/modules/preprocessing.html\n",
      "Please also refer to the documentation for alternative solver options:\n",
      "    https://scikit-learn.org/stable/modules/linear_model.html#logistic-regression\n",
      "  n_iter_i = _check_optimize_result(\n",
      "C:\\Users\\Swastik\\anaconda3\\lib\\site-packages\\sklearn\\linear_model\\_logistic.py:763: ConvergenceWarning: lbfgs failed to converge (status=1):\n",
      "STOP: TOTAL NO. of ITERATIONS REACHED LIMIT.\n",
      "\n",
      "Increase the number of iterations (max_iter) or scale the data as shown in:\n",
      "    https://scikit-learn.org/stable/modules/preprocessing.html\n",
      "Please also refer to the documentation for alternative solver options:\n",
      "    https://scikit-learn.org/stable/modules/linear_model.html#logistic-regression\n",
      "  n_iter_i = _check_optimize_result(\n",
      "C:\\Users\\Swastik\\anaconda3\\lib\\site-packages\\sklearn\\linear_model\\_logistic.py:763: ConvergenceWarning: lbfgs failed to converge (status=1):\n",
      "STOP: TOTAL NO. of ITERATIONS REACHED LIMIT.\n",
      "\n",
      "Increase the number of iterations (max_iter) or scale the data as shown in:\n",
      "    https://scikit-learn.org/stable/modules/preprocessing.html\n",
      "Please also refer to the documentation for alternative solver options:\n",
      "    https://scikit-learn.org/stable/modules/linear_model.html#logistic-regression\n",
      "  n_iter_i = _check_optimize_result(\n",
      "C:\\Users\\Swastik\\anaconda3\\lib\\site-packages\\sklearn\\linear_model\\_logistic.py:763: ConvergenceWarning: lbfgs failed to converge (status=1):\n",
      "STOP: TOTAL NO. of ITERATIONS REACHED LIMIT.\n",
      "\n",
      "Increase the number of iterations (max_iter) or scale the data as shown in:\n",
      "    https://scikit-learn.org/stable/modules/preprocessing.html\n",
      "Please also refer to the documentation for alternative solver options:\n",
      "    https://scikit-learn.org/stable/modules/linear_model.html#logistic-regression\n",
      "  n_iter_i = _check_optimize_result(\n",
      "C:\\Users\\Swastik\\anaconda3\\lib\\site-packages\\sklearn\\linear_model\\_logistic.py:763: ConvergenceWarning: lbfgs failed to converge (status=1):\n",
      "STOP: TOTAL NO. of ITERATIONS REACHED LIMIT.\n",
      "\n",
      "Increase the number of iterations (max_iter) or scale the data as shown in:\n",
      "    https://scikit-learn.org/stable/modules/preprocessing.html\n",
      "Please also refer to the documentation for alternative solver options:\n",
      "    https://scikit-learn.org/stable/modules/linear_model.html#logistic-regression\n",
      "  n_iter_i = _check_optimize_result(\n",
      "C:\\Users\\Swastik\\anaconda3\\lib\\site-packages\\sklearn\\linear_model\\_logistic.py:763: ConvergenceWarning: lbfgs failed to converge (status=1):\n",
      "STOP: TOTAL NO. of ITERATIONS REACHED LIMIT.\n",
      "\n",
      "Increase the number of iterations (max_iter) or scale the data as shown in:\n",
      "    https://scikit-learn.org/stable/modules/preprocessing.html\n",
      "Please also refer to the documentation for alternative solver options:\n",
      "    https://scikit-learn.org/stable/modules/linear_model.html#logistic-regression\n",
      "  n_iter_i = _check_optimize_result(\n"
     ]
    },
    {
     "data": {
      "text/plain": [
       "GridSearchCV(estimator=LogisticRegression(max_iter=500),\n",
       "             param_grid={'C': array([54.13470824, 26.52268101]),\n",
       "                         'penalty': ['l2']})"
      ]
     },
     "execution_count": 142,
     "metadata": {},
     "output_type": "execute_result"
    }
   ],
   "source": [
    "np.random.seed(300)\n",
    "mod = GridSearchCV(clf, param_grid={\"penalty\":['l2'],'C':np.random.uniform(0,120,2)})\n",
    "mod.fit(Xtrain,ytrain)"
   ]
  },
  {
   "cell_type": "code",
   "execution_count": 143,
   "id": "11c3a27c",
   "metadata": {},
   "outputs": [
    {
     "data": {
      "text/plain": [
       "LogisticRegression(C=26.522681005625447, max_iter=500)"
      ]
     },
     "execution_count": 143,
     "metadata": {},
     "output_type": "execute_result"
    }
   ],
   "source": [
    "mod.best_estimator_"
   ]
  },
  {
   "cell_type": "code",
   "execution_count": 144,
   "id": "95c4946f",
   "metadata": {},
   "outputs": [
    {
     "data": {
      "text/plain": [
       "0.8321500000000001"
      ]
     },
     "execution_count": 144,
     "metadata": {},
     "output_type": "execute_result"
    }
   ],
   "source": [
    "mod.best_score_"
   ]
  },
  {
   "cell_type": "code",
   "execution_count": 145,
   "id": "0cd99430",
   "metadata": {},
   "outputs": [
    {
     "data": {
      "text/plain": [
       "array([[2.85327543e-02, 9.71467246e-01],\n",
       "       [9.99999994e-01, 5.74825077e-09],\n",
       "       [1.00000000e+00, 5.45386565e-19],\n",
       "       ...,\n",
       "       [1.23314565e-05, 9.99987669e-01],\n",
       "       [9.99999953e-01, 4.66697564e-08],\n",
       "       [1.00000000e+00, 2.41823544e-12]])"
      ]
     },
     "execution_count": 145,
     "metadata": {},
     "output_type": "execute_result"
    }
   ],
   "source": [
    "mod.predict_proba(Xtest)"
   ]
  },
  {
   "cell_type": "code",
   "execution_count": 146,
   "id": "74ab8f62",
   "metadata": {},
   "outputs": [
    {
     "data": {
      "text/plain": [
       "(array([0.00000000e+00, 7.93021412e-04, 7.93021412e-04, ...,\n",
       "        9.55194290e-01, 9.55194290e-01, 1.00000000e+00]),\n",
       " array([0.        , 0.04277643, 0.04600484, ..., 0.99959645, 1.        ,\n",
       "        1.        ]),\n",
       " array([2.00000000e+00, 1.00000000e+00, 1.00000000e+00, ...,\n",
       "        1.00325611e-17, 9.20087054e-18, 4.84589677e-50]))"
      ]
     },
     "execution_count": 146,
     "metadata": {},
     "output_type": "execute_result"
    }
   ],
   "source": [
    "roc_curve(ytest,mod.predict_proba(Xtest)[:,1])"
   ]
  },
  {
   "cell_type": "code",
   "execution_count": 147,
   "id": "8cede429",
   "metadata": {},
   "outputs": [],
   "source": [
    "fpr, tpr, threshold = roc_curve(ytest,mod.predict_proba(Xtest)[:,1])"
   ]
  },
  {
   "cell_type": "code",
   "execution_count": 148,
   "id": "bb5a8653",
   "metadata": {},
   "outputs": [],
   "source": [
    "roc_score = roc_auc_score(ytest,mod.predict_proba(Xtest)[:,1])"
   ]
  },
  {
   "cell_type": "code",
   "execution_count": 149,
   "id": "c271a4b2",
   "metadata": {},
   "outputs": [
    {
     "data": {
      "image/png": "[encoded data removed]",
      "text/plain": [
       "<Figure size 432x288 with 1 Axes>"
      ]
     },
     "metadata": {
      "needs_background": "light"
     },
     "output_type": "display_data"
    }
   ],
   "source": [
    "plt.title('ROC Curve')\n",
    "plt.plot(fpr,tpr,'b',label='AUC = %0.2f' % roc_score)\n",
    "plt.legend(loc='lower right')\n",
    "plt.plot([0,1],[0,1],'r--')\n",
    "plt.ylabel('True Positive Rate')\n",
    "plt.xlabel('False Positive Rate')\n",
    "plt.show()"
   ]
  },
  {
   "cell_type": "code",
   "execution_count": 152,
   "id": "6348fd47",
   "metadata": {},
   "outputs": [
    {
     "data": {
      "text/plain": [
       "array([[2123,  399],\n",
       "       [ 395, 2083]], dtype=int64)"
      ]
     },
     "execution_count": 152,
     "metadata": {},
     "output_type": "execute_result"
    }
   ],
   "source": [
    "confusion_matrix(ytest,mod.predict(Xtest))"
   ]
  },
  {
   "cell_type": "code",
   "execution_count": 153,
   "id": "20778053",
   "metadata": {},
   "outputs": [
    {
     "name": "stdout",
     "output_type": "stream",
     "text": [
      "              precision    recall  f1-score   support\n",
      "\n",
      "           0       0.84      0.84      0.84      2522\n",
      "           1       0.84      0.84      0.84      2478\n",
      "\n",
      "    accuracy                           0.84      5000\n",
      "   macro avg       0.84      0.84      0.84      5000\n",
      "weighted avg       0.84      0.84      0.84      5000\n",
      "\n"
     ]
    }
   ],
   "source": [
    "print(classification_report(ytest,mod.predict(Xtest)))"
   ]
  },
  {
   "cell_type": "code",
   "execution_count": 154,
   "id": "2d1c2c0b",
   "metadata": {},
   "outputs": [],
   "source": [
    "demo_text = ['for starters , it was created by alan moore ( and eddie campbell ) , who brought the medium to a whole new level in the mid 80s with a 12-part series called the watchmen .   ',\n",
    "            \"in other words , don't dismiss this film because of its source .\",\n",
    "            'Must watch',\n",
    "            'if you can get past the whole comic book thing , you might find another stumbling block in from hells directors , albert and allen hughes',\n",
    "            \"'it's a quick , straight shot to the movie's end'\",\n",
    "            'negative',\n",
    "            \"'after watching _a_night_at_the_roxbury_ , you'll be left with exactly the same'\"]"
   ]
  },
  {
   "cell_type": "code",
   "execution_count": 157,
   "id": "233be6f2",
   "metadata": {},
   "outputs": [
    {
     "data": {
      "text/plain": [
       "array([[0.74310512, 0.25689488],\n",
       "       [0.91441441, 0.08558559],\n",
       "       [0.46629849, 0.53370151],\n",
       "       [0.95058956, 0.04941044],\n",
       "       [0.28521828, 0.71478172],\n",
       "       [0.16496222, 0.83503778],\n",
       "       [0.86125398, 0.13874602]])"
      ]
     },
     "execution_count": 157,
     "metadata": {},
     "output_type": "execute_result"
    }
   ],
   "source": [
    "mod.predict_proba(cv.transform(demo_text))"
   ]
  },
  {
   "cell_type": "code",
   "execution_count": null,
   "id": "96d36a28",
   "metadata": {},
   "outputs": [],
   "source": []
  },
  {
   "cell_type": "code",
   "execution_count": null,
   "id": "45952a77",
   "metadata": {},
   "outputs": [],
   "source": [
    "#Multi-Class"
   ]
  },
  {
   "cell_type": "code",
   "execution_count": 158,
   "id": "83df2cc6",
   "metadata": {},
   "outputs": [],
   "source": [
    "pixel_values = pd.read_csv('mnist_x.csv')\n",
    "image_lables = pd.read_csv('mnist_y.csv',header=None)"
   ]
  },
  {
   "cell_type": "code",
   "execution_count": 159,
   "id": "4980aac4",
   "metadata": {},
   "outputs": [
    {
     "data": {
      "text/html": [
       "<div>\n",
       "<style scoped>\n",
       "    .dataframe tbody tr th:only-of-type {\n",
       "        vertical-align: middle;\n",
       "    }\n",
       "\n",
       "    .dataframe tbody tr th {\n",
       "        vertical-align: top;\n",
       "    }\n",
       "\n",
       "    .dataframe thead th {\n",
       "        text-align: right;\n",
       "    }\n",
       "</style>\n",
       "<table border=\"1\" class=\"dataframe\">\n",
       "  <thead>\n",
       "    <tr style=\"text-align: right;\">\n",
       "      <th></th>\n",
       "      <th>0</th>\n",
       "      <th>1</th>\n",
       "      <th>2</th>\n",
       "      <th>3</th>\n",
       "      <th>4</th>\n",
       "      <th>5</th>\n",
       "      <th>6</th>\n",
       "      <th>7</th>\n",
       "      <th>8</th>\n",
       "      <th>9</th>\n",
       "      <th>...</th>\n",
       "      <th>54</th>\n",
       "      <th>55</th>\n",
       "      <th>56</th>\n",
       "      <th>57</th>\n",
       "      <th>58</th>\n",
       "      <th>59</th>\n",
       "      <th>60</th>\n",
       "      <th>61</th>\n",
       "      <th>62</th>\n",
       "      <th>63</th>\n",
       "    </tr>\n",
       "  </thead>\n",
       "  <tbody>\n",
       "    <tr>\n",
       "      <th>0</th>\n",
       "      <td>0.0</td>\n",
       "      <td>0.0</td>\n",
       "      <td>5.0</td>\n",
       "      <td>13.0</td>\n",
       "      <td>9.0</td>\n",
       "      <td>1.0</td>\n",
       "      <td>0.0</td>\n",
       "      <td>0.0</td>\n",
       "      <td>0.0</td>\n",
       "      <td>0.0</td>\n",
       "      <td>...</td>\n",
       "      <td>0.0</td>\n",
       "      <td>0.0</td>\n",
       "      <td>0.0</td>\n",
       "      <td>0.0</td>\n",
       "      <td>6.0</td>\n",
       "      <td>13.0</td>\n",
       "      <td>10.0</td>\n",
       "      <td>0.0</td>\n",
       "      <td>0.0</td>\n",
       "      <td>0.0</td>\n",
       "    </tr>\n",
       "    <tr>\n",
       "      <th>1</th>\n",
       "      <td>0.0</td>\n",
       "      <td>0.0</td>\n",
       "      <td>0.0</td>\n",
       "      <td>12.0</td>\n",
       "      <td>13.0</td>\n",
       "      <td>5.0</td>\n",
       "      <td>0.0</td>\n",
       "      <td>0.0</td>\n",
       "      <td>0.0</td>\n",
       "      <td>0.0</td>\n",
       "      <td>...</td>\n",
       "      <td>0.0</td>\n",
       "      <td>0.0</td>\n",
       "      <td>0.0</td>\n",
       "      <td>0.0</td>\n",
       "      <td>0.0</td>\n",
       "      <td>11.0</td>\n",
       "      <td>16.0</td>\n",
       "      <td>10.0</td>\n",
       "      <td>0.0</td>\n",
       "      <td>0.0</td>\n",
       "    </tr>\n",
       "    <tr>\n",
       "      <th>2</th>\n",
       "      <td>0.0</td>\n",
       "      <td>0.0</td>\n",
       "      <td>0.0</td>\n",
       "      <td>4.0</td>\n",
       "      <td>15.0</td>\n",
       "      <td>12.0</td>\n",
       "      <td>0.0</td>\n",
       "      <td>0.0</td>\n",
       "      <td>0.0</td>\n",
       "      <td>0.0</td>\n",
       "      <td>...</td>\n",
       "      <td>5.0</td>\n",
       "      <td>0.0</td>\n",
       "      <td>0.0</td>\n",
       "      <td>0.0</td>\n",
       "      <td>0.0</td>\n",
       "      <td>3.0</td>\n",
       "      <td>11.0</td>\n",
       "      <td>16.0</td>\n",
       "      <td>9.0</td>\n",
       "      <td>0.0</td>\n",
       "    </tr>\n",
       "    <tr>\n",
       "      <th>3</th>\n",
       "      <td>0.0</td>\n",
       "      <td>0.0</td>\n",
       "      <td>7.0</td>\n",
       "      <td>15.0</td>\n",
       "      <td>13.0</td>\n",
       "      <td>1.0</td>\n",
       "      <td>0.0</td>\n",
       "      <td>0.0</td>\n",
       "      <td>0.0</td>\n",
       "      <td>8.0</td>\n",
       "      <td>...</td>\n",
       "      <td>9.0</td>\n",
       "      <td>0.0</td>\n",
       "      <td>0.0</td>\n",
       "      <td>0.0</td>\n",
       "      <td>7.0</td>\n",
       "      <td>13.0</td>\n",
       "      <td>13.0</td>\n",
       "      <td>9.0</td>\n",
       "      <td>0.0</td>\n",
       "      <td>0.0</td>\n",
       "    </tr>\n",
       "    <tr>\n",
       "      <th>4</th>\n",
       "      <td>0.0</td>\n",
       "      <td>0.0</td>\n",
       "      <td>0.0</td>\n",
       "      <td>1.0</td>\n",
       "      <td>11.0</td>\n",
       "      <td>0.0</td>\n",
       "      <td>0.0</td>\n",
       "      <td>0.0</td>\n",
       "      <td>0.0</td>\n",
       "      <td>0.0</td>\n",
       "      <td>...</td>\n",
       "      <td>0.0</td>\n",
       "      <td>0.0</td>\n",
       "      <td>0.0</td>\n",
       "      <td>0.0</td>\n",
       "      <td>0.0</td>\n",
       "      <td>2.0</td>\n",
       "      <td>16.0</td>\n",
       "      <td>4.0</td>\n",
       "      <td>0.0</td>\n",
       "      <td>0.0</td>\n",
       "    </tr>\n",
       "  </tbody>\n",
       "</table>\n",
       "<p>5 rows × 64 columns</p>\n",
       "</div>"
      ],
      "text/plain": [
       "     0    1    2     3     4     5    6    7    8    9  ...   54   55   56  \\\n",
       "0  0.0  0.0  5.0  13.0   9.0   1.0  0.0  0.0  0.0  0.0  ...  0.0  0.0  0.0   \n",
       "1  0.0  0.0  0.0  12.0  13.0   5.0  0.0  0.0  0.0  0.0  ...  0.0  0.0  0.0   \n",
       "2  0.0  0.0  0.0   4.0  15.0  12.0  0.0  0.0  0.0  0.0  ...  5.0  0.0  0.0   \n",
       "3  0.0  0.0  7.0  15.0  13.0   1.0  0.0  0.0  0.0  8.0  ...  9.0  0.0  0.0   \n",
       "4  0.0  0.0  0.0   1.0  11.0   0.0  0.0  0.0  0.0  0.0  ...  0.0  0.0  0.0   \n",
       "\n",
       "    57   58    59    60    61   62   63  \n",
       "0  0.0  6.0  13.0  10.0   0.0  0.0  0.0  \n",
       "1  0.0  0.0  11.0  16.0  10.0  0.0  0.0  \n",
       "2  0.0  0.0   3.0  11.0  16.0  9.0  0.0  \n",
       "3  0.0  7.0  13.0  13.0   9.0  0.0  0.0  \n",
       "4  0.0  0.0   2.0  16.0   4.0  0.0  0.0  \n",
       "\n",
       "[5 rows x 64 columns]"
      ]
     },
     "execution_count": 159,
     "metadata": {},
     "output_type": "execute_result"
    }
   ],
   "source": [
    "pixel_values.head()"
   ]
  },
  {
   "cell_type": "code",
   "execution_count": 168,
   "id": "c304ff56",
   "metadata": {},
   "outputs": [
    {
     "data": {
      "text/plain": [
       "(1797, 64)"
      ]
     },
     "execution_count": 168,
     "metadata": {},
     "output_type": "execute_result"
    }
   ],
   "source": [
    "pixel_values.shape"
   ]
  },
  {
   "cell_type": "code",
   "execution_count": 160,
   "id": "21d9fe90",
   "metadata": {},
   "outputs": [
    {
     "data": {
      "text/html": [
       "<div>\n",
       "<style scoped>\n",
       "    .dataframe tbody tr th:only-of-type {\n",
       "        vertical-align: middle;\n",
       "    }\n",
       "\n",
       "    .dataframe tbody tr th {\n",
       "        vertical-align: top;\n",
       "    }\n",
       "\n",
       "    .dataframe thead th {\n",
       "        text-align: right;\n",
       "    }\n",
       "</style>\n",
       "<table border=\"1\" class=\"dataframe\">\n",
       "  <thead>\n",
       "    <tr style=\"text-align: right;\">\n",
       "      <th></th>\n",
       "      <th>0</th>\n",
       "    </tr>\n",
       "  </thead>\n",
       "  <tbody>\n",
       "    <tr>\n",
       "      <th>0</th>\n",
       "      <td>0</td>\n",
       "    </tr>\n",
       "    <tr>\n",
       "      <th>1</th>\n",
       "      <td>1</td>\n",
       "    </tr>\n",
       "    <tr>\n",
       "      <th>2</th>\n",
       "      <td>2</td>\n",
       "    </tr>\n",
       "    <tr>\n",
       "      <th>3</th>\n",
       "      <td>3</td>\n",
       "    </tr>\n",
       "    <tr>\n",
       "      <th>4</th>\n",
       "      <td>4</td>\n",
       "    </tr>\n",
       "  </tbody>\n",
       "</table>\n",
       "</div>"
      ],
      "text/plain": [
       "   0\n",
       "0  0\n",
       "1  1\n",
       "2  2\n",
       "3  3\n",
       "4  4"
      ]
     },
     "execution_count": 160,
     "metadata": {},
     "output_type": "execute_result"
    }
   ],
   "source": [
    "image_lables.head()"
   ]
  },
  {
   "cell_type": "code",
   "execution_count": 173,
   "id": "47d7adf8",
   "metadata": {},
   "outputs": [
    {
     "data": {
      "text/plain": [
       "<matplotlib.image.AxesImage at 0x188c9738dc0>"
      ]
     },
     "execution_count": 173,
     "metadata": {},
     "output_type": "execute_result"
    },
    {
     "data": {
      "image/png": "[encoded data removed]",
      "text/plain": [
       "<Figure size 432x288 with 1 Axes>"
      ]
     },
     "metadata": {
      "needs_background": "light"
     },
     "output_type": "display_data"
    }
   ],
   "source": [
    "plt.imshow(np.array(pixel_values.iloc[1200]).reshape(8,8),cmap='gray')"
   ]
  },
  {
   "cell_type": "code",
   "execution_count": 174,
   "id": "23dfb777",
   "metadata": {},
   "outputs": [
    {
     "data": {
      "text/plain": [
       "0    7\n",
       "Name: 1200, dtype: int64"
      ]
     },
     "execution_count": 174,
     "metadata": {},
     "output_type": "execute_result"
    }
   ],
   "source": [
    "image_lables.loc[1200]"
   ]
  },
  {
   "cell_type": "code",
   "execution_count": 175,
   "id": "c1ad935b",
   "metadata": {},
   "outputs": [],
   "source": [
    "X = pixel_values/255.0\n",
    "y = image_lables[0]"
   ]
  },
  {
   "cell_type": "code",
   "execution_count": 176,
   "id": "b18216da",
   "metadata": {},
   "outputs": [],
   "source": [
    "Xtrain, Xtest, ytrain, ytest = train_test_split(X,y,test_size=0.2,random_state=400)"
   ]
  },
  {
   "cell_type": "code",
   "execution_count": 177,
   "id": "93298f73",
   "metadata": {},
   "outputs": [],
   "source": [
    "clf = linear_model.LogisticRegression(penalty='l2', solver='lbfgs', multi_class='multinomial')"
   ]
  },
  {
   "cell_type": "code",
   "execution_count": 178,
   "id": "e2faab1f",
   "metadata": {},
   "outputs": [
    {
     "data": {
      "text/plain": [
       "GridSearchCV(estimator=LogisticRegression(multi_class='multinomial'),\n",
       "             param_grid={'C': array([6.7204162 , 2.33738485, 8.60705754, 2.97489986, 1.56733671,\n",
       "       0.21927904, 7.78392552, 4.10688767, 8.57400804, 5.43397647])})"
      ]
     },
     "execution_count": 178,
     "metadata": {},
     "output_type": "execute_result"
    }
   ],
   "source": [
    "np.random.seed(400)\n",
    "mod = GridSearchCV(clf, param_grid={'C':np.random.uniform(0.10,10,10)})\n",
    "mod.fit(Xtrain,ytrain)"
   ]
  },
  {
   "cell_type": "code",
   "execution_count": 179,
   "id": "c87428ca",
   "metadata": {},
   "outputs": [
    {
     "data": {
      "text/plain": [
       "{'C': 8.607057539306727}"
      ]
     },
     "execution_count": 179,
     "metadata": {},
     "output_type": "execute_result"
    }
   ],
   "source": [
    "mod.best_params_"
   ]
  },
  {
   "cell_type": "code",
   "execution_count": 180,
   "id": "10888a1d",
   "metadata": {},
   "outputs": [
    {
     "data": {
      "text/plain": [
       "0.9416666666666667"
      ]
     },
     "execution_count": 180,
     "metadata": {},
     "output_type": "execute_result"
    }
   ],
   "source": [
    "mod.score(Xtest,ytest)"
   ]
  },
  {
   "cell_type": "code",
   "execution_count": 183,
   "id": "b052d030",
   "metadata": {},
   "outputs": [
    {
     "data": {
      "text/plain": [
       "array([[0.        , 0.        , 0.02352941, 0.05490196, 0.0627451 ,\n",
       "        0.0627451 , 0.00784314, 0.        , 0.        , 0.01960784,\n",
       "        0.0627451 , 0.05098039, 0.04313725, 0.0627451 , 0.        ,\n",
       "        0.        , 0.        , 0.        , 0.02745098, 0.00784314,\n",
       "        0.05882353, 0.04705882, 0.        , 0.        , 0.        ,\n",
       "        0.        , 0.        , 0.02745098, 0.0627451 , 0.05098039,\n",
       "        0.00392157, 0.        , 0.        , 0.        , 0.        ,\n",
       "        0.        , 0.02352941, 0.05882353, 0.03921569, 0.        ,\n",
       "        0.        , 0.        , 0.        , 0.        , 0.        ,\n",
       "        0.05882353, 0.03529412, 0.        , 0.        , 0.        ,\n",
       "        0.01176471, 0.04313725, 0.03137255, 0.0627451 , 0.02352941,\n",
       "        0.        , 0.        , 0.        , 0.02745098, 0.0627451 ,\n",
       "        0.0627451 , 0.03137255, 0.        , 0.        ]])"
      ]
     },
     "execution_count": 183,
     "metadata": {},
     "output_type": "execute_result"
    }
   ],
   "source": [
    "Xtest.iloc[0].values.reshape(1,-1)"
   ]
  },
  {
   "cell_type": "code",
   "execution_count": 184,
   "id": "863f7cc1",
   "metadata": {},
   "outputs": [
    {
     "data": {
      "text/plain": [
       "array([[0.03375689, 0.01538378, 0.04205071, 0.59599157, 0.00358813,\n",
       "        0.03927104, 0.00484703, 0.03611584, 0.02636071, 0.2026343 ]])"
      ]
     },
     "execution_count": 184,
     "metadata": {},
     "output_type": "execute_result"
    }
   ],
   "source": [
    "mod.predict_proba(Xtest.iloc[0].values.reshape(1,-1))"
   ]
  },
  {
   "cell_type": "code",
   "execution_count": 185,
   "id": "5a87dec8",
   "metadata": {},
   "outputs": [
    {
     "data": {
      "text/plain": [
       "3"
      ]
     },
     "execution_count": 185,
     "metadata": {},
     "output_type": "execute_result"
    }
   ],
   "source": [
    "np.argmax(mod.predict_proba(Xtest.iloc[0].values.reshape(1,-1)))"
   ]
  },
  {
   "cell_type": "code",
   "execution_count": 186,
   "id": "9a37a7ef",
   "metadata": {},
   "outputs": [
    {
     "data": {
      "text/plain": [
       "<matplotlib.image.AxesImage at 0x188c93d6d60>"
      ]
     },
     "execution_count": 186,
     "metadata": {},
     "output_type": "execute_result"
    },
    {
     "data": {
      "image/png": "[encoded data removed]",
      "text/plain": [
       "<Figure size 432x288 with 1 Axes>"
      ]
     },
     "metadata": {
      "needs_background": "light"
     },
     "output_type": "display_data"
    }
   ],
   "source": [
    "plt.imshow(np.array(Xtest.iloc[0]).reshape(8,8),cmap='gray')"
   ]
  },
  {
   "cell_type": "code",
   "execution_count": 188,
   "id": "9c4e2c15",
   "metadata": {},
   "outputs": [
    {
     "data": {
      "text/plain": [
       "3"
      ]
     },
     "execution_count": 188,
     "metadata": {},
     "output_type": "execute_result"
    }
   ],
   "source": [
    "ytest.iloc[0]"
   ]
  },
  {
   "cell_type": "code",
   "execution_count": null,
   "id": "c5d51432",
   "metadata": {},
   "outputs": [],
   "source": []
  },
  {
   "cell_type": "code",
   "execution_count": null,
   "id": "e7420e21",
   "metadata": {},
   "outputs": [],
   "source": [
    "#Case-Study"
   ]
  },
  {
   "cell_type": "code",
   "execution_count": 319,
   "id": "39738767",
   "metadata": {},
   "outputs": [],
   "source": [
    "data = pd.read_csv('HR-Employee-Attrition.csv')"
   ]
  },
  {
   "cell_type": "code",
   "execution_count": 191,
   "id": "74d21456",
   "metadata": {},
   "outputs": [
    {
     "data": {
      "text/html": [
       "<div>\n",
       "<style scoped>\n",
       "    .dataframe tbody tr th:only-of-type {\n",
       "        vertical-align: middle;\n",
       "    }\n",
       "\n",
       "    .dataframe tbody tr th {\n",
       "        vertical-align: top;\n",
       "    }\n",
       "\n",
       "    .dataframe thead th {\n",
       "        text-align: right;\n",
       "    }\n",
       "</style>\n",
       "<table border=\"1\" class=\"dataframe\">\n",
       "  <thead>\n",
       "    <tr style=\"text-align: right;\">\n",
       "      <th></th>\n",
       "      <th>Age</th>\n",
       "      <th>Attrition</th>\n",
       "      <th>BusinessTravel</th>\n",
       "      <th>DailyRate</th>\n",
       "      <th>Department</th>\n",
       "      <th>DistanceFromHome</th>\n",
       "      <th>Education</th>\n",
       "      <th>EducationField</th>\n",
       "      <th>EmployeeCount</th>\n",
       "      <th>EmployeeNumber</th>\n",
       "      <th>...</th>\n",
       "      <th>RelationshipSatisfaction</th>\n",
       "      <th>StandardHours</th>\n",
       "      <th>StockOptionLevel</th>\n",
       "      <th>TotalWorkingYears</th>\n",
       "      <th>TrainingTimesLastYear</th>\n",
       "      <th>WorkLifeBalance</th>\n",
       "      <th>YearsAtCompany</th>\n",
       "      <th>YearsInCurrentRole</th>\n",
       "      <th>YearsSinceLastPromotion</th>\n",
       "      <th>YearsWithCurrManager</th>\n",
       "    </tr>\n",
       "  </thead>\n",
       "  <tbody>\n",
       "    <tr>\n",
       "      <th>0</th>\n",
       "      <td>41</td>\n",
       "      <td>Yes</td>\n",
       "      <td>Travel_Rarely</td>\n",
       "      <td>1102</td>\n",
       "      <td>Sales</td>\n",
       "      <td>1</td>\n",
       "      <td>2</td>\n",
       "      <td>Life Sciences</td>\n",
       "      <td>1</td>\n",
       "      <td>1</td>\n",
       "      <td>...</td>\n",
       "      <td>1</td>\n",
       "      <td>80</td>\n",
       "      <td>0</td>\n",
       "      <td>8</td>\n",
       "      <td>0</td>\n",
       "      <td>1</td>\n",
       "      <td>6</td>\n",
       "      <td>4</td>\n",
       "      <td>0</td>\n",
       "      <td>5</td>\n",
       "    </tr>\n",
       "    <tr>\n",
       "      <th>1</th>\n",
       "      <td>49</td>\n",
       "      <td>No</td>\n",
       "      <td>Travel_Frequently</td>\n",
       "      <td>279</td>\n",
       "      <td>Research &amp; Development</td>\n",
       "      <td>8</td>\n",
       "      <td>1</td>\n",
       "      <td>Life Sciences</td>\n",
       "      <td>1</td>\n",
       "      <td>2</td>\n",
       "      <td>...</td>\n",
       "      <td>4</td>\n",
       "      <td>80</td>\n",
       "      <td>1</td>\n",
       "      <td>10</td>\n",
       "      <td>3</td>\n",
       "      <td>3</td>\n",
       "      <td>10</td>\n",
       "      <td>7</td>\n",
       "      <td>1</td>\n",
       "      <td>7</td>\n",
       "    </tr>\n",
       "    <tr>\n",
       "      <th>2</th>\n",
       "      <td>37</td>\n",
       "      <td>Yes</td>\n",
       "      <td>Travel_Rarely</td>\n",
       "      <td>1373</td>\n",
       "      <td>Research &amp; Development</td>\n",
       "      <td>2</td>\n",
       "      <td>2</td>\n",
       "      <td>Other</td>\n",
       "      <td>1</td>\n",
       "      <td>4</td>\n",
       "      <td>...</td>\n",
       "      <td>2</td>\n",
       "      <td>80</td>\n",
       "      <td>0</td>\n",
       "      <td>7</td>\n",
       "      <td>3</td>\n",
       "      <td>3</td>\n",
       "      <td>0</td>\n",
       "      <td>0</td>\n",
       "      <td>0</td>\n",
       "      <td>0</td>\n",
       "    </tr>\n",
       "    <tr>\n",
       "      <th>3</th>\n",
       "      <td>33</td>\n",
       "      <td>No</td>\n",
       "      <td>Travel_Frequently</td>\n",
       "      <td>1392</td>\n",
       "      <td>Research &amp; Development</td>\n",
       "      <td>3</td>\n",
       "      <td>4</td>\n",
       "      <td>Life Sciences</td>\n",
       "      <td>1</td>\n",
       "      <td>5</td>\n",
       "      <td>...</td>\n",
       "      <td>3</td>\n",
       "      <td>80</td>\n",
       "      <td>0</td>\n",
       "      <td>8</td>\n",
       "      <td>3</td>\n",
       "      <td>3</td>\n",
       "      <td>8</td>\n",
       "      <td>7</td>\n",
       "      <td>3</td>\n",
       "      <td>0</td>\n",
       "    </tr>\n",
       "    <tr>\n",
       "      <th>4</th>\n",
       "      <td>27</td>\n",
       "      <td>No</td>\n",
       "      <td>Travel_Rarely</td>\n",
       "      <td>591</td>\n",
       "      <td>Research &amp; Development</td>\n",
       "      <td>2</td>\n",
       "      <td>1</td>\n",
       "      <td>Medical</td>\n",
       "      <td>1</td>\n",
       "      <td>7</td>\n",
       "      <td>...</td>\n",
       "      <td>4</td>\n",
       "      <td>80</td>\n",
       "      <td>1</td>\n",
       "      <td>6</td>\n",
       "      <td>3</td>\n",
       "      <td>3</td>\n",
       "      <td>2</td>\n",
       "      <td>2</td>\n",
       "      <td>2</td>\n",
       "      <td>2</td>\n",
       "    </tr>\n",
       "  </tbody>\n",
       "</table>\n",
       "<p>5 rows × 35 columns</p>\n",
       "</div>"
      ],
      "text/plain": [
       "   Age Attrition     BusinessTravel  DailyRate              Department  \\\n",
       "0   41       Yes      Travel_Rarely       1102                   Sales   \n",
       "1   49        No  Travel_Frequently        279  Research & Development   \n",
       "2   37       Yes      Travel_Rarely       1373  Research & Development   \n",
       "3   33        No  Travel_Frequently       1392  Research & Development   \n",
       "4   27        No      Travel_Rarely        591  Research & Development   \n",
       "\n",
       "   DistanceFromHome  Education EducationField  EmployeeCount  EmployeeNumber  \\\n",
       "0                 1          2  Life Sciences              1               1   \n",
       "1                 8          1  Life Sciences              1               2   \n",
       "2                 2          2          Other              1               4   \n",
       "3                 3          4  Life Sciences              1               5   \n",
       "4                 2          1        Medical              1               7   \n",
       "\n",
       "   ...  RelationshipSatisfaction StandardHours  StockOptionLevel  \\\n",
       "0  ...                         1            80                 0   \n",
       "1  ...                         4            80                 1   \n",
       "2  ...                         2            80                 0   \n",
       "3  ...                         3            80                 0   \n",
       "4  ...                         4            80                 1   \n",
       "\n",
       "   TotalWorkingYears  TrainingTimesLastYear WorkLifeBalance  YearsAtCompany  \\\n",
       "0                  8                      0               1               6   \n",
       "1                 10                      3               3              10   \n",
       "2                  7                      3               3               0   \n",
       "3                  8                      3               3               8   \n",
       "4                  6                      3               3               2   \n",
       "\n",
       "  YearsInCurrentRole  YearsSinceLastPromotion  YearsWithCurrManager  \n",
       "0                  4                        0                     5  \n",
       "1                  7                        1                     7  \n",
       "2                  0                        0                     0  \n",
       "3                  7                        3                     0  \n",
       "4                  2                        2                     2  \n",
       "\n",
       "[5 rows x 35 columns]"
      ]
     },
     "execution_count": 191,
     "metadata": {},
     "output_type": "execute_result"
    }
   ],
   "source": [
    "data.head()"
   ]
  },
  {
   "cell_type": "code",
   "execution_count": 192,
   "id": "e72cbffc",
   "metadata": {},
   "outputs": [
    {
     "name": "stdout",
     "output_type": "stream",
     "text": [
      "<class 'pandas.core.frame.DataFrame'>\n",
      "RangeIndex: 1470 entries, 0 to 1469\n",
      "Data columns (total 35 columns):\n",
      " #   Column                    Non-Null Count  Dtype \n",
      "---  ------                    --------------  ----- \n",
      " 0   Age                       1470 non-null   int64 \n",
      " 1   Attrition                 1470 non-null   object\n",
      " 2   BusinessTravel            1470 non-null   object\n",
      " 3   DailyRate                 1470 non-null   int64 \n",
      " 4   Department                1470 non-null   object\n",
      " 5   DistanceFromHome          1470 non-null   int64 \n",
      " 6   Education                 1470 non-null   int64 \n",
      " 7   EducationField            1470 non-null   object\n",
      " 8   EmployeeCount             1470 non-null   int64 \n",
      " 9   EmployeeNumber            1470 non-null   int64 \n",
      " 10  EnvironmentSatisfaction   1470 non-null   int64 \n",
      " 11  Gender                    1470 non-null   object\n",
      " 12  HourlyRate                1470 non-null   int64 \n",
      " 13  JobInvolvement            1470 non-null   int64 \n",
      " 14  JobLevel                  1470 non-null   int64 \n",
      " 15  JobRole                   1470 non-null   object\n",
      " 16  JobSatisfaction           1470 non-null   int64 \n",
      " 17  MaritalStatus             1470 non-null   object\n",
      " 18  MonthlyIncome             1470 non-null   int64 \n",
      " 19  MonthlyRate               1470 non-null   int64 \n",
      " 20  NumCompaniesWorked        1470 non-null   int64 \n",
      " 21  Over18                    1470 non-null   object\n",
      " 22  OverTime                  1470 non-null   object\n",
      " 23  PercentSalaryHike         1470 non-null   int64 \n",
      " 24  PerformanceRating         1470 non-null   int64 \n",
      " 25  RelationshipSatisfaction  1470 non-null   int64 \n",
      " 26  StandardHours             1470 non-null   int64 \n",
      " 27  StockOptionLevel          1470 non-null   int64 \n",
      " 28  TotalWorkingYears         1470 non-null   int64 \n",
      " 29  TrainingTimesLastYear     1470 non-null   int64 \n",
      " 30  WorkLifeBalance           1470 non-null   int64 \n",
      " 31  YearsAtCompany            1470 non-null   int64 \n",
      " 32  YearsInCurrentRole        1470 non-null   int64 \n",
      " 33  YearsSinceLastPromotion   1470 non-null   int64 \n",
      " 34  YearsWithCurrManager      1470 non-null   int64 \n",
      "dtypes: int64(26), object(9)\n",
      "memory usage: 402.1+ KB\n"
     ]
    }
   ],
   "source": [
    "data.info()"
   ]
  },
  {
   "cell_type": "code",
   "execution_count": 320,
   "id": "d2c4ef74",
   "metadata": {},
   "outputs": [],
   "source": [
    "data['Attrition'] = data['Attrition'].map(lambda x:1 if x=='Yes' else 0) "
   ]
  },
  {
   "cell_type": "code",
   "execution_count": 195,
   "id": "a6a28218",
   "metadata": {
    "scrolled": true
   },
   "outputs": [
    {
     "data": {
      "text/plain": [
       "Age                          int64\n",
       "Attrition                    int64\n",
       "BusinessTravel              object\n",
       "DailyRate                    int64\n",
       "Department                  object\n",
       "DistanceFromHome             int64\n",
       "Education                    int64\n",
       "EducationField              object\n",
       "EmployeeCount                int64\n",
       "EmployeeNumber               int64\n",
       "EnvironmentSatisfaction      int64\n",
       "Gender                      object\n",
       "HourlyRate                   int64\n",
       "JobInvolvement               int64\n",
       "JobLevel                     int64\n",
       "JobRole                     object\n",
       "JobSatisfaction              int64\n",
       "MaritalStatus               object\n",
       "MonthlyIncome                int64\n",
       "MonthlyRate                  int64\n",
       "NumCompaniesWorked           int64\n",
       "Over18                      object\n",
       "OverTime                    object\n",
       "PercentSalaryHike            int64\n",
       "PerformanceRating            int64\n",
       "RelationshipSatisfaction     int64\n",
       "StandardHours                int64\n",
       "StockOptionLevel             int64\n",
       "TotalWorkingYears            int64\n",
       "TrainingTimesLastYear        int64\n",
       "WorkLifeBalance              int64\n",
       "YearsAtCompany               int64\n",
       "YearsInCurrentRole           int64\n",
       "YearsSinceLastPromotion      int64\n",
       "YearsWithCurrManager         int64\n",
       "dtype: object"
      ]
     },
     "execution_count": 195,
     "metadata": {},
     "output_type": "execute_result"
    }
   ],
   "source": [
    "data.dtypes"
   ]
  },
  {
   "cell_type": "code",
   "execution_count": 321,
   "id": "eda683d9",
   "metadata": {},
   "outputs": [],
   "source": [
    "data = pd.get_dummies(data, columns=['BusinessTravel','Department','EducationField','Gender',\\\n",
    "                                    'JobRole','MaritalStatus','OverTime'])"
   ]
  },
  {
   "cell_type": "code",
   "execution_count": 301,
   "id": "7ad61cfa",
   "metadata": {},
   "outputs": [
    {
     "data": {
      "text/plain": [
       "Index(['Age', 'Attrition', 'DailyRate', 'DistanceFromHome', 'Education',\n",
       "       'EmployeeCount', 'EmployeeNumber', 'EnvironmentSatisfaction',\n",
       "       'HourlyRate', 'JobInvolvement', 'JobLevel', 'JobSatisfaction',\n",
       "       'MonthlyIncome', 'MonthlyRate', 'NumCompaniesWorked', 'Over18',\n",
       "       'PercentSalaryHike', 'PerformanceRating', 'RelationshipSatisfaction',\n",
       "       'StandardHours', 'StockOptionLevel', 'TotalWorkingYears',\n",
       "       'TrainingTimesLastYear', 'WorkLifeBalance', 'YearsAtCompany',\n",
       "       'YearsInCurrentRole', 'YearsSinceLastPromotion', 'YearsWithCurrManager',\n",
       "       'BusinessTravel_Non-Travel', 'BusinessTravel_Travel_Frequently',\n",
       "       'BusinessTravel_Travel_Rarely', 'Department_Human Resources',\n",
       "       'Department_Research & Development', 'Department_Sales',\n",
       "       'EducationField_Human Resources', 'EducationField_Life Sciences',\n",
       "       'EducationField_Marketing', 'EducationField_Medical',\n",
       "       'EducationField_Other', 'EducationField_Technical Degree',\n",
       "       'Gender_Female', 'Gender_Male', 'JobRole_Healthcare Representative',\n",
       "       'JobRole_Human Resources', 'JobRole_Laboratory Technician',\n",
       "       'JobRole_Manager', 'JobRole_Manufacturing Director',\n",
       "       'JobRole_Research Director', 'JobRole_Research Scientist',\n",
       "       'JobRole_Sales Executive', 'JobRole_Sales Representative',\n",
       "       'MaritalStatus_Divorced', 'MaritalStatus_Married',\n",
       "       'MaritalStatus_Single', 'OverTime_No', 'OverTime_Yes'],\n",
       "      dtype='object')"
      ]
     },
     "execution_count": 301,
     "metadata": {},
     "output_type": "execute_result"
    }
   ],
   "source": [
    "data.columns"
   ]
  },
  {
   "cell_type": "code",
   "execution_count": 322,
   "id": "0d4f14af",
   "metadata": {},
   "outputs": [],
   "source": [
    "data.drop(['Over18','Gender_Male','OverTime_No','EmployeeCount','StandardHours','EmployeeNumber'],axis=1,inplace=True)"
   ]
  },
  {
   "cell_type": "code",
   "execution_count": 200,
   "id": "ee511f0f",
   "metadata": {},
   "outputs": [
    {
     "data": {
      "text/html": [
       "<div>\n",
       "<style scoped>\n",
       "    .dataframe tbody tr th:only-of-type {\n",
       "        vertical-align: middle;\n",
       "    }\n",
       "\n",
       "    .dataframe tbody tr th {\n",
       "        vertical-align: top;\n",
       "    }\n",
       "\n",
       "    .dataframe thead th {\n",
       "        text-align: right;\n",
       "    }\n",
       "</style>\n",
       "<table border=\"1\" class=\"dataframe\">\n",
       "  <thead>\n",
       "    <tr style=\"text-align: right;\">\n",
       "      <th></th>\n",
       "      <th>Age</th>\n",
       "      <th>Attrition</th>\n",
       "      <th>DailyRate</th>\n",
       "      <th>DistanceFromHome</th>\n",
       "      <th>Education</th>\n",
       "      <th>EmployeeCount</th>\n",
       "      <th>EmployeeNumber</th>\n",
       "      <th>EnvironmentSatisfaction</th>\n",
       "      <th>HourlyRate</th>\n",
       "      <th>JobInvolvement</th>\n",
       "      <th>...</th>\n",
       "      <th>class_Manager</th>\n",
       "      <th>class_Manufacturing Director</th>\n",
       "      <th>class_Research Director</th>\n",
       "      <th>class_Research Scientist</th>\n",
       "      <th>class_Sales Executive</th>\n",
       "      <th>class_Sales Representative</th>\n",
       "      <th>class_Divorced</th>\n",
       "      <th>class_Married</th>\n",
       "      <th>class_Single</th>\n",
       "      <th>class_Yes</th>\n",
       "    </tr>\n",
       "  </thead>\n",
       "  <tbody>\n",
       "    <tr>\n",
       "      <th>0</th>\n",
       "      <td>41</td>\n",
       "      <td>1</td>\n",
       "      <td>1102</td>\n",
       "      <td>1</td>\n",
       "      <td>2</td>\n",
       "      <td>1</td>\n",
       "      <td>1</td>\n",
       "      <td>2</td>\n",
       "      <td>94</td>\n",
       "      <td>3</td>\n",
       "      <td>...</td>\n",
       "      <td>0</td>\n",
       "      <td>0</td>\n",
       "      <td>0</td>\n",
       "      <td>0</td>\n",
       "      <td>1</td>\n",
       "      <td>0</td>\n",
       "      <td>0</td>\n",
       "      <td>0</td>\n",
       "      <td>1</td>\n",
       "      <td>1</td>\n",
       "    </tr>\n",
       "    <tr>\n",
       "      <th>1</th>\n",
       "      <td>49</td>\n",
       "      <td>0</td>\n",
       "      <td>279</td>\n",
       "      <td>8</td>\n",
       "      <td>1</td>\n",
       "      <td>1</td>\n",
       "      <td>2</td>\n",
       "      <td>3</td>\n",
       "      <td>61</td>\n",
       "      <td>2</td>\n",
       "      <td>...</td>\n",
       "      <td>0</td>\n",
       "      <td>0</td>\n",
       "      <td>0</td>\n",
       "      <td>1</td>\n",
       "      <td>0</td>\n",
       "      <td>0</td>\n",
       "      <td>0</td>\n",
       "      <td>1</td>\n",
       "      <td>0</td>\n",
       "      <td>0</td>\n",
       "    </tr>\n",
       "    <tr>\n",
       "      <th>2</th>\n",
       "      <td>37</td>\n",
       "      <td>1</td>\n",
       "      <td>1373</td>\n",
       "      <td>2</td>\n",
       "      <td>2</td>\n",
       "      <td>1</td>\n",
       "      <td>4</td>\n",
       "      <td>4</td>\n",
       "      <td>92</td>\n",
       "      <td>2</td>\n",
       "      <td>...</td>\n",
       "      <td>0</td>\n",
       "      <td>0</td>\n",
       "      <td>0</td>\n",
       "      <td>0</td>\n",
       "      <td>0</td>\n",
       "      <td>0</td>\n",
       "      <td>0</td>\n",
       "      <td>0</td>\n",
       "      <td>1</td>\n",
       "      <td>1</td>\n",
       "    </tr>\n",
       "    <tr>\n",
       "      <th>3</th>\n",
       "      <td>33</td>\n",
       "      <td>0</td>\n",
       "      <td>1392</td>\n",
       "      <td>3</td>\n",
       "      <td>4</td>\n",
       "      <td>1</td>\n",
       "      <td>5</td>\n",
       "      <td>4</td>\n",
       "      <td>56</td>\n",
       "      <td>3</td>\n",
       "      <td>...</td>\n",
       "      <td>0</td>\n",
       "      <td>0</td>\n",
       "      <td>0</td>\n",
       "      <td>1</td>\n",
       "      <td>0</td>\n",
       "      <td>0</td>\n",
       "      <td>0</td>\n",
       "      <td>1</td>\n",
       "      <td>0</td>\n",
       "      <td>1</td>\n",
       "    </tr>\n",
       "    <tr>\n",
       "      <th>4</th>\n",
       "      <td>27</td>\n",
       "      <td>0</td>\n",
       "      <td>591</td>\n",
       "      <td>2</td>\n",
       "      <td>1</td>\n",
       "      <td>1</td>\n",
       "      <td>7</td>\n",
       "      <td>1</td>\n",
       "      <td>40</td>\n",
       "      <td>3</td>\n",
       "      <td>...</td>\n",
       "      <td>0</td>\n",
       "      <td>0</td>\n",
       "      <td>0</td>\n",
       "      <td>0</td>\n",
       "      <td>0</td>\n",
       "      <td>0</td>\n",
       "      <td>0</td>\n",
       "      <td>1</td>\n",
       "      <td>0</td>\n",
       "      <td>0</td>\n",
       "    </tr>\n",
       "  </tbody>\n",
       "</table>\n",
       "<p>5 rows × 53 columns</p>\n",
       "</div>"
      ],
      "text/plain": [
       "   Age  Attrition  DailyRate  DistanceFromHome  Education  EmployeeCount  \\\n",
       "0   41          1       1102                 1          2              1   \n",
       "1   49          0        279                 8          1              1   \n",
       "2   37          1       1373                 2          2              1   \n",
       "3   33          0       1392                 3          4              1   \n",
       "4   27          0        591                 2          1              1   \n",
       "\n",
       "   EmployeeNumber  EnvironmentSatisfaction  HourlyRate  JobInvolvement  ...  \\\n",
       "0               1                        2          94               3  ...   \n",
       "1               2                        3          61               2  ...   \n",
       "2               4                        4          92               2  ...   \n",
       "3               5                        4          56               3  ...   \n",
       "4               7                        1          40               3  ...   \n",
       "\n",
       "   class_Manager  class_Manufacturing Director  class_Research Director  \\\n",
       "0              0                             0                        0   \n",
       "1              0                             0                        0   \n",
       "2              0                             0                        0   \n",
       "3              0                             0                        0   \n",
       "4              0                             0                        0   \n",
       "\n",
       "   class_Research Scientist  class_Sales Executive  \\\n",
       "0                         0                      1   \n",
       "1                         1                      0   \n",
       "2                         0                      0   \n",
       "3                         1                      0   \n",
       "4                         0                      0   \n",
       "\n",
       "   class_Sales Representative  class_Divorced  class_Married  class_Single  \\\n",
       "0                           0               0              0             1   \n",
       "1                           0               0              1             0   \n",
       "2                           0               0              0             1   \n",
       "3                           0               0              1             0   \n",
       "4                           0               0              1             0   \n",
       "\n",
       "   class_Yes  \n",
       "0          1  \n",
       "1          0  \n",
       "2          1  \n",
       "3          1  \n",
       "4          0  \n",
       "\n",
       "[5 rows x 53 columns]"
      ]
     },
     "execution_count": 200,
     "metadata": {},
     "output_type": "execute_result"
    }
   ],
   "source": [
    "data.head()"
   ]
  },
  {
   "cell_type": "code",
   "execution_count": 323,
   "id": "9dc070a2",
   "metadata": {},
   "outputs": [
    {
     "data": {
      "text/plain": [
       "(1470, 50)"
      ]
     },
     "execution_count": 323,
     "metadata": {},
     "output_type": "execute_result"
    }
   ],
   "source": [
    "data.shape"
   ]
  },
  {
   "cell_type": "code",
   "execution_count": 324,
   "id": "a7b1aed9",
   "metadata": {},
   "outputs": [],
   "source": [
    "X = data.drop('Attrition',axis=1)\n",
    "y = data['Attrition']"
   ]
  },
  {
   "cell_type": "code",
   "execution_count": 325,
   "id": "dbe5d317",
   "metadata": {},
   "outputs": [],
   "source": [
    "Xtrain, Xtest, ytrain, ytest = train_test_split(X, y, test_size=0.2, random_state=123)"
   ]
  },
  {
   "cell_type": "code",
   "execution_count": 326,
   "id": "a40a4f4f",
   "metadata": {},
   "outputs": [],
   "source": [
    "Xtrain = sm.add_constant(Xtrain)\n",
    "Xtest = sm.add_constant(Xtest)"
   ]
  },
  {
   "cell_type": "code",
   "execution_count": 327,
   "id": "572e13cb",
   "metadata": {},
   "outputs": [
    {
     "name": "stderr",
     "output_type": "stream",
     "text": [
      "C:\\Users\\Swastik\\anaconda3\\lib\\site-packages\\statsmodels\\genmod\\families\\links.py:188: RuntimeWarning: overflow encountered in exp\n",
      "  t = np.exp(-z)\n"
     ]
    }
   ],
   "source": [
    "model = sm.GLM(ytrain,Xtrain,family=sm.families.Binomial()).fit()"
   ]
  },
  {
   "cell_type": "code",
   "execution_count": 270,
   "id": "209e8bf3",
   "metadata": {},
   "outputs": [
    {
     "data": {
      "text/html": [
       "<table class=\"simpletable\">\n",
       "<tr>\n",
       "        <td>Model:</td>               <td>GLM</td>            <td>AIC:</td>        <td>783.8193</td> \n",
       "</tr>\n",
       "<tr>\n",
       "    <td>Link Function:</td>          <td>logit</td>           <td>BIC:</td>       <td>-7297.1384</td>\n",
       "</tr>\n",
       "<tr>\n",
       "  <td>Dependent Variable:</td>     <td>Attrition</td>    <td>Log-Likelihood:</td>   <td>-345.91</td> \n",
       "</tr>\n",
       "<tr>\n",
       "         <td>Date:</td>        <td>2022-02-16 17:49</td>    <td>LL-Null:</td>       <td>-534.66</td> \n",
       "</tr>\n",
       "<tr>\n",
       "   <td>No. Observations:</td>        <td>1176</td>          <td>Deviance:</td>      <td>691.82</td>  \n",
       "</tr>\n",
       "<tr>\n",
       "       <td>Df Model:</td>             <td>45</td>         <td>Pearson chi2:</td>   <td>2.03e+03</td> \n",
       "</tr>\n",
       "<tr>\n",
       "     <td>Df Residuals:</td>          <td>1130</td>           <td>Scale:</td>        <td>1.0000</td>  \n",
       "</tr>\n",
       "<tr>\n",
       "        <td>Method:</td>             <td>IRLS</td>              <td></td>              <td></td>     \n",
       "</tr>\n",
       "</table>\n",
       "<table class=\"simpletable\">\n",
       "<tr>\n",
       "                  <td></td>                    <th>Coef.</th>   <th>Std.Err.</th>     <th>z</th>     <th>P>|z|</th>   <th>[0.025</th>      <th>0.975]</th>  \n",
       "</tr>\n",
       "<tr>\n",
       "  <th>Age</th>                                <td>-0.0364</td>   <td>0.0156</td>   <td>-2.3366</td> <td>0.0195</td>   <td>-0.0669</td>     <td>-0.0059</td> \n",
       "</tr>\n",
       "<tr>\n",
       "  <th>DailyRate</th>                          <td>-0.0005</td>   <td>0.0003</td>   <td>-1.9509</td> <td>0.0511</td>   <td>-0.0010</td>     <td>0.0000</td>  \n",
       "</tr>\n",
       "<tr>\n",
       "  <th>DistanceFromHome</th>                   <td>0.0522</td>    <td>0.0123</td>   <td>4.2536</td>  <td>0.0000</td>   <td>0.0281</td>      <td>0.0762</td>  \n",
       "</tr>\n",
       "<tr>\n",
       "  <th>Education</th>                          <td>-0.0072</td>   <td>0.0987</td>   <td>-0.0734</td> <td>0.9415</td>   <td>-0.2006</td>     <td>0.1861</td>  \n",
       "</tr>\n",
       "<tr>\n",
       "  <th>EmployeeCount</th>                      <td>0.0001</td>    <td>0.4492</td>   <td>0.0003</td>  <td>0.9998</td>   <td>-0.8803</td>     <td>0.8805</td>  \n",
       "</tr>\n",
       "<tr>\n",
       "  <th>EmployeeNumber</th>                     <td>-0.0002</td>   <td>0.0002</td>   <td>-1.0548</td> <td>0.2915</td>   <td>-0.0005</td>     <td>0.0002</td>  \n",
       "</tr>\n",
       "<tr>\n",
       "  <th>EnvironmentSatisfaction</th>            <td>-0.5211</td>   <td>0.0928</td>   <td>-5.6139</td> <td>0.0000</td>   <td>-0.7031</td>     <td>-0.3392</td> \n",
       "</tr>\n",
       "<tr>\n",
       "  <th>HourlyRate</th>                         <td>0.0004</td>    <td>0.0049</td>   <td>0.0862</td>  <td>0.9313</td>   <td>-0.0091</td>     <td>0.0099</td>  \n",
       "</tr>\n",
       "<tr>\n",
       "  <th>JobInvolvement</th>                     <td>-0.6612</td>   <td>0.1367</td>   <td>-4.8376</td> <td>0.0000</td>   <td>-0.9291</td>     <td>-0.3933</td> \n",
       "</tr>\n",
       "<tr>\n",
       "  <th>JobLevel</th>                           <td>-0.2184</td>   <td>0.3692</td>   <td>-0.5916</td> <td>0.5541</td>   <td>-0.9421</td>     <td>0.5052</td>  \n",
       "</tr>\n",
       "<tr>\n",
       "  <th>JobSatisfaction</th>                    <td>-0.4258</td>   <td>0.0905</td>   <td>-4.7049</td> <td>0.0000</td>   <td>-0.6031</td>     <td>-0.2484</td> \n",
       "</tr>\n",
       "<tr>\n",
       "  <th>MonthlyIncome</th>                      <td>0.0000</td>    <td>0.0001</td>   <td>0.4432</td>  <td>0.6576</td>   <td>-0.0001</td>     <td>0.0002</td>  \n",
       "</tr>\n",
       "<tr>\n",
       "  <th>MonthlyRate</th>                        <td>0.0000</td>    <td>0.0000</td>   <td>0.7296</td>  <td>0.4656</td>   <td>-0.0000</td>     <td>0.0000</td>  \n",
       "</tr>\n",
       "<tr>\n",
       "  <th>NumCompaniesWorked</th>                 <td>0.2026</td>    <td>0.0434</td>   <td>4.6690</td>  <td>0.0000</td>   <td>0.1175</td>      <td>0.2876</td>  \n",
       "</tr>\n",
       "<tr>\n",
       "  <th>PercentSalaryHike</th>                  <td>-0.0276</td>   <td>0.0447</td>   <td>-0.6177</td> <td>0.5368</td>   <td>-0.1152</td>     <td>0.0600</td>  \n",
       "</tr>\n",
       "<tr>\n",
       "  <th>PerformanceRating</th>                  <td>0.2022</td>    <td>0.4473</td>   <td>0.4520</td>  <td>0.6513</td>   <td>-0.6745</td>     <td>1.0789</td>  \n",
       "</tr>\n",
       "<tr>\n",
       "  <th>RelationshipSatisfaction</th>           <td>-0.2987</td>   <td>0.0917</td>   <td>-3.2562</td> <td>0.0011</td>   <td>-0.4785</td>     <td>-0.1189</td> \n",
       "</tr>\n",
       "<tr>\n",
       "  <th>StandardHours</th>                      <td>0.0093</td>    <td>35.9343</td>  <td>0.0003</td>  <td>0.9998</td>  <td>-70.4206</td>     <td>70.4393</td> \n",
       "</tr>\n",
       "<tr>\n",
       "  <th>StockOptionLevel</th>                   <td>-0.1219</td>   <td>0.1801</td>   <td>-0.6769</td> <td>0.4985</td>   <td>-0.4749</td>     <td>0.2311</td>  \n",
       "</tr>\n",
       "<tr>\n",
       "  <th>TotalWorkingYears</th>                  <td>-0.0506</td>   <td>0.0332</td>   <td>-1.5276</td> <td>0.1266</td>   <td>-0.1156</td>     <td>0.0143</td>  \n",
       "</tr>\n",
       "<tr>\n",
       "  <th>TrainingTimesLastYear</th>              <td>-0.1677</td>   <td>0.0809</td>   <td>-2.0735</td> <td>0.0381</td>   <td>-0.3262</td>     <td>-0.0092</td> \n",
       "</tr>\n",
       "<tr>\n",
       "  <th>WorkLifeBalance</th>                    <td>-0.3949</td>   <td>0.1355</td>   <td>-2.9151</td> <td>0.0036</td>   <td>-0.6603</td>     <td>-0.1294</td> \n",
       "</tr>\n",
       "<tr>\n",
       "  <th>YearsAtCompany</th>                     <td>0.0942</td>    <td>0.0431</td>   <td>2.1877</td>  <td>0.0287</td>   <td>0.0098</td>      <td>0.1786</td>  \n",
       "</tr>\n",
       "<tr>\n",
       "  <th>YearsInCurrentRole</th>                 <td>-0.1436</td>   <td>0.0499</td>   <td>-2.8756</td> <td>0.0040</td>   <td>-0.2414</td>     <td>-0.0457</td> \n",
       "</tr>\n",
       "<tr>\n",
       "  <th>YearsSinceLastPromotion</th>            <td>0.1819</td>    <td>0.0460</td>   <td>3.9552</td>  <td>0.0001</td>   <td>0.0918</td>      <td>0.2721</td>  \n",
       "</tr>\n",
       "<tr>\n",
       "  <th>YearsWithCurrManager</th>               <td>-0.1235</td>   <td>0.0511</td>   <td>-2.4191</td> <td>0.0156</td>   <td>-0.2236</td>     <td>-0.0234</td> \n",
       "</tr>\n",
       "<tr>\n",
       "  <th>BusinessTravel_Non-Travel</th>          <td>-1.0732</td>   <td>0.3169</td>   <td>-3.3868</td> <td>0.0007</td>   <td>-1.6942</td>     <td>-0.4521</td> \n",
       "</tr>\n",
       "<tr>\n",
       "  <th>BusinessTravel_Travel_Frequently</th>   <td>0.9441</td>    <td>0.2476</td>   <td>3.8135</td>  <td>0.0001</td>   <td>0.4589</td>      <td>1.4293</td>  \n",
       "</tr>\n",
       "<tr>\n",
       "  <th>BusinessTravel_Travel_Rarely</th>       <td>0.1292</td>    <td>0.2250</td>   <td>0.5742</td>  <td>0.5659</td>   <td>-0.3118</td>     <td>0.5702</td>  \n",
       "</tr>\n",
       "<tr>\n",
       "  <th>Department_Human Resources</th>        <td>-13.5575</td>  <td>8627.4489</td> <td>-0.0016</td> <td>0.9987</td> <td>-16923.0466</td> <td>16895.9315</td>\n",
       "</tr>\n",
       "<tr>\n",
       "  <th>Department_Research & Development</th>  <td>6.5469</td>   <td>4313.4999</td> <td>0.0015</td>  <td>0.9988</td> <td>-8447.7575</td>   <td>8460.8513</td>\n",
       "</tr>\n",
       "<tr>\n",
       "  <th>Department_Sales</th>                   <td>7.0107</td>   <td>4313.4999</td> <td>0.0016</td>  <td>0.9987</td> <td>-8447.2937</td>   <td>8461.3152</td>\n",
       "</tr>\n",
       "<tr>\n",
       "  <th>EducationField_Human Resources</th>     <td>0.8214</td>    <td>0.7686</td>   <td>1.0686</td>  <td>0.2852</td>   <td>-0.6851</td>     <td>2.3278</td>  \n",
       "</tr>\n",
       "<tr>\n",
       "  <th>EducationField_Life Sciences</th>       <td>-0.5098</td>   <td>0.2462</td>   <td>-2.0709</td> <td>0.0384</td>   <td>-0.9923</td>     <td>-0.0273</td> \n",
       "</tr>\n",
       "<tr>\n",
       "  <th>EducationField_Marketing</th>           <td>0.0958</td>    <td>0.3473</td>   <td>0.2759</td>  <td>0.7827</td>   <td>-0.5849</td>     <td>0.7765</td>  \n",
       "</tr>\n",
       "<tr>\n",
       "  <th>EducationField_Medical</th>             <td>-0.6944</td>   <td>0.2550</td>   <td>-2.7233</td> <td>0.0065</td>   <td>-1.1942</td>     <td>-0.1946</td> \n",
       "</tr>\n",
       "<tr>\n",
       "  <th>EducationField_Other</th>               <td>-0.2750</td>   <td>0.3941</td>   <td>-0.6979</td> <td>0.4853</td>   <td>-1.0474</td>     <td>0.4974</td>  \n",
       "</tr>\n",
       "<tr>\n",
       "  <th>EducationField_Technical Degree</th>    <td>0.5622</td>    <td>0.3080</td>   <td>1.8253</td>  <td>0.0680</td>   <td>-0.0415</td>     <td>1.1659</td>  \n",
       "</tr>\n",
       "<tr>\n",
       "  <th>Gender_Female</th>                      <td>-0.4178</td>   <td>0.2062</td>   <td>-2.0267</td> <td>0.0427</td>   <td>-0.8219</td>     <td>-0.0138</td> \n",
       "</tr>\n",
       "<tr>\n",
       "  <th>JobRole_Healthcare Representative</th>  <td>-2.5760</td>  <td>1437.9332</td> <td>-0.0018</td> <td>0.9986</td> <td>-2820.8733</td>   <td>2815.7213</td>\n",
       "</tr>\n",
       "<tr>\n",
       "  <th>JobRole_Human Resources</th>            <td>18.4967</td> <td>11503.0156</td> <td>0.0016</td>  <td>0.9987</td> <td>-22526.9996</td> <td>22563.9930</td>\n",
       "</tr>\n",
       "<tr>\n",
       "  <th>JobRole_Laboratory Technician</th>      <td>-1.1396</td>  <td>1437.9332</td> <td>-0.0008</td> <td>0.9994</td> <td>-2819.4369</td>   <td>2817.1576</td>\n",
       "</tr>\n",
       "<tr>\n",
       "  <th>JobRole_Manager</th>                    <td>-2.5307</td>  <td>1437.9333</td> <td>-0.0018</td> <td>0.9986</td> <td>-2820.8281</td>   <td>2815.7668</td>\n",
       "</tr>\n",
       "<tr>\n",
       "  <th>JobRole_Manufacturing Director</th>     <td>-2.2590</td>  <td>1437.9332</td> <td>-0.0016</td> <td>0.9987</td> <td>-2820.5563</td>   <td>2816.0383</td>\n",
       "</tr>\n",
       "<tr>\n",
       "  <th>JobRole_Research Director</th>          <td>-4.7673</td>  <td>1437.9336</td> <td>-0.0033</td> <td>0.9974</td> <td>-2823.0654</td>   <td>2813.5308</td>\n",
       "</tr>\n",
       "<tr>\n",
       "  <th>JobRole_Research Scientist</th>         <td>-2.1551</td>  <td>1437.9332</td> <td>-0.0015</td> <td>0.9988</td> <td>-2820.4524</td>   <td>2816.1422</td>\n",
       "</tr>\n",
       "<tr>\n",
       "  <th>JobRole_Sales Executive</th>            <td>-2.1265</td>  <td>1437.9333</td> <td>-0.0015</td> <td>0.9988</td> <td>-2820.4241</td>   <td>2816.1710</td>\n",
       "</tr>\n",
       "<tr>\n",
       "  <th>JobRole_Sales Representative</th>       <td>-0.9424</td>  <td>1437.9334</td> <td>-0.0007</td> <td>0.9995</td> <td>-2819.2400</td>   <td>2817.3553</td>\n",
       "</tr>\n",
       "<tr>\n",
       "  <th>MaritalStatus_Divorced</th>             <td>-0.5221</td>   <td>0.2565</td>   <td>-2.0356</td> <td>0.0418</td>   <td>-1.0248</td>     <td>-0.0194</td> \n",
       "</tr>\n",
       "<tr>\n",
       "  <th>MaritalStatus_Married</th>              <td>-0.2154</td>   <td>0.2087</td>   <td>-1.0318</td> <td>0.3021</td>   <td>-0.6245</td>     <td>0.1937</td>  \n",
       "</tr>\n",
       "<tr>\n",
       "  <th>MaritalStatus_Single</th>               <td>0.7376</td>    <td>0.2565</td>   <td>2.8754</td>  <td>0.0040</td>   <td>0.2348</td>      <td>1.2404</td>  \n",
       "</tr>\n",
       "<tr>\n",
       "  <th>OverTime_Yes</th>                       <td>1.8859</td>    <td>0.2162</td>   <td>8.7213</td>  <td>0.0000</td>   <td>1.4621</td>      <td>2.3097</td>  \n",
       "</tr>\n",
       "</table>"
      ],
      "text/plain": [
       "<class 'statsmodels.iolib.summary2.Summary'>\n",
       "\"\"\"\n",
       "                             Results: Generalized linear model\n",
       "===========================================================================================\n",
       "Model:                        GLM                       AIC:                     783.8193  \n",
       "Link Function:                logit                     BIC:                     -7297.1384\n",
       "Dependent Variable:           Attrition                 Log-Likelihood:          -345.91   \n",
       "Date:                         2022-02-16 17:49          LL-Null:                 -534.66   \n",
       "No. Observations:             1176                      Deviance:                691.82    \n",
       "Df Model:                     45                        Pearson chi2:            2.03e+03  \n",
       "Df Residuals:                 1130                      Scale:                   1.0000    \n",
       "Method:                       IRLS                                                         \n",
       "-------------------------------------------------------------------------------------------\n",
       "                                   Coef.    Std.Err.     z    P>|z|     [0.025     0.975]  \n",
       "-------------------------------------------------------------------------------------------\n",
       "Age                                -0.0364     0.0156 -2.3366 0.0195     -0.0669    -0.0059\n",
       "DailyRate                          -0.0005     0.0003 -1.9509 0.0511     -0.0010     0.0000\n",
       "DistanceFromHome                    0.0522     0.0123  4.2536 0.0000      0.0281     0.0762\n",
       "Education                          -0.0072     0.0987 -0.0734 0.9415     -0.2006     0.1861\n",
       "EmployeeCount                       0.0001     0.4492  0.0003 0.9998     -0.8803     0.8805\n",
       "EmployeeNumber                     -0.0002     0.0002 -1.0548 0.2915     -0.0005     0.0002\n",
       "EnvironmentSatisfaction            -0.5211     0.0928 -5.6139 0.0000     -0.7031    -0.3392\n",
       "HourlyRate                          0.0004     0.0049  0.0862 0.9313     -0.0091     0.0099\n",
       "JobInvolvement                     -0.6612     0.1367 -4.8376 0.0000     -0.9291    -0.3933\n",
       "JobLevel                           -0.2184     0.3692 -0.5916 0.5541     -0.9421     0.5052\n",
       "JobSatisfaction                    -0.4258     0.0905 -4.7049 0.0000     -0.6031    -0.2484\n",
       "MonthlyIncome                       0.0000     0.0001  0.4432 0.6576     -0.0001     0.0002\n",
       "MonthlyRate                         0.0000     0.0000  0.7296 0.4656     -0.0000     0.0000\n",
       "NumCompaniesWorked                  0.2026     0.0434  4.6690 0.0000      0.1175     0.2876\n",
       "PercentSalaryHike                  -0.0276     0.0447 -0.6177 0.5368     -0.1152     0.0600\n",
       "PerformanceRating                   0.2022     0.4473  0.4520 0.6513     -0.6745     1.0789\n",
       "RelationshipSatisfaction           -0.2987     0.0917 -3.2562 0.0011     -0.4785    -0.1189\n",
       "StandardHours                       0.0093    35.9343  0.0003 0.9998    -70.4206    70.4393\n",
       "StockOptionLevel                   -0.1219     0.1801 -0.6769 0.4985     -0.4749     0.2311\n",
       "TotalWorkingYears                  -0.0506     0.0332 -1.5276 0.1266     -0.1156     0.0143\n",
       "TrainingTimesLastYear              -0.1677     0.0809 -2.0735 0.0381     -0.3262    -0.0092\n",
       "WorkLifeBalance                    -0.3949     0.1355 -2.9151 0.0036     -0.6603    -0.1294\n",
       "YearsAtCompany                      0.0942     0.0431  2.1877 0.0287      0.0098     0.1786\n",
       "YearsInCurrentRole                 -0.1436     0.0499 -2.8756 0.0040     -0.2414    -0.0457\n",
       "YearsSinceLastPromotion             0.1819     0.0460  3.9552 0.0001      0.0918     0.2721\n",
       "YearsWithCurrManager               -0.1235     0.0511 -2.4191 0.0156     -0.2236    -0.0234\n",
       "BusinessTravel_Non-Travel          -1.0732     0.3169 -3.3868 0.0007     -1.6942    -0.4521\n",
       "BusinessTravel_Travel_Frequently    0.9441     0.2476  3.8135 0.0001      0.4589     1.4293\n",
       "BusinessTravel_Travel_Rarely        0.1292     0.2250  0.5742 0.5659     -0.3118     0.5702\n",
       "Department_Human Resources        -13.5575  8627.4489 -0.0016 0.9987 -16923.0466 16895.9315\n",
       "Department_Research & Development   6.5469  4313.4999  0.0015 0.9988  -8447.7575  8460.8513\n",
       "Department_Sales                    7.0107  4313.4999  0.0016 0.9987  -8447.2937  8461.3152\n",
       "EducationField_Human Resources      0.8214     0.7686  1.0686 0.2852     -0.6851     2.3278\n",
       "EducationField_Life Sciences       -0.5098     0.2462 -2.0709 0.0384     -0.9923    -0.0273\n",
       "EducationField_Marketing            0.0958     0.3473  0.2759 0.7827     -0.5849     0.7765\n",
       "EducationField_Medical             -0.6944     0.2550 -2.7233 0.0065     -1.1942    -0.1946\n",
       "EducationField_Other               -0.2750     0.3941 -0.6979 0.4853     -1.0474     0.4974\n",
       "EducationField_Technical Degree     0.5622     0.3080  1.8253 0.0680     -0.0415     1.1659\n",
       "Gender_Female                      -0.4178     0.2062 -2.0267 0.0427     -0.8219    -0.0138\n",
       "JobRole_Healthcare Representative  -2.5760  1437.9332 -0.0018 0.9986  -2820.8733  2815.7213\n",
       "JobRole_Human Resources            18.4967 11503.0156  0.0016 0.9987 -22526.9996 22563.9930\n",
       "JobRole_Laboratory Technician      -1.1396  1437.9332 -0.0008 0.9994  -2819.4369  2817.1576\n",
       "JobRole_Manager                    -2.5307  1437.9333 -0.0018 0.9986  -2820.8281  2815.7668\n",
       "JobRole_Manufacturing Director     -2.2590  1437.9332 -0.0016 0.9987  -2820.5563  2816.0383\n",
       "JobRole_Research Director          -4.7673  1437.9336 -0.0033 0.9974  -2823.0654  2813.5308\n",
       "JobRole_Research Scientist         -2.1551  1437.9332 -0.0015 0.9988  -2820.4524  2816.1422\n",
       "JobRole_Sales Executive            -2.1265  1437.9333 -0.0015 0.9988  -2820.4241  2816.1710\n",
       "JobRole_Sales Representative       -0.9424  1437.9334 -0.0007 0.9995  -2819.2400  2817.3553\n",
       "MaritalStatus_Divorced             -0.5221     0.2565 -2.0356 0.0418     -1.0248    -0.0194\n",
       "MaritalStatus_Married              -0.2154     0.2087 -1.0318 0.3021     -0.6245     0.1937\n",
       "MaritalStatus_Single                0.7376     0.2565  2.8754 0.0040      0.2348     1.2404\n",
       "OverTime_Yes                        1.8859     0.2162  8.7213 0.0000      1.4621     2.3097\n",
       "===========================================================================================\n",
       "\n",
       "\"\"\""
      ]
     },
     "execution_count": 270,
     "metadata": {},
     "output_type": "execute_result"
    }
   ],
   "source": [
    "model.summary2()"
   ]
  },
  {
   "cell_type": "code",
   "execution_count": 260,
   "id": "193e2ef1",
   "metadata": {},
   "outputs": [
    {
     "data": {
      "text/plain": [
       "Index(['Age', 'DailyRate', 'DistanceFromHome', 'Education', 'EmployeeCount',\n",
       "       'EmployeeNumber', 'EnvironmentSatisfaction', 'HourlyRate',\n",
       "       'JobInvolvement', 'JobLevel', 'JobSatisfaction', 'MonthlyIncome',\n",
       "       'MonthlyRate', 'NumCompaniesWorked', 'PercentSalaryHike',\n",
       "       'PerformanceRating', 'RelationshipSatisfaction', 'StandardHours',\n",
       "       'StockOptionLevel', 'TotalWorkingYears', 'TrainingTimesLastYear',\n",
       "       'WorkLifeBalance', 'YearsAtCompany', 'YearsInCurrentRole',\n",
       "       'YearsSinceLastPromotion', 'YearsWithCurrManager',\n",
       "       'BusinessTravel_Non-Travel', 'BusinessTravel_Travel_Frequently',\n",
       "       'BusinessTravel_Travel_Rarely', 'Department_Human Resources',\n",
       "       'Department_Research & Development', 'Department_Sales',\n",
       "       'EducationField_Human Resources', 'EducationField_Life Sciences',\n",
       "       'EducationField_Marketing', 'EducationField_Medical',\n",
       "       'EducationField_Other', 'EducationField_Technical Degree',\n",
       "       'Gender_Female', 'JobRole_Healthcare Representative',\n",
       "       'JobRole_Human Resources', 'JobRole_Laboratory Technician',\n",
       "       'JobRole_Manager', 'JobRole_Manufacturing Director',\n",
       "       'JobRole_Research Director', 'JobRole_Research Scientist',\n",
       "       'JobRole_Sales Executive', 'JobRole_Sales Representative',\n",
       "       'MaritalStatus_Divorced', 'MaritalStatus_Married',\n",
       "       'MaritalStatus_Single', 'OverTime_Yes'],\n",
       "      dtype='object')"
      ]
     },
     "execution_count": 260,
     "metadata": {},
     "output_type": "execute_result"
    }
   ],
   "source": [
    "Xtrain.columns"
   ]
  },
  {
   "cell_type": "code",
   "execution_count": 271,
   "id": "c674c835",
   "metadata": {},
   "outputs": [
    {
     "data": {
      "text/plain": [
       "Age                                  1.945919e-02\n",
       "DailyRate                            5.106457e-02\n",
       "DistanceFromHome                     2.103683e-05\n",
       "Education                            9.415195e-01\n",
       "EmployeeCount                        9.997925e-01\n",
       "EmployeeNumber                       2.914950e-01\n",
       "EnvironmentSatisfaction              1.978504e-08\n",
       "HourlyRate                           9.312712e-01\n",
       "JobInvolvement                       1.314420e-06\n",
       "JobLevel                             5.541368e-01\n",
       "JobSatisfaction                      2.539906e-06\n",
       "MonthlyIncome                        6.575900e-01\n",
       "MonthlyRate                          4.656155e-01\n",
       "NumCompaniesWorked                   3.027321e-06\n",
       "PercentSalaryHike                    5.367730e-01\n",
       "PerformanceRating                    6.512913e-01\n",
       "RelationshipSatisfaction             1.129176e-03\n",
       "StandardHours                        9.997925e-01\n",
       "StockOptionLevel                     4.984565e-01\n",
       "TotalWorkingYears                    1.266209e-01\n",
       "TrainingTimesLastYear                3.813033e-02\n",
       "WorkLifeBalance                      3.555769e-03\n",
       "YearsAtCompany                       2.869362e-02\n",
       "YearsInCurrentRole                   4.032250e-03\n",
       "YearsSinceLastPromotion              7.645500e-05\n",
       "YearsWithCurrManager                 1.555975e-02\n",
       "BusinessTravel_Non-Travel            7.070804e-04\n",
       "BusinessTravel_Travel_Frequently     1.370094e-04\n",
       "BusinessTravel_Travel_Rarely         5.658648e-01\n",
       "Department_Human Resources           9.987462e-01\n",
       "Department_Research & Development    9.987890e-01\n",
       "Department_Sales                     9.987032e-01\n",
       "EducationField_Human Resources       2.852335e-01\n",
       "EducationField_Life Sciences         3.836673e-02\n",
       "EducationField_Marketing             7.826558e-01\n",
       "EducationField_Medical               6.462751e-03\n",
       "EducationField_Other                 4.852574e-01\n",
       "EducationField_Technical Degree      6.796216e-02\n",
       "Gender_Female                        4.269479e-02\n",
       "JobRole_Healthcare Representative    9.985706e-01\n",
       "JobRole_Human Resources              9.987170e-01\n",
       "JobRole_Laboratory Technician        9.993676e-01\n",
       "JobRole_Manager                      9.985958e-01\n",
       "JobRole_Manufacturing Director       9.987465e-01\n",
       "JobRole_Research Director            9.973547e-01\n",
       "JobRole_Research Scientist           9.988042e-01\n",
       "JobRole_Sales Executive              9.988200e-01\n",
       "JobRole_Sales Representative         9.994771e-01\n",
       "MaritalStatus_Divorced               4.178843e-02\n",
       "MaritalStatus_Married                3.021442e-01\n",
       "MaritalStatus_Single                 4.035766e-03\n",
       "OverTime_Yes                         2.750987e-18\n",
       "dtype: float64"
      ]
     },
     "execution_count": 271,
     "metadata": {},
     "output_type": "execute_result"
    }
   ],
   "source": [
    "model.pvalues"
   ]
  },
  {
   "cell_type": "code",
   "execution_count": 272,
   "id": "06fc3ba9",
   "metadata": {},
   "outputs": [
    {
     "data": {
      "text/plain": [
       "0.999792539795057"
      ]
     },
     "execution_count": 272,
     "metadata": {},
     "output_type": "execute_result"
    }
   ],
   "source": [
    "max(model.pvalues)"
   ]
  },
  {
   "cell_type": "code",
   "execution_count": 263,
   "id": "1937c42d",
   "metadata": {},
   "outputs": [
    {
     "data": {
      "text/plain": [
       "<zip at 0x188ce1a1fc0>"
      ]
     },
     "execution_count": 263,
     "metadata": {},
     "output_type": "execute_result"
    }
   ],
   "source": [
    "zip(model.pvalues, Xtrain.columns)"
   ]
  },
  {
   "cell_type": "code",
   "execution_count": 280,
   "id": "949675fd",
   "metadata": {},
   "outputs": [],
   "source": [
    "while max(model.pvalues)>0.05:\n",
    "    for a,b in zip(model.pvalues, Xtrain.columns):\n",
    "        if a>0.05:\n",
    "            Xtrain = Xtrain.drop(b,axis=1)\n",
    "            Xtest = Xtest.drop(b,axis=1)\n",
    "            model = sm.GLM(ytrain,Xtrain,family=sm.families.Binomial()).fit()\n",
    "            break"
   ]
  },
  {
   "cell_type": "code",
   "execution_count": 281,
   "id": "16af6c6b",
   "metadata": {},
   "outputs": [
    {
     "data": {
      "text/html": [
       "<table class=\"simpletable\">\n",
       "<tr>\n",
       "        <td>Model:</td>               <td>GLM</td>            <td>AIC:</td>        <td>772.7569</td> \n",
       "</tr>\n",
       "<tr>\n",
       "    <td>Link Function:</td>          <td>logit</td>           <td>BIC:</td>       <td>-7424.8080</td>\n",
       "</tr>\n",
       "<tr>\n",
       "  <td>Dependent Variable:</td>     <td>Attrition</td>    <td>Log-Likelihood:</td>   <td>-363.38</td> \n",
       "</tr>\n",
       "<tr>\n",
       "         <td>Date:</td>        <td>2022-02-16 17:55</td>    <td>LL-Null:</td>       <td>-534.66</td> \n",
       "</tr>\n",
       "<tr>\n",
       "   <td>No. Observations:</td>        <td>1176</td>          <td>Deviance:</td>      <td>726.76</td>  \n",
       "</tr>\n",
       "<tr>\n",
       "       <td>Df Model:</td>             <td>22</td>         <td>Pearson chi2:</td>   <td>2.20e+03</td> \n",
       "</tr>\n",
       "<tr>\n",
       "     <td>Df Residuals:</td>          <td>1153</td>           <td>Scale:</td>        <td>1.0000</td>  \n",
       "</tr>\n",
       "<tr>\n",
       "        <td>Method:</td>             <td>IRLS</td>              <td></td>              <td></td>     \n",
       "</tr>\n",
       "</table>\n",
       "<table class=\"simpletable\">\n",
       "<tr>\n",
       "                  <td></td>                  <th>Coef.</th>  <th>Std.Err.</th>    <th>z</th>     <th>P>|z|</th> <th>[0.025</th>  <th>0.975]</th> \n",
       "</tr>\n",
       "<tr>\n",
       "  <th>Age</th>                              <td>-0.0506</td>  <td>0.0129</td>  <td>-3.9263</td> <td>0.0001</td> <td>-0.0759</td> <td>-0.0254</td>\n",
       "</tr>\n",
       "<tr>\n",
       "  <th>DistanceFromHome</th>                 <td>0.0476</td>   <td>0.0116</td>  <td>4.0909</td>  <td>0.0000</td> <td>0.0248</td>  <td>0.0705</td> \n",
       "</tr>\n",
       "<tr>\n",
       "  <th>EnvironmentSatisfaction</th>          <td>-0.4584</td>  <td>0.0879</td>  <td>-5.2176</td> <td>0.0000</td> <td>-0.6306</td> <td>-0.2862</td>\n",
       "</tr>\n",
       "<tr>\n",
       "  <th>JobInvolvement</th>                   <td>-0.6820</td>  <td>0.1311</td>  <td>-5.2027</td> <td>0.0000</td> <td>-0.9389</td> <td>-0.4251</td>\n",
       "</tr>\n",
       "<tr>\n",
       "  <th>JobSatisfaction</th>                  <td>-0.4059</td>  <td>0.0867</td>  <td>-4.6799</td> <td>0.0000</td> <td>-0.5759</td> <td>-0.2359</td>\n",
       "</tr>\n",
       "<tr>\n",
       "  <th>NumCompaniesWorked</th>               <td>0.1643</td>   <td>0.0399</td>  <td>4.1162</td>  <td>0.0000</td> <td>0.0861</td>  <td>0.2426</td> \n",
       "</tr>\n",
       "<tr>\n",
       "  <th>RelationshipSatisfaction</th>         <td>-0.2479</td>  <td>0.0875</td>  <td>-2.8340</td> <td>0.0046</td> <td>-0.4194</td> <td>-0.0765</td>\n",
       "</tr>\n",
       "<tr>\n",
       "  <th>TrainingTimesLastYear</th>            <td>-0.1742</td>  <td>0.0781</td>  <td>-2.2289</td> <td>0.0258</td> <td>-0.3273</td> <td>-0.0210</td>\n",
       "</tr>\n",
       "<tr>\n",
       "  <th>WorkLifeBalance</th>                  <td>-0.3811</td>  <td>0.1305</td>  <td>-2.9203</td> <td>0.0035</td> <td>-0.6369</td> <td>-0.1253</td>\n",
       "</tr>\n",
       "<tr>\n",
       "  <th>YearsInCurrentRole</th>               <td>-0.1455</td>  <td>0.0383</td>  <td>-3.7961</td> <td>0.0001</td> <td>-0.2206</td> <td>-0.0704</td>\n",
       "</tr>\n",
       "<tr>\n",
       "  <th>YearsSinceLastPromotion</th>          <td>0.1683</td>   <td>0.0388</td>  <td>4.3349</td>  <td>0.0000</td> <td>0.0922</td>  <td>0.2444</td> \n",
       "</tr>\n",
       "<tr>\n",
       "  <th>BusinessTravel_Travel_Frequently</th> <td>1.9027</td>   <td>0.4344</td>  <td>4.3803</td>  <td>0.0000</td> <td>1.0513</td>  <td>2.7540</td> \n",
       "</tr>\n",
       "<tr>\n",
       "  <th>BusinessTravel_Travel_Rarely</th>     <td>1.1357</td>   <td>0.4012</td>  <td>2.8307</td>  <td>0.0046</td> <td>0.3494</td>  <td>1.9220</td> \n",
       "</tr>\n",
       "<tr>\n",
       "  <th>EducationField_Technical Degree</th>  <td>0.9309</td>   <td>0.3104</td>  <td>2.9990</td>  <td>0.0027</td> <td>0.3225</td>  <td>1.5393</td> \n",
       "</tr>\n",
       "<tr>\n",
       "  <th>JobRole_Human Resources</th>          <td>1.8525</td>   <td>0.5077</td>  <td>3.6489</td>  <td>0.0003</td> <td>0.8574</td>  <td>2.8475</td> \n",
       "</tr>\n",
       "<tr>\n",
       "  <th>JobRole_Laboratory Technician</th>    <td>1.6712</td>   <td>0.3258</td>  <td>5.1303</td>  <td>0.0000</td> <td>1.0328</td>  <td>2.3097</td> \n",
       "</tr>\n",
       "<tr>\n",
       "  <th>JobRole_Research Scientist</th>       <td>0.6747</td>   <td>0.3354</td>  <td>2.0115</td>  <td>0.0443</td> <td>0.0173</td>  <td>1.3321</td> \n",
       "</tr>\n",
       "<tr>\n",
       "  <th>JobRole_Sales Executive</th>          <td>1.2467</td>   <td>0.3155</td>  <td>3.9521</td>  <td>0.0001</td> <td>0.6284</td>  <td>1.8650</td> \n",
       "</tr>\n",
       "<tr>\n",
       "  <th>JobRole_Sales Representative</th>     <td>2.3437</td>   <td>0.4219</td>  <td>5.5556</td>  <td>0.0000</td> <td>1.5169</td>  <td>3.1706</td> \n",
       "</tr>\n",
       "<tr>\n",
       "  <th>MaritalStatus_Divorced</th>           <td>1.8744</td>   <td>0.9491</td>  <td>1.9749</td>  <td>0.0483</td> <td>0.0142</td>  <td>3.7346</td> \n",
       "</tr>\n",
       "<tr>\n",
       "  <th>MaritalStatus_Married</th>            <td>2.3021</td>   <td>0.9329</td>  <td>2.4676</td>  <td>0.0136</td> <td>0.4736</td>  <td>4.1306</td> \n",
       "</tr>\n",
       "<tr>\n",
       "  <th>MaritalStatus_Single</th>             <td>3.2500</td>   <td>0.9353</td>  <td>3.4747</td>  <td>0.0005</td> <td>1.4168</td>  <td>5.0832</td> \n",
       "</tr>\n",
       "<tr>\n",
       "  <th>OverTime_Yes</th>                     <td>1.7875</td>   <td>0.2059</td>  <td>8.6799</td>  <td>0.0000</td> <td>1.3839</td>  <td>2.1912</td> \n",
       "</tr>\n",
       "</table>"
      ],
      "text/plain": [
       "<class 'statsmodels.iolib.summary2.Summary'>\n",
       "\"\"\"\n",
       "                       Results: Generalized linear model\n",
       "================================================================================\n",
       "Model:                     GLM                   AIC:                 772.7569  \n",
       "Link Function:             logit                 BIC:                 -7424.8080\n",
       "Dependent Variable:        Attrition             Log-Likelihood:      -363.38   \n",
       "Date:                      2022-02-16 17:55      LL-Null:             -534.66   \n",
       "No. Observations:          1176                  Deviance:            726.76    \n",
       "Df Model:                  22                    Pearson chi2:        2.20e+03  \n",
       "Df Residuals:              1153                  Scale:               1.0000    \n",
       "Method:                    IRLS                                                 \n",
       "--------------------------------------------------------------------------------\n",
       "                                  Coef.  Std.Err.    z    P>|z|   [0.025  0.975]\n",
       "--------------------------------------------------------------------------------\n",
       "Age                              -0.0506   0.0129 -3.9263 0.0001 -0.0759 -0.0254\n",
       "DistanceFromHome                  0.0476   0.0116  4.0909 0.0000  0.0248  0.0705\n",
       "EnvironmentSatisfaction          -0.4584   0.0879 -5.2176 0.0000 -0.6306 -0.2862\n",
       "JobInvolvement                   -0.6820   0.1311 -5.2027 0.0000 -0.9389 -0.4251\n",
       "JobSatisfaction                  -0.4059   0.0867 -4.6799 0.0000 -0.5759 -0.2359\n",
       "NumCompaniesWorked                0.1643   0.0399  4.1162 0.0000  0.0861  0.2426\n",
       "RelationshipSatisfaction         -0.2479   0.0875 -2.8340 0.0046 -0.4194 -0.0765\n",
       "TrainingTimesLastYear            -0.1742   0.0781 -2.2289 0.0258 -0.3273 -0.0210\n",
       "WorkLifeBalance                  -0.3811   0.1305 -2.9203 0.0035 -0.6369 -0.1253\n",
       "YearsInCurrentRole               -0.1455   0.0383 -3.7961 0.0001 -0.2206 -0.0704\n",
       "YearsSinceLastPromotion           0.1683   0.0388  4.3349 0.0000  0.0922  0.2444\n",
       "BusinessTravel_Travel_Frequently  1.9027   0.4344  4.3803 0.0000  1.0513  2.7540\n",
       "BusinessTravel_Travel_Rarely      1.1357   0.4012  2.8307 0.0046  0.3494  1.9220\n",
       "EducationField_Technical Degree   0.9309   0.3104  2.9990 0.0027  0.3225  1.5393\n",
       "JobRole_Human Resources           1.8525   0.5077  3.6489 0.0003  0.8574  2.8475\n",
       "JobRole_Laboratory Technician     1.6712   0.3258  5.1303 0.0000  1.0328  2.3097\n",
       "JobRole_Research Scientist        0.6747   0.3354  2.0115 0.0443  0.0173  1.3321\n",
       "JobRole_Sales Executive           1.2467   0.3155  3.9521 0.0001  0.6284  1.8650\n",
       "JobRole_Sales Representative      2.3437   0.4219  5.5556 0.0000  1.5169  3.1706\n",
       "MaritalStatus_Divorced            1.8744   0.9491  1.9749 0.0483  0.0142  3.7346\n",
       "MaritalStatus_Married             2.3021   0.9329  2.4676 0.0136  0.4736  4.1306\n",
       "MaritalStatus_Single              3.2500   0.9353  3.4747 0.0005  1.4168  5.0832\n",
       "OverTime_Yes                      1.7875   0.2059  8.6799 0.0000  1.3839  2.1912\n",
       "================================================================================\n",
       "\n",
       "\"\"\""
      ]
     },
     "execution_count": 281,
     "metadata": {},
     "output_type": "execute_result"
    }
   ],
   "source": [
    "model.summary2()"
   ]
  },
  {
   "cell_type": "code",
   "execution_count": 328,
   "id": "fc3178c7",
   "metadata": {},
   "outputs": [],
   "source": [
    "i = 1\n",
    "while max(model.pvalues) > 0.05:\n",
    "    col_remove = model.pvalues[model.pvalues == max(model.pvalues)].index[0]\n",
    "    print(i, \") \", col_remove, \": \", max(model.pvalues))\n",
    "    i+=1\n",
    "    Xtrain.drop(col_remove,axis=1,inplace=True)\n",
    "    Xtest.drop(col_remove,axis=1,inplace=True)\n",
    "    model = sm.GLM(ytrain,Xtrain,family=sm.families.Binomial()).fit()"
   ]
  },
  {
   "cell_type": "code",
   "execution_count": 329,
   "id": "bf64fe75",
   "metadata": {},
   "outputs": [
    {
     "name": "stderr",
     "output_type": "stream",
     "text": [
      "C:\\Users\\Swastik\\anaconda3\\lib\\site-packages\\statsmodels\\genmod\\families\\links.py:188: RuntimeWarning: overflow encountered in exp\n",
      "  t = np.exp(-z)\n",
      "C:\\Users\\Swastik\\anaconda3\\lib\\site-packages\\statsmodels\\genmod\\families\\family.py:947: RuntimeWarning: divide by zero encountered in log\n",
      "  y * np.log(mu / (1 - mu + 1e-20)) +\n",
      "C:\\Users\\Swastik\\anaconda3\\lib\\site-packages\\statsmodels\\genmod\\families\\family.py:947: RuntimeWarning: invalid value encountered in multiply\n",
      "  y * np.log(mu / (1 - mu + 1e-20)) +\n"
     ]
    },
    {
     "data": {
      "text/html": [
       "<table class=\"simpletable\">\n",
       "<caption>Generalized Linear Model Regression Results</caption>\n",
       "<tr>\n",
       "  <th>Dep. Variable:</th>       <td>Attrition</td>    <th>  No. Observations:  </th>  <td>  1176</td> \n",
       "</tr>\n",
       "<tr>\n",
       "  <th>Model:</th>                  <td>GLM</td>       <th>  Df Residuals:      </th>  <td>  1131</td> \n",
       "</tr>\n",
       "<tr>\n",
       "  <th>Model Family:</th>        <td>Binomial</td>     <th>  Df Model:          </th>  <td>    44</td> \n",
       "</tr>\n",
       "<tr>\n",
       "  <th>Link Function:</th>         <td>logit</td>      <th>  Scale:             </th> <td>  1.0000</td>\n",
       "</tr>\n",
       "<tr>\n",
       "  <th>Method:</th>                <td>IRLS</td>       <th>  Log-Likelihood:    </th> <td>     nan</td>\n",
       "</tr>\n",
       "<tr>\n",
       "  <th>Date:</th>            <td>Wed, 16 Feb 2022</td> <th>  Deviance:          </th> <td>  23118.</td>\n",
       "</tr>\n",
       "<tr>\n",
       "  <th>Time:</th>                <td>18:12:32</td>     <th>  Pearson chi2:      </th> <td>1.13e+18</td>\n",
       "</tr>\n",
       "<tr>\n",
       "  <th>No. Iterations:</th>         <td>100</td>       <th>                     </th>     <td> </td>   \n",
       "</tr>\n",
       "<tr>\n",
       "  <th>Covariance Type:</th>     <td>nonrobust</td>    <th>                     </th>     <td> </td>   \n",
       "</tr>\n",
       "</table>\n",
       "<table class=\"simpletable\">\n",
       "<tr>\n",
       "                  <td></td>                     <th>coef</th>     <th>std err</th>      <th>z</th>      <th>P>|z|</th>  <th>[0.025</th>    <th>0.975]</th>  \n",
       "</tr>\n",
       "<tr>\n",
       "  <th>const</th>                             <td> 1.805e+15</td> <td> 1.33e+07</td> <td> 1.36e+08</td> <td> 0.000</td> <td>  1.8e+15</td> <td>  1.8e+15</td>\n",
       "</tr>\n",
       "<tr>\n",
       "  <th>Age</th>                               <td> -2.75e+13</td> <td> 3.15e+05</td> <td>-8.73e+07</td> <td> 0.000</td> <td>-2.75e+13</td> <td>-2.75e+13</td>\n",
       "</tr>\n",
       "<tr>\n",
       "  <th>DailyRate</th>                         <td>-1.064e+11</td> <td> 4992.944</td> <td>-2.13e+07</td> <td> 0.000</td> <td>-1.06e+11</td> <td>-1.06e+11</td>\n",
       "</tr>\n",
       "<tr>\n",
       "  <th>DistanceFromHome</th>                  <td> 2.973e+13</td> <td> 2.49e+05</td> <td>  1.2e+08</td> <td> 0.000</td> <td> 2.97e+13</td> <td> 2.97e+13</td>\n",
       "</tr>\n",
       "<tr>\n",
       "  <th>Education</th>                         <td> 2.035e+13</td> <td> 1.98e+06</td> <td> 1.03e+07</td> <td> 0.000</td> <td> 2.04e+13</td> <td> 2.04e+13</td>\n",
       "</tr>\n",
       "<tr>\n",
       "  <th>EnvironmentSatisfaction</th>           <td>-3.281e+14</td> <td> 1.82e+06</td> <td> -1.8e+08</td> <td> 0.000</td> <td>-3.28e+14</td> <td>-3.28e+14</td>\n",
       "</tr>\n",
       "<tr>\n",
       "  <th>HourlyRate</th>                        <td>-1.409e+12</td> <td> 9.81e+04</td> <td>-1.44e+07</td> <td> 0.000</td> <td>-1.41e+12</td> <td>-1.41e+12</td>\n",
       "</tr>\n",
       "<tr>\n",
       "  <th>JobInvolvement</th>                    <td>-4.781e+14</td> <td> 2.79e+06</td> <td>-1.71e+08</td> <td> 0.000</td> <td>-4.78e+14</td> <td>-4.78e+14</td>\n",
       "</tr>\n",
       "<tr>\n",
       "  <th>JobLevel</th>                          <td>-2.161e+14</td> <td> 6.86e+06</td> <td>-3.15e+07</td> <td> 0.000</td> <td>-2.16e+14</td> <td>-2.16e+14</td>\n",
       "</tr>\n",
       "<tr>\n",
       "  <th>JobSatisfaction</th>                   <td>-2.775e+14</td> <td> 1.79e+06</td> <td>-1.55e+08</td> <td> 0.000</td> <td>-2.77e+14</td> <td>-2.77e+14</td>\n",
       "</tr>\n",
       "<tr>\n",
       "  <th>MonthlyIncome</th>                     <td> 5.265e+10</td> <td> 1821.412</td> <td> 2.89e+07</td> <td> 0.000</td> <td> 5.26e+10</td> <td> 5.26e+10</td>\n",
       "</tr>\n",
       "<tr>\n",
       "  <th>MonthlyRate</th>                       <td> 6.672e+09</td> <td>  277.777</td> <td>  2.4e+07</td> <td> 0.000</td> <td> 6.67e+09</td> <td> 6.67e+09</td>\n",
       "</tr>\n",
       "<tr>\n",
       "  <th>NumCompaniesWorked</th>                <td> 1.094e+14</td> <td> 8.83e+05</td> <td> 1.24e+08</td> <td> 0.000</td> <td> 1.09e+14</td> <td> 1.09e+14</td>\n",
       "</tr>\n",
       "<tr>\n",
       "  <th>PercentSalaryHike</th>                 <td> 6.231e+12</td> <td> 8.66e+05</td> <td>  7.2e+06</td> <td> 0.000</td> <td> 6.23e+12</td> <td> 6.23e+12</td>\n",
       "</tr>\n",
       "<tr>\n",
       "  <th>PerformanceRating</th>                 <td>-1.584e+14</td> <td>  8.7e+06</td> <td>-1.82e+07</td> <td> 0.000</td> <td>-1.58e+14</td> <td>-1.58e+14</td>\n",
       "</tr>\n",
       "<tr>\n",
       "  <th>RelationshipSatisfaction</th>          <td>-1.642e+14</td> <td> 1.82e+06</td> <td>-9.03e+07</td> <td> 0.000</td> <td>-1.64e+14</td> <td>-1.64e+14</td>\n",
       "</tr>\n",
       "<tr>\n",
       "  <th>StockOptionLevel</th>                  <td> 1.426e+13</td> <td> 3.19e+06</td> <td> 4.47e+06</td> <td> 0.000</td> <td> 1.43e+13</td> <td> 1.43e+13</td>\n",
       "</tr>\n",
       "<tr>\n",
       "  <th>TotalWorkingYears</th>                 <td>-3.335e+13</td> <td> 5.71e+05</td> <td>-5.84e+07</td> <td> 0.000</td> <td>-3.33e+13</td> <td>-3.33e+13</td>\n",
       "</tr>\n",
       "<tr>\n",
       "  <th>TrainingTimesLastYear</th>             <td>-1.033e+14</td> <td> 1.56e+06</td> <td>-6.62e+07</td> <td> 0.000</td> <td>-1.03e+14</td> <td>-1.03e+14</td>\n",
       "</tr>\n",
       "<tr>\n",
       "  <th>WorkLifeBalance</th>                   <td>-2.142e+14</td> <td> 2.78e+06</td> <td>-7.71e+07</td> <td> 0.000</td> <td>-2.14e+14</td> <td>-2.14e+14</td>\n",
       "</tr>\n",
       "<tr>\n",
       "  <th>YearsAtCompany</th>                    <td> 5.494e+13</td> <td> 6.86e+05</td> <td>    8e+07</td> <td> 0.000</td> <td> 5.49e+13</td> <td> 5.49e+13</td>\n",
       "</tr>\n",
       "<tr>\n",
       "  <th>YearsInCurrentRole</th>                <td>-5.683e+13</td> <td> 8.98e+05</td> <td>-6.33e+07</td> <td> 0.000</td> <td>-5.68e+13</td> <td>-5.68e+13</td>\n",
       "</tr>\n",
       "<tr>\n",
       "  <th>YearsSinceLastPromotion</th>           <td> 6.048e+13</td> <td> 7.93e+05</td> <td> 7.63e+07</td> <td> 0.000</td> <td> 6.05e+13</td> <td> 6.05e+13</td>\n",
       "</tr>\n",
       "<tr>\n",
       "  <th>YearsWithCurrManager</th>              <td>-7.032e+13</td> <td> 9.29e+05</td> <td>-7.57e+07</td> <td> 0.000</td> <td>-7.03e+13</td> <td>-7.03e+13</td>\n",
       "</tr>\n",
       "<tr>\n",
       "  <th>BusinessTravel_Non-Travel</th>         <td> 9.021e+12</td> <td> 6.42e+06</td> <td> 1.41e+06</td> <td> 0.000</td> <td> 9.02e+12</td> <td> 9.02e+12</td>\n",
       "</tr>\n",
       "<tr>\n",
       "  <th>BusinessTravel_Travel_Frequently</th>  <td> 1.177e+15</td> <td> 5.83e+06</td> <td> 2.02e+08</td> <td> 0.000</td> <td> 1.18e+15</td> <td> 1.18e+15</td>\n",
       "</tr>\n",
       "<tr>\n",
       "  <th>BusinessTravel_Travel_Rarely</th>      <td> 6.183e+14</td> <td> 5.18e+06</td> <td> 1.19e+08</td> <td> 0.000</td> <td> 6.18e+14</td> <td> 6.18e+14</td>\n",
       "</tr>\n",
       "<tr>\n",
       "  <th>Department_Human Resources</th>        <td> -1.72e+15</td> <td> 1.81e+07</td> <td>-9.51e+07</td> <td> 0.000</td> <td>-1.72e+15</td> <td>-1.72e+15</td>\n",
       "</tr>\n",
       "<tr>\n",
       "  <th>Department_Research & Development</th> <td>  1.74e+15</td> <td> 1.17e+07</td> <td> 1.49e+08</td> <td> 0.000</td> <td> 1.74e+15</td> <td> 1.74e+15</td>\n",
       "</tr>\n",
       "<tr>\n",
       "  <th>Department_Sales</th>                  <td> 1.785e+15</td> <td> 1.33e+07</td> <td> 1.34e+08</td> <td> 0.000</td> <td> 1.78e+15</td> <td> 1.78e+15</td>\n",
       "</tr>\n",
       "<tr>\n",
       "  <th>EducationField_Human Resources</th>    <td> 5.963e+14</td> <td> 1.57e+07</td> <td> 3.81e+07</td> <td> 0.000</td> <td> 5.96e+14</td> <td> 5.96e+14</td>\n",
       "</tr>\n",
       "<tr>\n",
       "  <th>EducationField_Life Sciences</th>      <td> 1.842e+14</td> <td> 5.06e+06</td> <td> 3.64e+07</td> <td> 0.000</td> <td> 1.84e+14</td> <td> 1.84e+14</td>\n",
       "</tr>\n",
       "<tr>\n",
       "  <th>EducationField_Marketing</th>          <td> 2.575e+14</td> <td> 7.67e+06</td> <td> 3.36e+07</td> <td> 0.000</td> <td> 2.58e+14</td> <td> 2.58e+14</td>\n",
       "</tr>\n",
       "<tr>\n",
       "  <th>EducationField_Medical</th>            <td>-1.135e+14</td> <td> 5.31e+06</td> <td>-2.14e+07</td> <td> 0.000</td> <td>-1.14e+14</td> <td>-1.14e+14</td>\n",
       "</tr>\n",
       "<tr>\n",
       "  <th>EducationField_Other</th>              <td> 3.178e+14</td> <td> 8.14e+06</td> <td> 3.91e+07</td> <td> 0.000</td> <td> 3.18e+14</td> <td> 3.18e+14</td>\n",
       "</tr>\n",
       "<tr>\n",
       "  <th>EducationField_Technical Degree</th>   <td> 5.624e+14</td> <td> 7.12e+06</td> <td>  7.9e+07</td> <td> 0.000</td> <td> 5.62e+14</td> <td> 5.62e+14</td>\n",
       "</tr>\n",
       "<tr>\n",
       "  <th>Gender_Female</th>                     <td>-2.493e+14</td> <td> 4.08e+06</td> <td>-6.12e+07</td> <td> 0.000</td> <td>-2.49e+14</td> <td>-2.49e+14</td>\n",
       "</tr>\n",
       "<tr>\n",
       "  <th>JobRole_Healthcare Representative</th> <td>-3.787e+14</td> <td> 9.33e+06</td> <td>-4.06e+07</td> <td> 0.000</td> <td>-3.79e+14</td> <td>-3.79e+14</td>\n",
       "</tr>\n",
       "<tr>\n",
       "  <th>JobRole_Human Resources</th>           <td> 3.481e+15</td> <td> 2.24e+07</td> <td> 1.55e+08</td> <td> 0.000</td> <td> 3.48e+15</td> <td> 3.48e+15</td>\n",
       "</tr>\n",
       "<tr>\n",
       "  <th>JobRole_Laboratory Technician</th>     <td> 7.104e+13</td> <td> 8.99e+06</td> <td>  7.9e+06</td> <td> 0.000</td> <td>  7.1e+13</td> <td>  7.1e+13</td>\n",
       "</tr>\n",
       "<tr>\n",
       "  <th>JobRole_Manager</th>                   <td>-1.803e+14</td> <td> 1.27e+07</td> <td>-1.42e+07</td> <td> 0.000</td> <td> -1.8e+14</td> <td> -1.8e+14</td>\n",
       "</tr>\n",
       "<tr>\n",
       "  <th>JobRole_Manufacturing Director</th>    <td>-1.621e+14</td> <td> 9.14e+06</td> <td>-1.77e+07</td> <td> 0.000</td> <td>-1.62e+14</td> <td>-1.62e+14</td>\n",
       "</tr>\n",
       "<tr>\n",
       "  <th>JobRole_Research Director</th>         <td>-1.368e+15</td> <td> 1.36e+07</td> <td>-1.01e+08</td> <td> 0.000</td> <td>-1.37e+15</td> <td>-1.37e+15</td>\n",
       "</tr>\n",
       "<tr>\n",
       "  <th>JobRole_Research Scientist</th>        <td>-2.671e+14</td> <td> 8.97e+06</td> <td>-2.98e+07</td> <td> 0.000</td> <td>-2.67e+14</td> <td>-2.67e+14</td>\n",
       "</tr>\n",
       "<tr>\n",
       "  <th>JobRole_Sales Executive</th>           <td>-2.094e+13</td> <td> 1.36e+07</td> <td>-1.54e+06</td> <td> 0.000</td> <td>-2.09e+13</td> <td>-2.09e+13</td>\n",
       "</tr>\n",
       "<tr>\n",
       "  <th>JobRole_Sales Representative</th>      <td> 6.293e+14</td> <td> 1.56e+07</td> <td> 4.02e+07</td> <td> 0.000</td> <td> 6.29e+14</td> <td> 6.29e+14</td>\n",
       "</tr>\n",
       "<tr>\n",
       "  <th>MaritalStatus_Divorced</th>            <td> 1.947e+14</td> <td> 6.07e+06</td> <td> 3.21e+07</td> <td> 0.000</td> <td> 1.95e+14</td> <td> 1.95e+14</td>\n",
       "</tr>\n",
       "<tr>\n",
       "  <th>MaritalStatus_Married</th>             <td> 4.434e+14</td> <td> 5.26e+06</td> <td> 8.42e+07</td> <td> 0.000</td> <td> 4.43e+14</td> <td> 4.43e+14</td>\n",
       "</tr>\n",
       "<tr>\n",
       "  <th>MaritalStatus_Single</th>              <td> 1.167e+15</td> <td> 5.72e+06</td> <td> 2.04e+08</td> <td> 0.000</td> <td> 1.17e+15</td> <td> 1.17e+15</td>\n",
       "</tr>\n",
       "<tr>\n",
       "  <th>OverTime_Yes</th>                      <td> 1.142e+15</td> <td>  4.4e+06</td> <td> 2.59e+08</td> <td> 0.000</td> <td> 1.14e+15</td> <td> 1.14e+15</td>\n",
       "</tr>\n",
       "</table>"
      ],
      "text/plain": [
       "<class 'statsmodels.iolib.summary.Summary'>\n",
       "\"\"\"\n",
       "                 Generalized Linear Model Regression Results                  \n",
       "==============================================================================\n",
       "Dep. Variable:              Attrition   No. Observations:                 1176\n",
       "Model:                            GLM   Df Residuals:                     1131\n",
       "Model Family:                Binomial   Df Model:                           44\n",
       "Link Function:                  logit   Scale:                          1.0000\n",
       "Method:                          IRLS   Log-Likelihood:                    nan\n",
       "Date:                Wed, 16 Feb 2022   Deviance:                       23118.\n",
       "Time:                        18:12:32   Pearson chi2:                 1.13e+18\n",
       "No. Iterations:                   100                                         \n",
       "Covariance Type:            nonrobust                                         \n",
       "=====================================================================================================\n",
       "                                        coef    std err          z      P>|z|      [0.025      0.975]\n",
       "-----------------------------------------------------------------------------------------------------\n",
       "const                              1.805e+15   1.33e+07   1.36e+08      0.000     1.8e+15     1.8e+15\n",
       "Age                                -2.75e+13   3.15e+05  -8.73e+07      0.000   -2.75e+13   -2.75e+13\n",
       "DailyRate                         -1.064e+11   4992.944  -2.13e+07      0.000   -1.06e+11   -1.06e+11\n",
       "DistanceFromHome                   2.973e+13   2.49e+05    1.2e+08      0.000    2.97e+13    2.97e+13\n",
       "Education                          2.035e+13   1.98e+06   1.03e+07      0.000    2.04e+13    2.04e+13\n",
       "EnvironmentSatisfaction           -3.281e+14   1.82e+06   -1.8e+08      0.000   -3.28e+14   -3.28e+14\n",
       "HourlyRate                        -1.409e+12   9.81e+04  -1.44e+07      0.000   -1.41e+12   -1.41e+12\n",
       "JobInvolvement                    -4.781e+14   2.79e+06  -1.71e+08      0.000   -4.78e+14   -4.78e+14\n",
       "JobLevel                          -2.161e+14   6.86e+06  -3.15e+07      0.000   -2.16e+14   -2.16e+14\n",
       "JobSatisfaction                   -2.775e+14   1.79e+06  -1.55e+08      0.000   -2.77e+14   -2.77e+14\n",
       "MonthlyIncome                      5.265e+10   1821.412   2.89e+07      0.000    5.26e+10    5.26e+10\n",
       "MonthlyRate                        6.672e+09    277.777    2.4e+07      0.000    6.67e+09    6.67e+09\n",
       "NumCompaniesWorked                 1.094e+14   8.83e+05   1.24e+08      0.000    1.09e+14    1.09e+14\n",
       "PercentSalaryHike                  6.231e+12   8.66e+05    7.2e+06      0.000    6.23e+12    6.23e+12\n",
       "PerformanceRating                 -1.584e+14    8.7e+06  -1.82e+07      0.000   -1.58e+14   -1.58e+14\n",
       "RelationshipSatisfaction          -1.642e+14   1.82e+06  -9.03e+07      0.000   -1.64e+14   -1.64e+14\n",
       "StockOptionLevel                   1.426e+13   3.19e+06   4.47e+06      0.000    1.43e+13    1.43e+13\n",
       "TotalWorkingYears                 -3.335e+13   5.71e+05  -5.84e+07      0.000   -3.33e+13   -3.33e+13\n",
       "TrainingTimesLastYear             -1.033e+14   1.56e+06  -6.62e+07      0.000   -1.03e+14   -1.03e+14\n",
       "WorkLifeBalance                   -2.142e+14   2.78e+06  -7.71e+07      0.000   -2.14e+14   -2.14e+14\n",
       "YearsAtCompany                     5.494e+13   6.86e+05      8e+07      0.000    5.49e+13    5.49e+13\n",
       "YearsInCurrentRole                -5.683e+13   8.98e+05  -6.33e+07      0.000   -5.68e+13   -5.68e+13\n",
       "YearsSinceLastPromotion            6.048e+13   7.93e+05   7.63e+07      0.000    6.05e+13    6.05e+13\n",
       "YearsWithCurrManager              -7.032e+13   9.29e+05  -7.57e+07      0.000   -7.03e+13   -7.03e+13\n",
       "BusinessTravel_Non-Travel          9.021e+12   6.42e+06   1.41e+06      0.000    9.02e+12    9.02e+12\n",
       "BusinessTravel_Travel_Frequently   1.177e+15   5.83e+06   2.02e+08      0.000    1.18e+15    1.18e+15\n",
       "BusinessTravel_Travel_Rarely       6.183e+14   5.18e+06   1.19e+08      0.000    6.18e+14    6.18e+14\n",
       "Department_Human Resources         -1.72e+15   1.81e+07  -9.51e+07      0.000   -1.72e+15   -1.72e+15\n",
       "Department_Research & Development   1.74e+15   1.17e+07   1.49e+08      0.000    1.74e+15    1.74e+15\n",
       "Department_Sales                   1.785e+15   1.33e+07   1.34e+08      0.000    1.78e+15    1.78e+15\n",
       "EducationField_Human Resources     5.963e+14   1.57e+07   3.81e+07      0.000    5.96e+14    5.96e+14\n",
       "EducationField_Life Sciences       1.842e+14   5.06e+06   3.64e+07      0.000    1.84e+14    1.84e+14\n",
       "EducationField_Marketing           2.575e+14   7.67e+06   3.36e+07      0.000    2.58e+14    2.58e+14\n",
       "EducationField_Medical            -1.135e+14   5.31e+06  -2.14e+07      0.000   -1.14e+14   -1.14e+14\n",
       "EducationField_Other               3.178e+14   8.14e+06   3.91e+07      0.000    3.18e+14    3.18e+14\n",
       "EducationField_Technical Degree    5.624e+14   7.12e+06    7.9e+07      0.000    5.62e+14    5.62e+14\n",
       "Gender_Female                     -2.493e+14   4.08e+06  -6.12e+07      0.000   -2.49e+14   -2.49e+14\n",
       "JobRole_Healthcare Representative -3.787e+14   9.33e+06  -4.06e+07      0.000   -3.79e+14   -3.79e+14\n",
       "JobRole_Human Resources            3.481e+15   2.24e+07   1.55e+08      0.000    3.48e+15    3.48e+15\n",
       "JobRole_Laboratory Technician      7.104e+13   8.99e+06    7.9e+06      0.000     7.1e+13     7.1e+13\n",
       "JobRole_Manager                   -1.803e+14   1.27e+07  -1.42e+07      0.000    -1.8e+14    -1.8e+14\n",
       "JobRole_Manufacturing Director    -1.621e+14   9.14e+06  -1.77e+07      0.000   -1.62e+14   -1.62e+14\n",
       "JobRole_Research Director         -1.368e+15   1.36e+07  -1.01e+08      0.000   -1.37e+15   -1.37e+15\n",
       "JobRole_Research Scientist        -2.671e+14   8.97e+06  -2.98e+07      0.000   -2.67e+14   -2.67e+14\n",
       "JobRole_Sales Executive           -2.094e+13   1.36e+07  -1.54e+06      0.000   -2.09e+13   -2.09e+13\n",
       "JobRole_Sales Representative       6.293e+14   1.56e+07   4.02e+07      0.000    6.29e+14    6.29e+14\n",
       "MaritalStatus_Divorced             1.947e+14   6.07e+06   3.21e+07      0.000    1.95e+14    1.95e+14\n",
       "MaritalStatus_Married              4.434e+14   5.26e+06   8.42e+07      0.000    4.43e+14    4.43e+14\n",
       "MaritalStatus_Single               1.167e+15   5.72e+06   2.04e+08      0.000    1.17e+15    1.17e+15\n",
       "OverTime_Yes                       1.142e+15    4.4e+06   2.59e+08      0.000    1.14e+15    1.14e+15\n",
       "=====================================================================================================\n",
       "\"\"\""
      ]
     },
     "execution_count": 329,
     "metadata": {},
     "output_type": "execute_result"
    }
   ],
   "source": [
    "model_final = sm.GLM(ytrain,Xtrain,family=sm.families.Binomial()).fit()\n",
    "model_final.summary()"
   ]
  },
  {
   "cell_type": "code",
   "execution_count": 330,
   "id": "997113b3",
   "metadata": {},
   "outputs": [
    {
     "name": "stderr",
     "output_type": "stream",
     "text": [
      "C:\\Users\\Swastik\\anaconda3\\lib\\site-packages\\statsmodels\\genmod\\families\\links.py:188: RuntimeWarning: overflow encountered in exp\n",
      "  t = np.exp(-z)\n"
     ]
    }
   ],
   "source": [
    "predictions = model_final.predict(Xtest)"
   ]
  },
  {
   "cell_type": "code",
   "execution_count": 331,
   "id": "a9e70e20",
   "metadata": {},
   "outputs": [],
   "source": [
    "threshold=0.5\n",
    "predicted_classes = np.where(predictions>threshold,1,0)"
   ]
  },
  {
   "cell_type": "code",
   "execution_count": 332,
   "id": "8612e450",
   "metadata": {},
   "outputs": [
    {
     "data": {
      "text/plain": [
       "0.7346938775510204"
      ]
     },
     "execution_count": 332,
     "metadata": {},
     "output_type": "execute_result"
    }
   ],
   "source": [
    "accuracy_score(ytest,predicted_classes)"
   ]
  },
  {
   "cell_type": "code",
   "execution_count": 333,
   "id": "b1d4274f",
   "metadata": {},
   "outputs": [
    {
     "data": {
      "text/plain": [
       "array([[192,  64],\n",
       "       [ 14,  24]], dtype=int64)"
      ]
     },
     "execution_count": 333,
     "metadata": {},
     "output_type": "execute_result"
    }
   ],
   "source": [
    "cm = confusion_matrix(ytest,predicted_classes)\n",
    "cm"
   ]
  },
  {
   "cell_type": "code",
   "execution_count": 334,
   "id": "4135ebcc",
   "metadata": {},
   "outputs": [],
   "source": [
    "confmat = pd.DataFrame(cm, index=['Actual 0','Actual 1'], columns=['Predicted 0','Predicted 1'])"
   ]
  },
  {
   "cell_type": "code",
   "execution_count": 335,
   "id": "6b438dbd",
   "metadata": {},
   "outputs": [
    {
     "data": {
      "text/html": [
       "<div>\n",
       "<style scoped>\n",
       "    .dataframe tbody tr th:only-of-type {\n",
       "        vertical-align: middle;\n",
       "    }\n",
       "\n",
       "    .dataframe tbody tr th {\n",
       "        vertical-align: top;\n",
       "    }\n",
       "\n",
       "    .dataframe thead th {\n",
       "        text-align: right;\n",
       "    }\n",
       "</style>\n",
       "<table border=\"1\" class=\"dataframe\">\n",
       "  <thead>\n",
       "    <tr style=\"text-align: right;\">\n",
       "      <th></th>\n",
       "      <th>Predicted 0</th>\n",
       "      <th>Predicted 1</th>\n",
       "    </tr>\n",
       "  </thead>\n",
       "  <tbody>\n",
       "    <tr>\n",
       "      <th>Actual 0</th>\n",
       "      <td>192</td>\n",
       "      <td>64</td>\n",
       "    </tr>\n",
       "    <tr>\n",
       "      <th>Actual 1</th>\n",
       "      <td>14</td>\n",
       "      <td>24</td>\n",
       "    </tr>\n",
       "  </tbody>\n",
       "</table>\n",
       "</div>"
      ],
      "text/plain": [
       "          Predicted 0  Predicted 1\n",
       "Actual 0          192           64\n",
       "Actual 1           14           24"
      ]
     },
     "execution_count": 335,
     "metadata": {},
     "output_type": "execute_result"
    }
   ],
   "source": [
    "confmat"
   ]
  },
  {
   "cell_type": "code",
   "execution_count": 336,
   "id": "4e6db9eb",
   "metadata": {},
   "outputs": [],
   "source": [
    "fpr,tpr,threshold = roc_curve(ytest,predictions)"
   ]
  },
  {
   "cell_type": "code",
   "execution_count": 337,
   "id": "ece685f3",
   "metadata": {},
   "outputs": [],
   "source": [
    "roc_score = roc_auc_score(ytest,predictions)"
   ]
  },
  {
   "cell_type": "code",
   "execution_count": 338,
   "id": "d1a3edd7",
   "metadata": {},
   "outputs": [
    {
     "data": {
      "image/png": "[encoded data removed]",
      "text/plain": [
       "<Figure size 432x288 with 1 Axes>"
      ]
     },
     "metadata": {
      "needs_background": "light"
     },
     "output_type": "display_data"
    }
   ],
   "source": [
    "plt.title('ROC Curve')\n",
    "plt.plot(fpr,tpr,'b',label='AUC = %0.2f' % roc_score)\n",
    "plt.legend(loc='lower right')\n",
    "plt.plot([0,1],[0,1],'r--')\n",
    "plt.ylabel('True Positive Rate')\n",
    "plt.xlabel('False Positive Rate')\n",
    "plt.show()"
   ]
  }
 ],
 "metadata": {
  "kernelspec": {
   "display_name": "Python 3",
   "language": "python",
   "name": "python3"
  },
  "language_info": {
   "codemirror_mode": {
    "name": "ipython",
    "version": 3
   },
   "file_extension": ".py",
   "mimetype": "text/x-python",
   "name": "python",
   "nbconvert_exporter": "python",
   "pygments_lexer": "ipython3",
   "version": "3.8.8"
  }
 },
 "nbformat": 4,
 "nbformat_minor": 5
}
