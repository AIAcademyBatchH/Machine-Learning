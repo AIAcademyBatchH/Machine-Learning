{
 "cells": [
  {
   "cell_type": "code",
   "execution_count": 1,
   "id": "48890453",
   "metadata": {},
   "outputs": [],
   "source": [
    "import pandas as pd\n",
    "import numpy as np\n",
    "import os\n",
    "import matplotlib.pyplot as plt\n",
    "%matplotlib inline"
   ]
  },
  {
   "cell_type": "code",
   "execution_count": 20,
   "id": "4441cec7",
   "metadata": {},
   "outputs": [],
   "source": [
    "from sklearn.model_selection import train_test_split"
   ]
  },
  {
   "cell_type": "code",
   "execution_count": 22,
   "id": "80974fed",
   "metadata": {},
   "outputs": [],
   "source": [
    "import statsmodels.api as sm"
   ]
  },
  {
   "cell_type": "code",
   "execution_count": 55,
   "id": "fe1305e2",
   "metadata": {},
   "outputs": [],
   "source": [
    "import sklearn.metrics as metrics\n",
    "from sklearn.metrics import confusion_matrix, classification_report, accuracy_score, roc_curve, roc_auc_score"
   ]
  },
  {
   "cell_type": "code",
   "execution_count": 2,
   "id": "97636dfc",
   "metadata": {},
   "outputs": [],
   "source": [
    "data = pd.read_csv('dm.csv',na_values=[\"\", \" \", \"NA\", \"N/A\"])"
   ]
  },
  {
   "cell_type": "code",
   "execution_count": 3,
   "id": "413b6169",
   "metadata": {},
   "outputs": [
    {
     "data": {
      "text/html": [
       "<div>\n",
       "<style scoped>\n",
       "    .dataframe tbody tr th:only-of-type {\n",
       "        vertical-align: middle;\n",
       "    }\n",
       "\n",
       "    .dataframe tbody tr th {\n",
       "        vertical-align: top;\n",
       "    }\n",
       "\n",
       "    .dataframe thead th {\n",
       "        text-align: right;\n",
       "    }\n",
       "</style>\n",
       "<table border=\"1\" class=\"dataframe\">\n",
       "  <thead>\n",
       "    <tr style=\"text-align: right;\">\n",
       "      <th></th>\n",
       "      <th>Age</th>\n",
       "      <th>Gender</th>\n",
       "      <th>OwnHome</th>\n",
       "      <th>Married</th>\n",
       "      <th>Location</th>\n",
       "      <th>Salary</th>\n",
       "      <th>Children</th>\n",
       "      <th>History</th>\n",
       "      <th>Catalogs</th>\n",
       "      <th>AmountSpent</th>\n",
       "      <th>Cust_Id</th>\n",
       "    </tr>\n",
       "  </thead>\n",
       "  <tbody>\n",
       "    <tr>\n",
       "      <th>0</th>\n",
       "      <td>Old</td>\n",
       "      <td>Female</td>\n",
       "      <td>Own</td>\n",
       "      <td>Single</td>\n",
       "      <td>Far</td>\n",
       "      <td>47500</td>\n",
       "      <td>0</td>\n",
       "      <td>High</td>\n",
       "      <td>6</td>\n",
       "      <td>755</td>\n",
       "      <td>247</td>\n",
       "    </tr>\n",
       "    <tr>\n",
       "      <th>1</th>\n",
       "      <td>Middle</td>\n",
       "      <td>Male</td>\n",
       "      <td>Rent</td>\n",
       "      <td>Single</td>\n",
       "      <td>Close</td>\n",
       "      <td>63600</td>\n",
       "      <td>0</td>\n",
       "      <td>High</td>\n",
       "      <td>6</td>\n",
       "      <td>1318</td>\n",
       "      <td>127</td>\n",
       "    </tr>\n",
       "    <tr>\n",
       "      <th>2</th>\n",
       "      <td>Young</td>\n",
       "      <td>Female</td>\n",
       "      <td>Rent</td>\n",
       "      <td>Single</td>\n",
       "      <td>Close</td>\n",
       "      <td>13500</td>\n",
       "      <td>0</td>\n",
       "      <td>Low</td>\n",
       "      <td>18</td>\n",
       "      <td>296</td>\n",
       "      <td>479</td>\n",
       "    </tr>\n",
       "    <tr>\n",
       "      <th>3</th>\n",
       "      <td>Middle</td>\n",
       "      <td>Male</td>\n",
       "      <td>Own</td>\n",
       "      <td>Married</td>\n",
       "      <td>Close</td>\n",
       "      <td>85600</td>\n",
       "      <td>1</td>\n",
       "      <td>High</td>\n",
       "      <td>18</td>\n",
       "      <td>2436</td>\n",
       "      <td>475</td>\n",
       "    </tr>\n",
       "    <tr>\n",
       "      <th>4</th>\n",
       "      <td>Middle</td>\n",
       "      <td>Female</td>\n",
       "      <td>Own</td>\n",
       "      <td>Single</td>\n",
       "      <td>Close</td>\n",
       "      <td>68400</td>\n",
       "      <td>0</td>\n",
       "      <td>High</td>\n",
       "      <td>12</td>\n",
       "      <td>1304</td>\n",
       "      <td>151</td>\n",
       "    </tr>\n",
       "  </tbody>\n",
       "</table>\n",
       "</div>"
      ],
      "text/plain": [
       "      Age  Gender OwnHome  Married Location  Salary  Children History  \\\n",
       "0     Old  Female     Own   Single      Far   47500         0    High   \n",
       "1  Middle    Male    Rent   Single    Close   63600         0    High   \n",
       "2   Young  Female    Rent   Single    Close   13500         0     Low   \n",
       "3  Middle    Male     Own  Married    Close   85600         1    High   \n",
       "4  Middle  Female     Own   Single    Close   68400         0    High   \n",
       "\n",
       "   Catalogs  AmountSpent  Cust_Id  \n",
       "0         6          755      247  \n",
       "1         6         1318      127  \n",
       "2        18          296      479  \n",
       "3        18         2436      475  \n",
       "4        12         1304      151  "
      ]
     },
     "execution_count": 3,
     "metadata": {},
     "output_type": "execute_result"
    }
   ],
   "source": [
    "data.head()"
   ]
  },
  {
   "cell_type": "code",
   "execution_count": 4,
   "id": "78512c73",
   "metadata": {},
   "outputs": [],
   "source": [
    "data['Target'] = data['AmountSpent'].map(lambda x: 1 if x>data['AmountSpent'].mean() else 0)"
   ]
  },
  {
   "cell_type": "code",
   "execution_count": 6,
   "id": "9a5fb7ac",
   "metadata": {},
   "outputs": [],
   "source": [
    "data.drop('AmountSpent',axis=1,inplace=True)"
   ]
  },
  {
   "cell_type": "code",
   "execution_count": 7,
   "id": "c60bf41a",
   "metadata": {},
   "outputs": [
    {
     "data": {
      "text/html": [
       "<div>\n",
       "<style scoped>\n",
       "    .dataframe tbody tr th:only-of-type {\n",
       "        vertical-align: middle;\n",
       "    }\n",
       "\n",
       "    .dataframe tbody tr th {\n",
       "        vertical-align: top;\n",
       "    }\n",
       "\n",
       "    .dataframe thead th {\n",
       "        text-align: right;\n",
       "    }\n",
       "</style>\n",
       "<table border=\"1\" class=\"dataframe\">\n",
       "  <thead>\n",
       "    <tr style=\"text-align: right;\">\n",
       "      <th></th>\n",
       "      <th>Age</th>\n",
       "      <th>Gender</th>\n",
       "      <th>OwnHome</th>\n",
       "      <th>Married</th>\n",
       "      <th>Location</th>\n",
       "      <th>Salary</th>\n",
       "      <th>Children</th>\n",
       "      <th>History</th>\n",
       "      <th>Catalogs</th>\n",
       "      <th>Cust_Id</th>\n",
       "      <th>Target</th>\n",
       "    </tr>\n",
       "  </thead>\n",
       "  <tbody>\n",
       "    <tr>\n",
       "      <th>0</th>\n",
       "      <td>Old</td>\n",
       "      <td>Female</td>\n",
       "      <td>Own</td>\n",
       "      <td>Single</td>\n",
       "      <td>Far</td>\n",
       "      <td>47500</td>\n",
       "      <td>0</td>\n",
       "      <td>High</td>\n",
       "      <td>6</td>\n",
       "      <td>247</td>\n",
       "      <td>0</td>\n",
       "    </tr>\n",
       "    <tr>\n",
       "      <th>1</th>\n",
       "      <td>Middle</td>\n",
       "      <td>Male</td>\n",
       "      <td>Rent</td>\n",
       "      <td>Single</td>\n",
       "      <td>Close</td>\n",
       "      <td>63600</td>\n",
       "      <td>0</td>\n",
       "      <td>High</td>\n",
       "      <td>6</td>\n",
       "      <td>127</td>\n",
       "      <td>1</td>\n",
       "    </tr>\n",
       "    <tr>\n",
       "      <th>2</th>\n",
       "      <td>Young</td>\n",
       "      <td>Female</td>\n",
       "      <td>Rent</td>\n",
       "      <td>Single</td>\n",
       "      <td>Close</td>\n",
       "      <td>13500</td>\n",
       "      <td>0</td>\n",
       "      <td>Low</td>\n",
       "      <td>18</td>\n",
       "      <td>479</td>\n",
       "      <td>0</td>\n",
       "    </tr>\n",
       "    <tr>\n",
       "      <th>3</th>\n",
       "      <td>Middle</td>\n",
       "      <td>Male</td>\n",
       "      <td>Own</td>\n",
       "      <td>Married</td>\n",
       "      <td>Close</td>\n",
       "      <td>85600</td>\n",
       "      <td>1</td>\n",
       "      <td>High</td>\n",
       "      <td>18</td>\n",
       "      <td>475</td>\n",
       "      <td>1</td>\n",
       "    </tr>\n",
       "    <tr>\n",
       "      <th>4</th>\n",
       "      <td>Middle</td>\n",
       "      <td>Female</td>\n",
       "      <td>Own</td>\n",
       "      <td>Single</td>\n",
       "      <td>Close</td>\n",
       "      <td>68400</td>\n",
       "      <td>0</td>\n",
       "      <td>High</td>\n",
       "      <td>12</td>\n",
       "      <td>151</td>\n",
       "      <td>1</td>\n",
       "    </tr>\n",
       "  </tbody>\n",
       "</table>\n",
       "</div>"
      ],
      "text/plain": [
       "      Age  Gender OwnHome  Married Location  Salary  Children History  \\\n",
       "0     Old  Female     Own   Single      Far   47500         0    High   \n",
       "1  Middle    Male    Rent   Single    Close   63600         0    High   \n",
       "2   Young  Female    Rent   Single    Close   13500         0     Low   \n",
       "3  Middle    Male     Own  Married    Close   85600         1    High   \n",
       "4  Middle  Female     Own   Single    Close   68400         0    High   \n",
       "\n",
       "   Catalogs  Cust_Id  Target  \n",
       "0         6      247       0  \n",
       "1         6      127       1  \n",
       "2        18      479       0  \n",
       "3        18      475       1  \n",
       "4        12      151       1  "
      ]
     },
     "execution_count": 7,
     "metadata": {},
     "output_type": "execute_result"
    }
   ],
   "source": [
    "data.head()"
   ]
  },
  {
   "cell_type": "code",
   "execution_count": 10,
   "id": "ded40068",
   "metadata": {},
   "outputs": [
    {
     "data": {
      "text/plain": [
       "(1000, 11)"
      ]
     },
     "execution_count": 10,
     "metadata": {},
     "output_type": "execute_result"
    }
   ],
   "source": [
    "data.shape"
   ]
  },
  {
   "cell_type": "code",
   "execution_count": 8,
   "id": "ec8c4b6f",
   "metadata": {},
   "outputs": [
    {
     "data": {
      "text/plain": [
       "High      255\n",
       "Low       230\n",
       "Medium    212\n",
       "Name: History, dtype: int64"
      ]
     },
     "execution_count": 8,
     "metadata": {},
     "output_type": "execute_result"
    }
   ],
   "source": [
    "data['History'].value_counts()"
   ]
  },
  {
   "cell_type": "code",
   "execution_count": 9,
   "id": "a5646e5a",
   "metadata": {},
   "outputs": [
    {
     "data": {
      "text/plain": [
       "303"
      ]
     },
     "execution_count": 9,
     "metadata": {},
     "output_type": "execute_result"
    }
   ],
   "source": [
    "data['History'].isnull().sum()"
   ]
  },
  {
   "cell_type": "code",
   "execution_count": 11,
   "id": "2d0f5a37",
   "metadata": {},
   "outputs": [],
   "source": [
    "data['History'] = data['History'].fillna('NewCust')"
   ]
  },
  {
   "cell_type": "code",
   "execution_count": 12,
   "id": "ab318058",
   "metadata": {},
   "outputs": [
    {
     "data": {
      "text/plain": [
       "NewCust    303\n",
       "High       255\n",
       "Low        230\n",
       "Medium     212\n",
       "Name: History, dtype: int64"
      ]
     },
     "execution_count": 12,
     "metadata": {},
     "output_type": "execute_result"
    }
   ],
   "source": [
    "data['History'].value_counts()"
   ]
  },
  {
   "cell_type": "code",
   "execution_count": 13,
   "id": "3df3b0c3",
   "metadata": {},
   "outputs": [
    {
     "data": {
      "text/plain": [
       "Index(['Age', 'Gender', 'OwnHome', 'Married', 'Location', 'Salary', 'Children',\n",
       "       'History', 'Catalogs', 'Cust_Id', 'Target'],\n",
       "      dtype='object')"
      ]
     },
     "execution_count": 13,
     "metadata": {},
     "output_type": "execute_result"
    }
   ],
   "source": [
    "data.columns"
   ]
  },
  {
   "cell_type": "code",
   "execution_count": 14,
   "id": "2d8c50f8",
   "metadata": {},
   "outputs": [],
   "source": [
    "data = pd.get_dummies(data, columns=['Age', 'Gender', 'OwnHome', 'Married', 'Location', 'History'],prefix='class')"
   ]
  },
  {
   "cell_type": "code",
   "execution_count": 15,
   "id": "59e7a79b",
   "metadata": {},
   "outputs": [
    {
     "data": {
      "text/html": [
       "<div>\n",
       "<style scoped>\n",
       "    .dataframe tbody tr th:only-of-type {\n",
       "        vertical-align: middle;\n",
       "    }\n",
       "\n",
       "    .dataframe tbody tr th {\n",
       "        vertical-align: top;\n",
       "    }\n",
       "\n",
       "    .dataframe thead th {\n",
       "        text-align: right;\n",
       "    }\n",
       "</style>\n",
       "<table border=\"1\" class=\"dataframe\">\n",
       "  <thead>\n",
       "    <tr style=\"text-align: right;\">\n",
       "      <th></th>\n",
       "      <th>Salary</th>\n",
       "      <th>Children</th>\n",
       "      <th>Catalogs</th>\n",
       "      <th>Cust_Id</th>\n",
       "      <th>Target</th>\n",
       "      <th>class_Middle</th>\n",
       "      <th>class_Old</th>\n",
       "      <th>class_Young</th>\n",
       "      <th>class_Female</th>\n",
       "      <th>class_Male</th>\n",
       "      <th>class_Own</th>\n",
       "      <th>class_Rent</th>\n",
       "      <th>class_Married</th>\n",
       "      <th>class_Single</th>\n",
       "      <th>class_Close</th>\n",
       "      <th>class_Far</th>\n",
       "      <th>class_High</th>\n",
       "      <th>class_Low</th>\n",
       "      <th>class_Medium</th>\n",
       "      <th>class_NewCust</th>\n",
       "    </tr>\n",
       "  </thead>\n",
       "  <tbody>\n",
       "    <tr>\n",
       "      <th>0</th>\n",
       "      <td>47500</td>\n",
       "      <td>0</td>\n",
       "      <td>6</td>\n",
       "      <td>247</td>\n",
       "      <td>0</td>\n",
       "      <td>0</td>\n",
       "      <td>1</td>\n",
       "      <td>0</td>\n",
       "      <td>1</td>\n",
       "      <td>0</td>\n",
       "      <td>1</td>\n",
       "      <td>0</td>\n",
       "      <td>0</td>\n",
       "      <td>1</td>\n",
       "      <td>0</td>\n",
       "      <td>1</td>\n",
       "      <td>1</td>\n",
       "      <td>0</td>\n",
       "      <td>0</td>\n",
       "      <td>0</td>\n",
       "    </tr>\n",
       "    <tr>\n",
       "      <th>1</th>\n",
       "      <td>63600</td>\n",
       "      <td>0</td>\n",
       "      <td>6</td>\n",
       "      <td>127</td>\n",
       "      <td>1</td>\n",
       "      <td>1</td>\n",
       "      <td>0</td>\n",
       "      <td>0</td>\n",
       "      <td>0</td>\n",
       "      <td>1</td>\n",
       "      <td>0</td>\n",
       "      <td>1</td>\n",
       "      <td>0</td>\n",
       "      <td>1</td>\n",
       "      <td>1</td>\n",
       "      <td>0</td>\n",
       "      <td>1</td>\n",
       "      <td>0</td>\n",
       "      <td>0</td>\n",
       "      <td>0</td>\n",
       "    </tr>\n",
       "    <tr>\n",
       "      <th>2</th>\n",
       "      <td>13500</td>\n",
       "      <td>0</td>\n",
       "      <td>18</td>\n",
       "      <td>479</td>\n",
       "      <td>0</td>\n",
       "      <td>0</td>\n",
       "      <td>0</td>\n",
       "      <td>1</td>\n",
       "      <td>1</td>\n",
       "      <td>0</td>\n",
       "      <td>0</td>\n",
       "      <td>1</td>\n",
       "      <td>0</td>\n",
       "      <td>1</td>\n",
       "      <td>1</td>\n",
       "      <td>0</td>\n",
       "      <td>0</td>\n",
       "      <td>1</td>\n",
       "      <td>0</td>\n",
       "      <td>0</td>\n",
       "    </tr>\n",
       "    <tr>\n",
       "      <th>3</th>\n",
       "      <td>85600</td>\n",
       "      <td>1</td>\n",
       "      <td>18</td>\n",
       "      <td>475</td>\n",
       "      <td>1</td>\n",
       "      <td>1</td>\n",
       "      <td>0</td>\n",
       "      <td>0</td>\n",
       "      <td>0</td>\n",
       "      <td>1</td>\n",
       "      <td>1</td>\n",
       "      <td>0</td>\n",
       "      <td>1</td>\n",
       "      <td>0</td>\n",
       "      <td>1</td>\n",
       "      <td>0</td>\n",
       "      <td>1</td>\n",
       "      <td>0</td>\n",
       "      <td>0</td>\n",
       "      <td>0</td>\n",
       "    </tr>\n",
       "    <tr>\n",
       "      <th>4</th>\n",
       "      <td>68400</td>\n",
       "      <td>0</td>\n",
       "      <td>12</td>\n",
       "      <td>151</td>\n",
       "      <td>1</td>\n",
       "      <td>1</td>\n",
       "      <td>0</td>\n",
       "      <td>0</td>\n",
       "      <td>1</td>\n",
       "      <td>0</td>\n",
       "      <td>1</td>\n",
       "      <td>0</td>\n",
       "      <td>0</td>\n",
       "      <td>1</td>\n",
       "      <td>1</td>\n",
       "      <td>0</td>\n",
       "      <td>1</td>\n",
       "      <td>0</td>\n",
       "      <td>0</td>\n",
       "      <td>0</td>\n",
       "    </tr>\n",
       "  </tbody>\n",
       "</table>\n",
       "</div>"
      ],
      "text/plain": [
       "   Salary  Children  Catalogs  Cust_Id  Target  class_Middle  class_Old  \\\n",
       "0   47500         0         6      247       0             0          1   \n",
       "1   63600         0         6      127       1             1          0   \n",
       "2   13500         0        18      479       0             0          0   \n",
       "3   85600         1        18      475       1             1          0   \n",
       "4   68400         0        12      151       1             1          0   \n",
       "\n",
       "   class_Young  class_Female  class_Male  class_Own  class_Rent  \\\n",
       "0            0             1           0          1           0   \n",
       "1            0             0           1          0           1   \n",
       "2            1             1           0          0           1   \n",
       "3            0             0           1          1           0   \n",
       "4            0             1           0          1           0   \n",
       "\n",
       "   class_Married  class_Single  class_Close  class_Far  class_High  class_Low  \\\n",
       "0              0             1            0          1           1          0   \n",
       "1              0             1            1          0           1          0   \n",
       "2              0             1            1          0           0          1   \n",
       "3              1             0            1          0           1          0   \n",
       "4              0             1            1          0           1          0   \n",
       "\n",
       "   class_Medium  class_NewCust  \n",
       "0             0              0  \n",
       "1             0              0  \n",
       "2             0              0  \n",
       "3             0              0  \n",
       "4             0              0  "
      ]
     },
     "execution_count": 15,
     "metadata": {},
     "output_type": "execute_result"
    }
   ],
   "source": [
    "data.head()"
   ]
  },
  {
   "cell_type": "code",
   "execution_count": 16,
   "id": "9cfbe335",
   "metadata": {},
   "outputs": [
    {
     "data": {
      "text/plain": [
       "Index(['Salary', 'Children', 'Catalogs', 'Cust_Id', 'Target', 'class_Middle',\n",
       "       'class_Old', 'class_Young', 'class_Female', 'class_Male', 'class_Own',\n",
       "       'class_Rent', 'class_Married', 'class_Single', 'class_Close',\n",
       "       'class_Far', 'class_High', 'class_Low', 'class_Medium',\n",
       "       'class_NewCust'],\n",
       "      dtype='object')"
      ]
     },
     "execution_count": 16,
     "metadata": {},
     "output_type": "execute_result"
    }
   ],
   "source": [
    "data.columns"
   ]
  },
  {
   "cell_type": "code",
   "execution_count": 17,
   "id": "d4bd2de6",
   "metadata": {},
   "outputs": [],
   "source": [
    "data.drop(['Cust_Id', 'class_Male', 'class_Rent', 'class_Single', 'class_Far'], axis=1, inplace=True)"
   ]
  },
  {
   "cell_type": "code",
   "execution_count": 18,
   "id": "3becdbb8",
   "metadata": {},
   "outputs": [
    {
     "data": {
      "text/html": [
       "<div>\n",
       "<style scoped>\n",
       "    .dataframe tbody tr th:only-of-type {\n",
       "        vertical-align: middle;\n",
       "    }\n",
       "\n",
       "    .dataframe tbody tr th {\n",
       "        vertical-align: top;\n",
       "    }\n",
       "\n",
       "    .dataframe thead th {\n",
       "        text-align: right;\n",
       "    }\n",
       "</style>\n",
       "<table border=\"1\" class=\"dataframe\">\n",
       "  <thead>\n",
       "    <tr style=\"text-align: right;\">\n",
       "      <th></th>\n",
       "      <th>Salary</th>\n",
       "      <th>Children</th>\n",
       "      <th>Catalogs</th>\n",
       "      <th>Target</th>\n",
       "      <th>class_Middle</th>\n",
       "      <th>class_Old</th>\n",
       "      <th>class_Young</th>\n",
       "      <th>class_Female</th>\n",
       "      <th>class_Own</th>\n",
       "      <th>class_Married</th>\n",
       "      <th>class_Close</th>\n",
       "      <th>class_High</th>\n",
       "      <th>class_Low</th>\n",
       "      <th>class_Medium</th>\n",
       "      <th>class_NewCust</th>\n",
       "    </tr>\n",
       "  </thead>\n",
       "  <tbody>\n",
       "    <tr>\n",
       "      <th>0</th>\n",
       "      <td>47500</td>\n",
       "      <td>0</td>\n",
       "      <td>6</td>\n",
       "      <td>0</td>\n",
       "      <td>0</td>\n",
       "      <td>1</td>\n",
       "      <td>0</td>\n",
       "      <td>1</td>\n",
       "      <td>1</td>\n",
       "      <td>0</td>\n",
       "      <td>0</td>\n",
       "      <td>1</td>\n",
       "      <td>0</td>\n",
       "      <td>0</td>\n",
       "      <td>0</td>\n",
       "    </tr>\n",
       "    <tr>\n",
       "      <th>1</th>\n",
       "      <td>63600</td>\n",
       "      <td>0</td>\n",
       "      <td>6</td>\n",
       "      <td>1</td>\n",
       "      <td>1</td>\n",
       "      <td>0</td>\n",
       "      <td>0</td>\n",
       "      <td>0</td>\n",
       "      <td>0</td>\n",
       "      <td>0</td>\n",
       "      <td>1</td>\n",
       "      <td>1</td>\n",
       "      <td>0</td>\n",
       "      <td>0</td>\n",
       "      <td>0</td>\n",
       "    </tr>\n",
       "    <tr>\n",
       "      <th>2</th>\n",
       "      <td>13500</td>\n",
       "      <td>0</td>\n",
       "      <td>18</td>\n",
       "      <td>0</td>\n",
       "      <td>0</td>\n",
       "      <td>0</td>\n",
       "      <td>1</td>\n",
       "      <td>1</td>\n",
       "      <td>0</td>\n",
       "      <td>0</td>\n",
       "      <td>1</td>\n",
       "      <td>0</td>\n",
       "      <td>1</td>\n",
       "      <td>0</td>\n",
       "      <td>0</td>\n",
       "    </tr>\n",
       "    <tr>\n",
       "      <th>3</th>\n",
       "      <td>85600</td>\n",
       "      <td>1</td>\n",
       "      <td>18</td>\n",
       "      <td>1</td>\n",
       "      <td>1</td>\n",
       "      <td>0</td>\n",
       "      <td>0</td>\n",
       "      <td>0</td>\n",
       "      <td>1</td>\n",
       "      <td>1</td>\n",
       "      <td>1</td>\n",
       "      <td>1</td>\n",
       "      <td>0</td>\n",
       "      <td>0</td>\n",
       "      <td>0</td>\n",
       "    </tr>\n",
       "    <tr>\n",
       "      <th>4</th>\n",
       "      <td>68400</td>\n",
       "      <td>0</td>\n",
       "      <td>12</td>\n",
       "      <td>1</td>\n",
       "      <td>1</td>\n",
       "      <td>0</td>\n",
       "      <td>0</td>\n",
       "      <td>1</td>\n",
       "      <td>1</td>\n",
       "      <td>0</td>\n",
       "      <td>1</td>\n",
       "      <td>1</td>\n",
       "      <td>0</td>\n",
       "      <td>0</td>\n",
       "      <td>0</td>\n",
       "    </tr>\n",
       "  </tbody>\n",
       "</table>\n",
       "</div>"
      ],
      "text/plain": [
       "   Salary  Children  Catalogs  Target  class_Middle  class_Old  class_Young  \\\n",
       "0   47500         0         6       0             0          1            0   \n",
       "1   63600         0         6       1             1          0            0   \n",
       "2   13500         0        18       0             0          0            1   \n",
       "3   85600         1        18       1             1          0            0   \n",
       "4   68400         0        12       1             1          0            0   \n",
       "\n",
       "   class_Female  class_Own  class_Married  class_Close  class_High  class_Low  \\\n",
       "0             1          1              0            0           1          0   \n",
       "1             0          0              0            1           1          0   \n",
       "2             1          0              0            1           0          1   \n",
       "3             0          1              1            1           1          0   \n",
       "4             1          1              0            1           1          0   \n",
       "\n",
       "   class_Medium  class_NewCust  \n",
       "0             0              0  \n",
       "1             0              0  \n",
       "2             0              0  \n",
       "3             0              0  \n",
       "4             0              0  "
      ]
     },
     "execution_count": 18,
     "metadata": {},
     "output_type": "execute_result"
    }
   ],
   "source": [
    "data.head()"
   ]
  },
  {
   "cell_type": "code",
   "execution_count": 19,
   "id": "3a4ce75f",
   "metadata": {},
   "outputs": [
    {
     "data": {
      "text/plain": [
       "(1000, 15)"
      ]
     },
     "execution_count": 19,
     "metadata": {},
     "output_type": "execute_result"
    }
   ],
   "source": [
    "data.shape"
   ]
  },
  {
   "cell_type": "code",
   "execution_count": 21,
   "id": "d9b59d6e",
   "metadata": {},
   "outputs": [],
   "source": [
    "xtrain, xtest, ytrain, ytest = train_test_split(data.drop('Target',axis=1),data['Target'],\\\n",
    "                                               test_size=0.2, random_state=42)"
   ]
  },
  {
   "cell_type": "code",
   "execution_count": 23,
   "id": "2d9e0f09",
   "metadata": {},
   "outputs": [],
   "source": [
    "xtrain = sm.add_constant(xtrain)\n",
    "xtest = sm.add_constant(xtest)"
   ]
  },
  {
   "cell_type": "code",
   "execution_count": 24,
   "id": "ff8fe14f",
   "metadata": {},
   "outputs": [],
   "source": [
    "model1 = sm.GLM(ytrain,xtrain,family=sm.families.Binomial()).fit()"
   ]
  },
  {
   "cell_type": "code",
   "execution_count": 25,
   "id": "50297a9d",
   "metadata": {},
   "outputs": [
    {
     "data": {
      "text/html": [
       "<table class=\"simpletable\">\n",
       "<caption>Generalized Linear Model Regression Results</caption>\n",
       "<tr>\n",
       "  <th>Dep. Variable:</th>        <td>Target</td>      <th>  No. Observations:  </th>  <td>   800</td> \n",
       "</tr>\n",
       "<tr>\n",
       "  <th>Model:</th>                  <td>GLM</td>       <th>  Df Residuals:      </th>  <td>   787</td> \n",
       "</tr>\n",
       "<tr>\n",
       "  <th>Model Family:</th>        <td>Binomial</td>     <th>  Df Model:          </th>  <td>    12</td> \n",
       "</tr>\n",
       "<tr>\n",
       "  <th>Link Function:</th>         <td>logit</td>      <th>  Scale:             </th> <td>  1.0000</td>\n",
       "</tr>\n",
       "<tr>\n",
       "  <th>Method:</th>                <td>IRLS</td>       <th>  Log-Likelihood:    </th> <td> -193.34</td>\n",
       "</tr>\n",
       "<tr>\n",
       "  <th>Date:</th>            <td>Wed, 16 Feb 2022</td> <th>  Deviance:          </th> <td>  386.67</td>\n",
       "</tr>\n",
       "<tr>\n",
       "  <th>Time:</th>                <td>11:59:06</td>     <th>  Pearson chi2:      </th>  <td>  479.</td> \n",
       "</tr>\n",
       "<tr>\n",
       "  <th>No. Iterations:</th>         <td>24</td>        <th>                     </th>     <td> </td>   \n",
       "</tr>\n",
       "<tr>\n",
       "  <th>Covariance Type:</th>     <td>nonrobust</td>    <th>                     </th>     <td> </td>   \n",
       "</tr>\n",
       "</table>\n",
       "<table class=\"simpletable\">\n",
       "<tr>\n",
       "        <td></td>           <th>coef</th>     <th>std err</th>      <th>z</th>      <th>P>|z|</th>  <th>[0.025</th>    <th>0.975]</th>  \n",
       "</tr>\n",
       "<tr>\n",
       "  <th>const</th>         <td>   -7.4089</td> <td> 2108.820</td> <td>   -0.004</td> <td> 0.997</td> <td>-4140.620</td> <td> 4125.802</td>\n",
       "</tr>\n",
       "<tr>\n",
       "  <th>Salary</th>        <td> 6.857e-05</td> <td> 1.07e-05</td> <td>    6.401</td> <td> 0.000</td> <td> 4.76e-05</td> <td> 8.96e-05</td>\n",
       "</tr>\n",
       "<tr>\n",
       "  <th>Children</th>      <td>   -0.7417</td> <td>    0.177</td> <td>   -4.193</td> <td> 0.000</td> <td>   -1.088</td> <td>   -0.395</td>\n",
       "</tr>\n",
       "<tr>\n",
       "  <th>Catalogs</th>      <td>    0.2083</td> <td>    0.024</td> <td>    8.738</td> <td> 0.000</td> <td>    0.162</td> <td>    0.255</td>\n",
       "</tr>\n",
       "<tr>\n",
       "  <th>class_Middle</th>  <td>   -2.1876</td> <td>  702.940</td> <td>   -0.003</td> <td> 0.998</td> <td>-1379.925</td> <td> 1375.549</td>\n",
       "</tr>\n",
       "<tr>\n",
       "  <th>class_Old</th>     <td>   -2.1784</td> <td>  702.940</td> <td>   -0.003</td> <td> 0.998</td> <td>-1379.915</td> <td> 1375.559</td>\n",
       "</tr>\n",
       "<tr>\n",
       "  <th>class_Young</th>   <td>   -3.0429</td> <td>  702.940</td> <td>   -0.004</td> <td> 0.997</td> <td>-1380.780</td> <td> 1374.694</td>\n",
       "</tr>\n",
       "<tr>\n",
       "  <th>class_Female</th>  <td>   -0.3089</td> <td>    0.271</td> <td>   -1.141</td> <td> 0.254</td> <td>   -0.840</td> <td>    0.222</td>\n",
       "</tr>\n",
       "<tr>\n",
       "  <th>class_Own</th>     <td>    0.2163</td> <td>    0.300</td> <td>    0.720</td> <td> 0.471</td> <td>   -0.372</td> <td>    0.805</td>\n",
       "</tr>\n",
       "<tr>\n",
       "  <th>class_Married</th> <td>    0.1562</td> <td>    0.349</td> <td>    0.447</td> <td> 0.655</td> <td>   -0.528</td> <td>    0.840</td>\n",
       "</tr>\n",
       "<tr>\n",
       "  <th>class_Close</th>   <td>   -1.7830</td> <td>    0.346</td> <td>   -5.148</td> <td> 0.000</td> <td>   -2.462</td> <td>   -1.104</td>\n",
       "</tr>\n",
       "<tr>\n",
       "  <th>class_High</th>    <td>    4.5367</td> <td> 2811.760</td> <td>    0.002</td> <td> 0.999</td> <td>-5506.411</td> <td> 5515.484</td>\n",
       "</tr>\n",
       "<tr>\n",
       "  <th>class_Low</th>     <td>  -19.7524</td> <td> 1.05e+04</td> <td>   -0.002</td> <td> 0.999</td> <td>-2.07e+04</td> <td> 2.06e+04</td>\n",
       "</tr>\n",
       "<tr>\n",
       "  <th>class_Medium</th>  <td>    2.7703</td> <td> 2811.760</td> <td>    0.001</td> <td> 0.999</td> <td>-5508.177</td> <td> 5513.718</td>\n",
       "</tr>\n",
       "<tr>\n",
       "  <th>class_NewCust</th> <td>    5.0365</td> <td> 2811.760</td> <td>    0.002</td> <td> 0.999</td> <td>-5505.911</td> <td> 5515.984</td>\n",
       "</tr>\n",
       "</table>"
      ],
      "text/plain": [
       "<class 'statsmodels.iolib.summary.Summary'>\n",
       "\"\"\"\n",
       "                 Generalized Linear Model Regression Results                  \n",
       "==============================================================================\n",
       "Dep. Variable:                 Target   No. Observations:                  800\n",
       "Model:                            GLM   Df Residuals:                      787\n",
       "Model Family:                Binomial   Df Model:                           12\n",
       "Link Function:                  logit   Scale:                          1.0000\n",
       "Method:                          IRLS   Log-Likelihood:                -193.34\n",
       "Date:                Wed, 16 Feb 2022   Deviance:                       386.67\n",
       "Time:                        11:59:06   Pearson chi2:                     479.\n",
       "No. Iterations:                    24                                         \n",
       "Covariance Type:            nonrobust                                         \n",
       "=================================================================================\n",
       "                    coef    std err          z      P>|z|      [0.025      0.975]\n",
       "---------------------------------------------------------------------------------\n",
       "const            -7.4089   2108.820     -0.004      0.997   -4140.620    4125.802\n",
       "Salary         6.857e-05   1.07e-05      6.401      0.000    4.76e-05    8.96e-05\n",
       "Children         -0.7417      0.177     -4.193      0.000      -1.088      -0.395\n",
       "Catalogs          0.2083      0.024      8.738      0.000       0.162       0.255\n",
       "class_Middle     -2.1876    702.940     -0.003      0.998   -1379.925    1375.549\n",
       "class_Old        -2.1784    702.940     -0.003      0.998   -1379.915    1375.559\n",
       "class_Young      -3.0429    702.940     -0.004      0.997   -1380.780    1374.694\n",
       "class_Female     -0.3089      0.271     -1.141      0.254      -0.840       0.222\n",
       "class_Own         0.2163      0.300      0.720      0.471      -0.372       0.805\n",
       "class_Married     0.1562      0.349      0.447      0.655      -0.528       0.840\n",
       "class_Close      -1.7830      0.346     -5.148      0.000      -2.462      -1.104\n",
       "class_High        4.5367   2811.760      0.002      0.999   -5506.411    5515.484\n",
       "class_Low       -19.7524   1.05e+04     -0.002      0.999   -2.07e+04    2.06e+04\n",
       "class_Medium      2.7703   2811.760      0.001      0.999   -5508.177    5513.718\n",
       "class_NewCust     5.0365   2811.760      0.002      0.999   -5505.911    5515.984\n",
       "=================================================================================\n",
       "\"\"\""
      ]
     },
     "execution_count": 25,
     "metadata": {},
     "output_type": "execute_result"
    }
   ],
   "source": [
    "model1.summary()"
   ]
  },
  {
   "cell_type": "code",
   "execution_count": 26,
   "id": "bcea00dc",
   "metadata": {},
   "outputs": [
    {
     "data": {
      "text/html": [
       "<table class=\"simpletable\">\n",
       "<tr>\n",
       "        <td>Model:</td>               <td>GLM</td>            <td>AIC:</td>        <td>412.6700</td> \n",
       "</tr>\n",
       "<tr>\n",
       "    <td>Link Function:</td>          <td>logit</td>           <td>BIC:</td>       <td>-4874.1194</td>\n",
       "</tr>\n",
       "<tr>\n",
       "  <td>Dependent Variable:</td>      <td>Target</td>      <td>Log-Likelihood:</td>   <td>-193.34</td> \n",
       "</tr>\n",
       "<tr>\n",
       "         <td>Date:</td>        <td>2022-02-16 11:59</td>    <td>LL-Null:</td>       <td>-542.20</td> \n",
       "</tr>\n",
       "<tr>\n",
       "   <td>No. Observations:</td>         <td>800</td>          <td>Deviance:</td>      <td>386.67</td>  \n",
       "</tr>\n",
       "<tr>\n",
       "       <td>Df Model:</td>             <td>12</td>         <td>Pearson chi2:</td>     <td>479.</td>   \n",
       "</tr>\n",
       "<tr>\n",
       "     <td>Df Residuals:</td>           <td>787</td>           <td>Scale:</td>        <td>1.0000</td>  \n",
       "</tr>\n",
       "<tr>\n",
       "        <td>Method:</td>             <td>IRLS</td>              <td></td>              <td></td>     \n",
       "</tr>\n",
       "</table>\n",
       "<table class=\"simpletable\">\n",
       "<tr>\n",
       "        <td></td>          <th>Coef.</th>   <th>Std.Err.</th>     <th>z</th>     <th>P>|z|</th>   <th>[0.025</th>      <th>0.975]</th>  \n",
       "</tr>\n",
       "<tr>\n",
       "  <th>const</th>          <td>-7.4089</td>  <td>2108.8197</td> <td>-0.0035</td> <td>0.9972</td> <td>-4140.6196</td>   <td>4125.8017</td>\n",
       "</tr>\n",
       "<tr>\n",
       "  <th>Salary</th>         <td>0.0001</td>    <td>0.0000</td>   <td>6.4011</td>  <td>0.0000</td>   <td>0.0000</td>      <td>0.0001</td>  \n",
       "</tr>\n",
       "<tr>\n",
       "  <th>Children</th>       <td>-0.7417</td>   <td>0.1769</td>   <td>-4.1930</td> <td>0.0000</td>   <td>-1.0885</td>     <td>-0.3950</td> \n",
       "</tr>\n",
       "<tr>\n",
       "  <th>Catalogs</th>       <td>0.2083</td>    <td>0.0238</td>   <td>8.7380</td>  <td>0.0000</td>   <td>0.1616</td>      <td>0.2550</td>  \n",
       "</tr>\n",
       "<tr>\n",
       "  <th>class_Middle</th>   <td>-2.1876</td>  <td>702.9399</td>  <td>-0.0031</td> <td>0.9975</td> <td>-1379.9246</td>   <td>1375.5494</td>\n",
       "</tr>\n",
       "<tr>\n",
       "  <th>class_Old</th>      <td>-2.1784</td>  <td>702.9399</td>  <td>-0.0031</td> <td>0.9975</td> <td>-1379.9154</td>   <td>1375.5585</td>\n",
       "</tr>\n",
       "<tr>\n",
       "  <th>class_Young</th>    <td>-3.0429</td>  <td>702.9399</td>  <td>-0.0043</td> <td>0.9965</td> <td>-1380.7798</td>   <td>1374.6941</td>\n",
       "</tr>\n",
       "<tr>\n",
       "  <th>class_Female</th>   <td>-0.3089</td>   <td>0.2708</td>   <td>-1.1406</td> <td>0.2541</td>   <td>-0.8397</td>     <td>0.2219</td>  \n",
       "</tr>\n",
       "<tr>\n",
       "  <th>class_Own</th>      <td>0.2163</td>    <td>0.3003</td>   <td>0.7202</td>  <td>0.4714</td>   <td>-0.3723</td>     <td>0.8049</td>  \n",
       "</tr>\n",
       "<tr>\n",
       "  <th>class_Married</th>  <td>0.1562</td>    <td>0.3490</td>   <td>0.4474</td>  <td>0.6546</td>   <td>-0.5279</td>     <td>0.8402</td>  \n",
       "</tr>\n",
       "<tr>\n",
       "  <th>class_Close</th>    <td>-1.7830</td>   <td>0.3463</td>   <td>-5.1482</td> <td>0.0000</td>   <td>-2.4618</td>     <td>-1.1042</td> \n",
       "</tr>\n",
       "<tr>\n",
       "  <th>class_High</th>     <td>4.5367</td>   <td>2811.7595</td> <td>0.0016</td>  <td>0.9987</td> <td>-5506.4107</td>   <td>5515.4841</td>\n",
       "</tr>\n",
       "<tr>\n",
       "  <th>class_Low</th>     <td>-19.7524</td> <td>10544.0982</td> <td>-0.0019</td> <td>0.9985</td> <td>-20685.8052</td> <td>20646.3003</td>\n",
       "</tr>\n",
       "<tr>\n",
       "  <th>class_Medium</th>   <td>2.7703</td>   <td>2811.7595</td> <td>0.0010</td>  <td>0.9992</td> <td>-5508.1771</td>   <td>5513.7177</td>\n",
       "</tr>\n",
       "<tr>\n",
       "  <th>class_NewCust</th>  <td>5.0365</td>   <td>2811.7595</td> <td>0.0018</td>  <td>0.9986</td> <td>-5505.9109</td>   <td>5515.9839</td>\n",
       "</tr>\n",
       "</table>"
      ],
      "text/plain": [
       "<class 'statsmodels.iolib.summary2.Summary'>\n",
       "\"\"\"\n",
       "                   Results: Generalized linear model\n",
       "=======================================================================\n",
       "Model:                  GLM                AIC:              412.6700  \n",
       "Link Function:          logit              BIC:              -4874.1194\n",
       "Dependent Variable:     Target             Log-Likelihood:   -193.34   \n",
       "Date:                   2022-02-16 11:59   LL-Null:          -542.20   \n",
       "No. Observations:       800                Deviance:         386.67    \n",
       "Df Model:               12                 Pearson chi2:     479.      \n",
       "Df Residuals:           787                Scale:            1.0000    \n",
       "Method:                 IRLS                                           \n",
       "-----------------------------------------------------------------------\n",
       "               Coef.    Std.Err.     z    P>|z|     [0.025     0.975]  \n",
       "-----------------------------------------------------------------------\n",
       "const          -7.4089  2108.8197 -0.0035 0.9972  -4140.6196  4125.8017\n",
       "Salary          0.0001     0.0000  6.4011 0.0000      0.0000     0.0001\n",
       "Children       -0.7417     0.1769 -4.1930 0.0000     -1.0885    -0.3950\n",
       "Catalogs        0.2083     0.0238  8.7380 0.0000      0.1616     0.2550\n",
       "class_Middle   -2.1876   702.9399 -0.0031 0.9975  -1379.9246  1375.5494\n",
       "class_Old      -2.1784   702.9399 -0.0031 0.9975  -1379.9154  1375.5585\n",
       "class_Young    -3.0429   702.9399 -0.0043 0.9965  -1380.7798  1374.6941\n",
       "class_Female   -0.3089     0.2708 -1.1406 0.2541     -0.8397     0.2219\n",
       "class_Own       0.2163     0.3003  0.7202 0.4714     -0.3723     0.8049\n",
       "class_Married   0.1562     0.3490  0.4474 0.6546     -0.5279     0.8402\n",
       "class_Close    -1.7830     0.3463 -5.1482 0.0000     -2.4618    -1.1042\n",
       "class_High      4.5367  2811.7595  0.0016 0.9987  -5506.4107  5515.4841\n",
       "class_Low     -19.7524 10544.0982 -0.0019 0.9985 -20685.8052 20646.3003\n",
       "class_Medium    2.7703  2811.7595  0.0010 0.9992  -5508.1771  5513.7177\n",
       "class_NewCust   5.0365  2811.7595  0.0018 0.9986  -5505.9109  5515.9839\n",
       "=======================================================================\n",
       "\n",
       "\"\"\""
      ]
     },
     "execution_count": 26,
     "metadata": {},
     "output_type": "execute_result"
    }
   ],
   "source": [
    "model1.summary2()"
   ]
  },
  {
   "cell_type": "code",
   "execution_count": 27,
   "id": "9a505cf1",
   "metadata": {},
   "outputs": [],
   "source": [
    "xtrain.drop(['class_Medium'],axis=1,inplace=True)\n",
    "xtest.drop(['class_Medium'],axis=1,inplace=True)"
   ]
  },
  {
   "cell_type": "code",
   "execution_count": 28,
   "id": "c05fb5c9",
   "metadata": {},
   "outputs": [],
   "source": [
    "model2 = sm.GLM(ytrain,xtrain,family=sm.families.Binomial()).fit()"
   ]
  },
  {
   "cell_type": "code",
   "execution_count": 29,
   "id": "b206aeb6",
   "metadata": {},
   "outputs": [
    {
     "data": {
      "text/html": [
       "<table class=\"simpletable\">\n",
       "<tr>\n",
       "        <td>Model:</td>               <td>GLM</td>            <td>AIC:</td>        <td>412.6700</td> \n",
       "</tr>\n",
       "<tr>\n",
       "    <td>Link Function:</td>          <td>logit</td>           <td>BIC:</td>       <td>-4874.1194</td>\n",
       "</tr>\n",
       "<tr>\n",
       "  <td>Dependent Variable:</td>      <td>Target</td>      <td>Log-Likelihood:</td>   <td>-193.34</td> \n",
       "</tr>\n",
       "<tr>\n",
       "         <td>Date:</td>        <td>2022-02-16 12:01</td>    <td>LL-Null:</td>       <td>-542.20</td> \n",
       "</tr>\n",
       "<tr>\n",
       "   <td>No. Observations:</td>         <td>800</td>          <td>Deviance:</td>      <td>386.67</td>  \n",
       "</tr>\n",
       "<tr>\n",
       "       <td>Df Model:</td>             <td>12</td>         <td>Pearson chi2:</td>     <td>479.</td>   \n",
       "</tr>\n",
       "<tr>\n",
       "     <td>Df Residuals:</td>           <td>787</td>           <td>Scale:</td>        <td>1.0000</td>  \n",
       "</tr>\n",
       "<tr>\n",
       "        <td>Method:</td>             <td>IRLS</td>              <td></td>              <td></td>     \n",
       "</tr>\n",
       "</table>\n",
       "<table class=\"simpletable\">\n",
       "<tr>\n",
       "        <td></td>          <th>Coef.</th>   <th>Std.Err.</th>     <th>z</th>     <th>P>|z|</th>   <th>[0.025</th>      <th>0.975]</th>  \n",
       "</tr>\n",
       "<tr>\n",
       "  <th>const</th>          <td>-5.3312</td>   <td>0.5666</td>   <td>-9.4084</td> <td>0.0000</td>   <td>-6.4418</td>     <td>-4.2206</td> \n",
       "</tr>\n",
       "<tr>\n",
       "  <th>Salary</th>         <td>0.0001</td>    <td>0.0000</td>   <td>6.4011</td>  <td>0.0000</td>   <td>0.0000</td>      <td>0.0001</td>  \n",
       "</tr>\n",
       "<tr>\n",
       "  <th>Children</th>       <td>-0.7417</td>   <td>0.1769</td>   <td>-4.1930</td> <td>0.0000</td>   <td>-1.0885</td>     <td>-0.3950</td> \n",
       "</tr>\n",
       "<tr>\n",
       "  <th>Catalogs</th>       <td>0.2083</td>    <td>0.0238</td>   <td>8.7380</td>  <td>0.0000</td>   <td>0.1616</td>      <td>0.2550</td>  \n",
       "</tr>\n",
       "<tr>\n",
       "  <th>class_Middle</th>   <td>-1.4950</td>   <td>0.3133</td>   <td>-4.7712</td> <td>0.0000</td>   <td>-2.1092</td>     <td>-0.8809</td> \n",
       "</tr>\n",
       "<tr>\n",
       "  <th>class_Old</th>      <td>-1.4859</td>   <td>0.3113</td>   <td>-4.7730</td> <td>0.0000</td>   <td>-2.0960</td>     <td>-0.8757</td> \n",
       "</tr>\n",
       "<tr>\n",
       "  <th>class_Young</th>    <td>-2.3503</td>   <td>0.3268</td>   <td>-7.1924</td> <td>0.0000</td>   <td>-2.9908</td>     <td>-1.7098</td> \n",
       "</tr>\n",
       "<tr>\n",
       "  <th>class_Female</th>   <td>-0.3089</td>   <td>0.2708</td>   <td>-1.1406</td> <td>0.2541</td>   <td>-0.8397</td>     <td>0.2219</td>  \n",
       "</tr>\n",
       "<tr>\n",
       "  <th>class_Own</th>      <td>0.2163</td>    <td>0.3003</td>   <td>0.7202</td>  <td>0.4714</td>   <td>-0.3723</td>     <td>0.8049</td>  \n",
       "</tr>\n",
       "<tr>\n",
       "  <th>class_Married</th>  <td>0.1562</td>    <td>0.3490</td>   <td>0.4474</td>  <td>0.6546</td>   <td>-0.5279</td>     <td>0.8402</td>  \n",
       "</tr>\n",
       "<tr>\n",
       "  <th>class_Close</th>    <td>-1.7830</td>   <td>0.3463</td>   <td>-5.1482</td> <td>0.0000</td>   <td>-2.4618</td>     <td>-1.1042</td> \n",
       "</tr>\n",
       "<tr>\n",
       "  <th>class_High</th>     <td>1.7664</td>    <td>0.4073</td>   <td>4.3368</td>  <td>0.0000</td>   <td>0.9681</td>      <td>2.5647</td>  \n",
       "</tr>\n",
       "<tr>\n",
       "  <th>class_Low</th>     <td>-22.5227</td> <td>13355.8577</td> <td>-0.0017</td> <td>0.9987</td> <td>-26199.5228</td> <td>26154.4774</td>\n",
       "</tr>\n",
       "<tr>\n",
       "  <th>class_NewCust</th>  <td>2.2662</td>    <td>0.3398</td>   <td>6.6690</td>  <td>0.0000</td>   <td>1.6002</td>      <td>2.9322</td>  \n",
       "</tr>\n",
       "</table>"
      ],
      "text/plain": [
       "<class 'statsmodels.iolib.summary2.Summary'>\n",
       "\"\"\"\n",
       "                   Results: Generalized linear model\n",
       "=======================================================================\n",
       "Model:                  GLM                AIC:              412.6700  \n",
       "Link Function:          logit              BIC:              -4874.1194\n",
       "Dependent Variable:     Target             Log-Likelihood:   -193.34   \n",
       "Date:                   2022-02-16 12:01   LL-Null:          -542.20   \n",
       "No. Observations:       800                Deviance:         386.67    \n",
       "Df Model:               12                 Pearson chi2:     479.      \n",
       "Df Residuals:           787                Scale:            1.0000    \n",
       "Method:                 IRLS                                           \n",
       "-----------------------------------------------------------------------\n",
       "               Coef.    Std.Err.     z    P>|z|     [0.025     0.975]  \n",
       "-----------------------------------------------------------------------\n",
       "const          -5.3312     0.5666 -9.4084 0.0000     -6.4418    -4.2206\n",
       "Salary          0.0001     0.0000  6.4011 0.0000      0.0000     0.0001\n",
       "Children       -0.7417     0.1769 -4.1930 0.0000     -1.0885    -0.3950\n",
       "Catalogs        0.2083     0.0238  8.7380 0.0000      0.1616     0.2550\n",
       "class_Middle   -1.4950     0.3133 -4.7712 0.0000     -2.1092    -0.8809\n",
       "class_Old      -1.4859     0.3113 -4.7730 0.0000     -2.0960    -0.8757\n",
       "class_Young    -2.3503     0.3268 -7.1924 0.0000     -2.9908    -1.7098\n",
       "class_Female   -0.3089     0.2708 -1.1406 0.2541     -0.8397     0.2219\n",
       "class_Own       0.2163     0.3003  0.7202 0.4714     -0.3723     0.8049\n",
       "class_Married   0.1562     0.3490  0.4474 0.6546     -0.5279     0.8402\n",
       "class_Close    -1.7830     0.3463 -5.1482 0.0000     -2.4618    -1.1042\n",
       "class_High      1.7664     0.4073  4.3368 0.0000      0.9681     2.5647\n",
       "class_Low     -22.5227 13355.8577 -0.0017 0.9987 -26199.5228 26154.4774\n",
       "class_NewCust   2.2662     0.3398  6.6690 0.0000      1.6002     2.9322\n",
       "=======================================================================\n",
       "\n",
       "\"\"\""
      ]
     },
     "execution_count": 29,
     "metadata": {},
     "output_type": "execute_result"
    }
   ],
   "source": [
    "model2.summary2()"
   ]
  },
  {
   "cell_type": "code",
   "execution_count": 30,
   "id": "cd60471b",
   "metadata": {},
   "outputs": [],
   "source": [
    "xtrain.drop(['class_Low'],axis=1,inplace=True)\n",
    "xtest.drop(['class_Low'],axis=1,inplace=True)"
   ]
  },
  {
   "cell_type": "code",
   "execution_count": 31,
   "id": "8cca786c",
   "metadata": {},
   "outputs": [],
   "source": [
    "model3 = sm.GLM(ytrain,xtrain,family=sm.families.Binomial()).fit()"
   ]
  },
  {
   "cell_type": "code",
   "execution_count": 32,
   "id": "88ad03b2",
   "metadata": {},
   "outputs": [
    {
     "data": {
      "text/html": [
       "<table class=\"simpletable\">\n",
       "<tr>\n",
       "        <td>Model:</td>               <td>GLM</td>            <td>AIC:</td>        <td>421.9369</td> \n",
       "</tr>\n",
       "<tr>\n",
       "    <td>Link Function:</td>          <td>logit</td>           <td>BIC:</td>       <td>-4869.5371</td>\n",
       "</tr>\n",
       "<tr>\n",
       "  <td>Dependent Variable:</td>      <td>Target</td>      <td>Log-Likelihood:</td>   <td>-198.97</td> \n",
       "</tr>\n",
       "<tr>\n",
       "         <td>Date:</td>        <td>2022-02-16 12:02</td>    <td>LL-Null:</td>       <td>-542.20</td> \n",
       "</tr>\n",
       "<tr>\n",
       "   <td>No. Observations:</td>         <td>800</td>          <td>Deviance:</td>      <td>397.94</td>  \n",
       "</tr>\n",
       "<tr>\n",
       "       <td>Df Model:</td>             <td>11</td>         <td>Pearson chi2:</td>     <td>537.</td>   \n",
       "</tr>\n",
       "<tr>\n",
       "     <td>Df Residuals:</td>           <td>788</td>           <td>Scale:</td>        <td>1.0000</td>  \n",
       "</tr>\n",
       "<tr>\n",
       "        <td>Method:</td>             <td>IRLS</td>              <td></td>              <td></td>     \n",
       "</tr>\n",
       "</table>\n",
       "<table class=\"simpletable\">\n",
       "<tr>\n",
       "        <td></td>         <th>Coef.</th>  <th>Std.Err.</th>    <th>z</th>     <th>P>|z|</th> <th>[0.025</th>  <th>0.975]</th> \n",
       "</tr>\n",
       "<tr>\n",
       "  <th>const</th>         <td>-5.4100</td>  <td>0.5452</td>  <td>-9.9227</td> <td>0.0000</td> <td>-6.4786</td> <td>-4.3414</td>\n",
       "</tr>\n",
       "<tr>\n",
       "  <th>Salary</th>        <td>0.0001</td>   <td>0.0000</td>  <td>6.5279</td>  <td>0.0000</td> <td>0.0000</td>  <td>0.0001</td> \n",
       "</tr>\n",
       "<tr>\n",
       "  <th>Children</th>      <td>-0.8594</td>  <td>0.1728</td>  <td>-4.9738</td> <td>0.0000</td> <td>-1.1980</td> <td>-0.5207</td>\n",
       "</tr>\n",
       "<tr>\n",
       "  <th>Catalogs</th>      <td>0.2105</td>   <td>0.0235</td>  <td>8.9641</td>  <td>0.0000</td> <td>0.1644</td>  <td>0.2565</td> \n",
       "</tr>\n",
       "<tr>\n",
       "  <th>class_Middle</th>  <td>-1.4396</td>  <td>0.3100</td>  <td>-4.6438</td> <td>0.0000</td> <td>-2.0472</td> <td>-0.8320</td>\n",
       "</tr>\n",
       "<tr>\n",
       "  <th>class_Old</th>     <td>-1.5260</td>  <td>0.3079</td>  <td>-4.9565</td> <td>0.0000</td> <td>-2.1294</td> <td>-0.9226</td>\n",
       "</tr>\n",
       "<tr>\n",
       "  <th>class_Young</th>   <td>-2.4445</td>  <td>0.3199</td>  <td>-7.6422</td> <td>0.0000</td> <td>-3.0714</td> <td>-1.8175</td>\n",
       "</tr>\n",
       "<tr>\n",
       "  <th>class_Female</th>  <td>-0.2970</td>  <td>0.2703</td>  <td>-1.0986</td> <td>0.2719</td> <td>-0.8269</td> <td>0.2329</td> \n",
       "</tr>\n",
       "<tr>\n",
       "  <th>class_Own</th>     <td>0.2146</td>   <td>0.2992</td>  <td>0.7172</td>  <td>0.4733</td> <td>-0.3719</td> <td>0.8010</td> \n",
       "</tr>\n",
       "<tr>\n",
       "  <th>class_Married</th> <td>0.2344</td>   <td>0.3496</td>  <td>0.6703</td>  <td>0.5027</td> <td>-0.4509</td> <td>0.9197</td> \n",
       "</tr>\n",
       "<tr>\n",
       "  <th>class_Close</th>   <td>-1.8908</td>  <td>0.3455</td>  <td>-5.4720</td> <td>0.0000</td> <td>-2.5680</td> <td>-1.2135</td>\n",
       "</tr>\n",
       "<tr>\n",
       "  <th>class_High</th>    <td>1.9076</td>   <td>0.4090</td>  <td>4.6644</td>  <td>0.0000</td> <td>1.1060</td>  <td>2.7092</td> \n",
       "</tr>\n",
       "<tr>\n",
       "  <th>class_NewCust</th> <td>2.4945</td>   <td>0.3321</td>  <td>7.5117</td>  <td>0.0000</td> <td>1.8436</td>  <td>3.1454</td> \n",
       "</tr>\n",
       "</table>"
      ],
      "text/plain": [
       "<class 'statsmodels.iolib.summary2.Summary'>\n",
       "\"\"\"\n",
       "               Results: Generalized linear model\n",
       "===============================================================\n",
       "Model:              GLM              AIC:            421.9369  \n",
       "Link Function:      logit            BIC:            -4869.5371\n",
       "Dependent Variable: Target           Log-Likelihood: -198.97   \n",
       "Date:               2022-02-16 12:02 LL-Null:        -542.20   \n",
       "No. Observations:   800              Deviance:       397.94    \n",
       "Df Model:           11               Pearson chi2:   537.      \n",
       "Df Residuals:       788              Scale:          1.0000    \n",
       "Method:             IRLS                                       \n",
       "---------------------------------------------------------------\n",
       "                 Coef.  Std.Err.    z    P>|z|   [0.025  0.975]\n",
       "---------------------------------------------------------------\n",
       "const           -5.4100   0.5452 -9.9227 0.0000 -6.4786 -4.3414\n",
       "Salary           0.0001   0.0000  6.5279 0.0000  0.0000  0.0001\n",
       "Children        -0.8594   0.1728 -4.9738 0.0000 -1.1980 -0.5207\n",
       "Catalogs         0.2105   0.0235  8.9641 0.0000  0.1644  0.2565\n",
       "class_Middle    -1.4396   0.3100 -4.6438 0.0000 -2.0472 -0.8320\n",
       "class_Old       -1.5260   0.3079 -4.9565 0.0000 -2.1294 -0.9226\n",
       "class_Young     -2.4445   0.3199 -7.6422 0.0000 -3.0714 -1.8175\n",
       "class_Female    -0.2970   0.2703 -1.0986 0.2719 -0.8269  0.2329\n",
       "class_Own        0.2146   0.2992  0.7172 0.4733 -0.3719  0.8010\n",
       "class_Married    0.2344   0.3496  0.6703 0.5027 -0.4509  0.9197\n",
       "class_Close     -1.8908   0.3455 -5.4720 0.0000 -2.5680 -1.2135\n",
       "class_High       1.9076   0.4090  4.6644 0.0000  1.1060  2.7092\n",
       "class_NewCust    2.4945   0.3321  7.5117 0.0000  1.8436  3.1454\n",
       "===============================================================\n",
       "\n",
       "\"\"\""
      ]
     },
     "execution_count": 32,
     "metadata": {},
     "output_type": "execute_result"
    }
   ],
   "source": [
    "model3.summary2()"
   ]
  },
  {
   "cell_type": "code",
   "execution_count": 33,
   "id": "92084b42",
   "metadata": {},
   "outputs": [],
   "source": [
    "xtrain.drop(['class_Married'],axis=1,inplace=True)\n",
    "xtest.drop(['class_Married'],axis=1,inplace=True)"
   ]
  },
  {
   "cell_type": "code",
   "execution_count": 34,
   "id": "d0253c92",
   "metadata": {},
   "outputs": [],
   "source": [
    "model4 = sm.GLM(ytrain,xtrain,family=sm.families.Binomial()).fit()"
   ]
  },
  {
   "cell_type": "code",
   "execution_count": 35,
   "id": "753ba90a",
   "metadata": {},
   "outputs": [
    {
     "data": {
      "text/html": [
       "<table class=\"simpletable\">\n",
       "<tr>\n",
       "        <td>Model:</td>               <td>GLM</td>            <td>AIC:</td>        <td>420.3846</td> \n",
       "</tr>\n",
       "<tr>\n",
       "    <td>Link Function:</td>          <td>logit</td>           <td>BIC:</td>       <td>-4875.7740</td>\n",
       "</tr>\n",
       "<tr>\n",
       "  <td>Dependent Variable:</td>      <td>Target</td>      <td>Log-Likelihood:</td>   <td>-199.19</td> \n",
       "</tr>\n",
       "<tr>\n",
       "         <td>Date:</td>        <td>2022-02-16 12:03</td>    <td>LL-Null:</td>       <td>-542.20</td> \n",
       "</tr>\n",
       "<tr>\n",
       "   <td>No. Observations:</td>         <td>800</td>          <td>Deviance:</td>      <td>398.38</td>  \n",
       "</tr>\n",
       "<tr>\n",
       "       <td>Df Model:</td>             <td>10</td>         <td>Pearson chi2:</td>     <td>557.</td>   \n",
       "</tr>\n",
       "<tr>\n",
       "     <td>Df Residuals:</td>           <td>789</td>           <td>Scale:</td>        <td>1.0000</td>  \n",
       "</tr>\n",
       "<tr>\n",
       "        <td>Method:</td>             <td>IRLS</td>              <td></td>              <td></td>     \n",
       "</tr>\n",
       "</table>\n",
       "<table class=\"simpletable\">\n",
       "<tr>\n",
       "        <td></td>         <th>Coef.</th>  <th>Std.Err.</th>     <th>z</th>     <th>P>|z|</th> <th>[0.025</th>  <th>0.975]</th> \n",
       "</tr>\n",
       "<tr>\n",
       "  <th>const</th>         <td>-5.4776</td>  <td>0.5378</td>  <td>-10.1860</td> <td>0.0000</td> <td>-6.5316</td> <td>-4.4236</td>\n",
       "</tr>\n",
       "<tr>\n",
       "  <th>Salary</th>        <td>0.0001</td>   <td>0.0000</td>   <td>8.2763</td>  <td>0.0000</td> <td>0.0001</td>  <td>0.0001</td> \n",
       "</tr>\n",
       "<tr>\n",
       "  <th>Children</th>      <td>-0.8496</td>  <td>0.1718</td>   <td>-4.9464</td> <td>0.0000</td> <td>-1.1863</td> <td>-0.5130</td>\n",
       "</tr>\n",
       "<tr>\n",
       "  <th>Catalogs</th>      <td>0.2112</td>   <td>0.0234</td>   <td>9.0080</td>  <td>0.0000</td> <td>0.1652</td>  <td>0.2572</td> \n",
       "</tr>\n",
       "<tr>\n",
       "  <th>class_Middle</th>  <td>-1.5243</td>  <td>0.2841</td>   <td>-5.3650</td> <td>0.0000</td> <td>-2.0811</td> <td>-0.9674</td>\n",
       "</tr>\n",
       "<tr>\n",
       "  <th>class_Old</th>     <td>-1.5228</td>  <td>0.3076</td>   <td>-4.9506</td> <td>0.0000</td> <td>-2.1257</td> <td>-0.9199</td>\n",
       "</tr>\n",
       "<tr>\n",
       "  <th>class_Young</th>   <td>-2.4305</td>  <td>0.3182</td>   <td>-7.6374</td> <td>0.0000</td> <td>-3.0542</td> <td>-1.8068</td>\n",
       "</tr>\n",
       "<tr>\n",
       "  <th>class_Female</th>  <td>-0.2718</td>  <td>0.2677</td>   <td>-1.0154</td> <td>0.3099</td> <td>-0.7964</td> <td>0.2528</td> \n",
       "</tr>\n",
       "<tr>\n",
       "  <th>class_Own</th>     <td>0.1955</td>   <td>0.2973</td>   <td>0.6574</td>  <td>0.5109</td> <td>-0.3873</td> <td>0.7782</td> \n",
       "</tr>\n",
       "<tr>\n",
       "  <th>class_Close</th>   <td>-1.8966</td>  <td>0.3453</td>   <td>-5.4931</td> <td>0.0000</td> <td>-2.5733</td> <td>-1.2199</td>\n",
       "</tr>\n",
       "<tr>\n",
       "  <th>class_High</th>    <td>1.8963</td>   <td>0.4084</td>   <td>4.6433</td>  <td>0.0000</td> <td>1.0958</td>  <td>2.6967</td> \n",
       "</tr>\n",
       "<tr>\n",
       "  <th>class_NewCust</th> <td>2.4962</td>   <td>0.3322</td>   <td>7.5135</td>  <td>0.0000</td> <td>1.8451</td>  <td>3.1474</td> \n",
       "</tr>\n",
       "</table>"
      ],
      "text/plain": [
       "<class 'statsmodels.iolib.summary2.Summary'>\n",
       "\"\"\"\n",
       "               Results: Generalized linear model\n",
       "===============================================================\n",
       "Model:              GLM              AIC:            420.3846  \n",
       "Link Function:      logit            BIC:            -4875.7740\n",
       "Dependent Variable: Target           Log-Likelihood: -199.19   \n",
       "Date:               2022-02-16 12:03 LL-Null:        -542.20   \n",
       "No. Observations:   800              Deviance:       398.38    \n",
       "Df Model:           10               Pearson chi2:   557.      \n",
       "Df Residuals:       789              Scale:          1.0000    \n",
       "Method:             IRLS                                       \n",
       "---------------------------------------------------------------\n",
       "                Coef.  Std.Err.    z     P>|z|   [0.025  0.975]\n",
       "---------------------------------------------------------------\n",
       "const          -5.4776   0.5378 -10.1860 0.0000 -6.5316 -4.4236\n",
       "Salary          0.0001   0.0000   8.2763 0.0000  0.0001  0.0001\n",
       "Children       -0.8496   0.1718  -4.9464 0.0000 -1.1863 -0.5130\n",
       "Catalogs        0.2112   0.0234   9.0080 0.0000  0.1652  0.2572\n",
       "class_Middle   -1.5243   0.2841  -5.3650 0.0000 -2.0811 -0.9674\n",
       "class_Old      -1.5228   0.3076  -4.9506 0.0000 -2.1257 -0.9199\n",
       "class_Young    -2.4305   0.3182  -7.6374 0.0000 -3.0542 -1.8068\n",
       "class_Female   -0.2718   0.2677  -1.0154 0.3099 -0.7964  0.2528\n",
       "class_Own       0.1955   0.2973   0.6574 0.5109 -0.3873  0.7782\n",
       "class_Close    -1.8966   0.3453  -5.4931 0.0000 -2.5733 -1.2199\n",
       "class_High      1.8963   0.4084   4.6433 0.0000  1.0958  2.6967\n",
       "class_NewCust   2.4962   0.3322   7.5135 0.0000  1.8451  3.1474\n",
       "===============================================================\n",
       "\n",
       "\"\"\""
      ]
     },
     "execution_count": 35,
     "metadata": {},
     "output_type": "execute_result"
    }
   ],
   "source": [
    "model4.summary2()"
   ]
  },
  {
   "cell_type": "code",
   "execution_count": 36,
   "id": "7dd316a9",
   "metadata": {},
   "outputs": [],
   "source": [
    "xtrain.drop(['class_Own'],axis=1,inplace=True)\n",
    "xtest.drop(['class_Own'],axis=1,inplace=True)"
   ]
  },
  {
   "cell_type": "code",
   "execution_count": 37,
   "id": "491090ec",
   "metadata": {},
   "outputs": [],
   "source": [
    "model5 = sm.GLM(ytrain,xtrain,family=sm.families.Binomial()).fit()"
   ]
  },
  {
   "cell_type": "code",
   "execution_count": 38,
   "id": "444005f6",
   "metadata": {},
   "outputs": [
    {
     "data": {
      "text/html": [
       "<table class=\"simpletable\">\n",
       "<tr>\n",
       "        <td>Model:</td>               <td>GLM</td>            <td>AIC:</td>        <td>418.8162</td> \n",
       "</tr>\n",
       "<tr>\n",
       "    <td>Link Function:</td>          <td>logit</td>           <td>BIC:</td>       <td>-4882.0270</td>\n",
       "</tr>\n",
       "<tr>\n",
       "  <td>Dependent Variable:</td>      <td>Target</td>      <td>Log-Likelihood:</td>   <td>-199.41</td> \n",
       "</tr>\n",
       "<tr>\n",
       "         <td>Date:</td>        <td>2022-02-16 12:04</td>    <td>LL-Null:</td>       <td>-542.20</td> \n",
       "</tr>\n",
       "<tr>\n",
       "   <td>No. Observations:</td>         <td>800</td>          <td>Deviance:</td>      <td>398.82</td>  \n",
       "</tr>\n",
       "<tr>\n",
       "       <td>Df Model:</td>              <td>9</td>         <td>Pearson chi2:</td>     <td>553.</td>   \n",
       "</tr>\n",
       "<tr>\n",
       "     <td>Df Residuals:</td>           <td>790</td>           <td>Scale:</td>        <td>1.0000</td>  \n",
       "</tr>\n",
       "<tr>\n",
       "        <td>Method:</td>             <td>IRLS</td>              <td></td>              <td></td>     \n",
       "</tr>\n",
       "</table>\n",
       "<table class=\"simpletable\">\n",
       "<tr>\n",
       "        <td></td>         <th>Coef.</th>  <th>Std.Err.</th>     <th>z</th>     <th>P>|z|</th> <th>[0.025</th>  <th>0.975]</th> \n",
       "</tr>\n",
       "<tr>\n",
       "  <th>const</th>         <td>-5.4665</td>  <td>0.5376</td>  <td>-10.1678</td> <td>0.0000</td> <td>-6.5202</td> <td>-4.4128</td>\n",
       "</tr>\n",
       "<tr>\n",
       "  <th>Salary</th>        <td>0.0001</td>   <td>0.0000</td>   <td>8.5453</td>  <td>0.0000</td> <td>0.0001</td>  <td>0.0001</td> \n",
       "</tr>\n",
       "<tr>\n",
       "  <th>Children</th>      <td>-0.8446</td>  <td>0.1714</td>   <td>-4.9269</td> <td>0.0000</td> <td>-1.1805</td> <td>-0.5086</td>\n",
       "</tr>\n",
       "<tr>\n",
       "  <th>Catalogs</th>      <td>0.2110</td>   <td>0.0234</td>   <td>9.0175</td>  <td>0.0000</td> <td>0.1652</td>  <td>0.2569</td> \n",
       "</tr>\n",
       "<tr>\n",
       "  <th>class_Middle</th>  <td>-1.5183</td>  <td>0.2837</td>   <td>-5.3519</td> <td>0.0000</td> <td>-2.0743</td> <td>-0.9623</td>\n",
       "</tr>\n",
       "<tr>\n",
       "  <th>class_Old</th>     <td>-1.4697</td>  <td>0.2963</td>   <td>-4.9608</td> <td>0.0000</td> <td>-2.0503</td> <td>-0.8890</td>\n",
       "</tr>\n",
       "<tr>\n",
       "  <th>class_Young</th>   <td>-2.4785</td>  <td>0.3108</td>   <td>-7.9741</td> <td>0.0000</td> <td>-3.0877</td> <td>-1.8693</td>\n",
       "</tr>\n",
       "<tr>\n",
       "  <th>class_Female</th>  <td>-0.2637</td>  <td>0.2672</td>   <td>-0.9870</td> <td>0.3236</td> <td>-0.7875</td> <td>0.2600</td> \n",
       "</tr>\n",
       "<tr>\n",
       "  <th>class_Close</th>   <td>-1.8742</td>  <td>0.3435</td>   <td>-5.4570</td> <td>0.0000</td> <td>-2.5474</td> <td>-1.2011</td>\n",
       "</tr>\n",
       "<tr>\n",
       "  <th>class_High</th>    <td>1.9055</td>   <td>0.4073</td>   <td>4.6783</td>  <td>0.0000</td> <td>1.1072</td>  <td>2.7038</td> \n",
       "</tr>\n",
       "<tr>\n",
       "  <th>class_NewCust</th> <td>2.5085</td>   <td>0.3320</td>   <td>7.5558</td>  <td>0.0000</td> <td>1.8578</td>  <td>3.1593</td> \n",
       "</tr>\n",
       "</table>"
      ],
      "text/plain": [
       "<class 'statsmodels.iolib.summary2.Summary'>\n",
       "\"\"\"\n",
       "               Results: Generalized linear model\n",
       "===============================================================\n",
       "Model:              GLM              AIC:            418.8162  \n",
       "Link Function:      logit            BIC:            -4882.0270\n",
       "Dependent Variable: Target           Log-Likelihood: -199.41   \n",
       "Date:               2022-02-16 12:04 LL-Null:        -542.20   \n",
       "No. Observations:   800              Deviance:       398.82    \n",
       "Df Model:           9                Pearson chi2:   553.      \n",
       "Df Residuals:       790              Scale:          1.0000    \n",
       "Method:             IRLS                                       \n",
       "---------------------------------------------------------------\n",
       "                Coef.  Std.Err.    z     P>|z|   [0.025  0.975]\n",
       "---------------------------------------------------------------\n",
       "const          -5.4665   0.5376 -10.1678 0.0000 -6.5202 -4.4128\n",
       "Salary          0.0001   0.0000   8.5453 0.0000  0.0001  0.0001\n",
       "Children       -0.8446   0.1714  -4.9269 0.0000 -1.1805 -0.5086\n",
       "Catalogs        0.2110   0.0234   9.0175 0.0000  0.1652  0.2569\n",
       "class_Middle   -1.5183   0.2837  -5.3519 0.0000 -2.0743 -0.9623\n",
       "class_Old      -1.4697   0.2963  -4.9608 0.0000 -2.0503 -0.8890\n",
       "class_Young    -2.4785   0.3108  -7.9741 0.0000 -3.0877 -1.8693\n",
       "class_Female   -0.2637   0.2672  -0.9870 0.3236 -0.7875  0.2600\n",
       "class_Close    -1.8742   0.3435  -5.4570 0.0000 -2.5474 -1.2011\n",
       "class_High      1.9055   0.4073   4.6783 0.0000  1.1072  2.7038\n",
       "class_NewCust   2.5085   0.3320   7.5558 0.0000  1.8578  3.1593\n",
       "===============================================================\n",
       "\n",
       "\"\"\""
      ]
     },
     "execution_count": 38,
     "metadata": {},
     "output_type": "execute_result"
    }
   ],
   "source": [
    "model5.summary2()"
   ]
  },
  {
   "cell_type": "code",
   "execution_count": 39,
   "id": "0b6eec3f",
   "metadata": {},
   "outputs": [],
   "source": [
    "xtrain.drop(['class_Female'],axis=1,inplace=True)\n",
    "xtest.drop(['class_Female'],axis=1,inplace=True)"
   ]
  },
  {
   "cell_type": "code",
   "execution_count": 40,
   "id": "74673a62",
   "metadata": {},
   "outputs": [],
   "source": [
    "model6 = sm.GLM(ytrain,xtrain,family=sm.families.Binomial()).fit()"
   ]
  },
  {
   "cell_type": "code",
   "execution_count": 41,
   "id": "fa896309",
   "metadata": {},
   "outputs": [
    {
     "data": {
      "text/html": [
       "<table class=\"simpletable\">\n",
       "<tr>\n",
       "        <td>Model:</td>               <td>GLM</td>            <td>AIC:</td>        <td>417.7897</td> \n",
       "</tr>\n",
       "<tr>\n",
       "    <td>Link Function:</td>          <td>logit</td>           <td>BIC:</td>       <td>-4887.7382</td>\n",
       "</tr>\n",
       "<tr>\n",
       "  <td>Dependent Variable:</td>      <td>Target</td>      <td>Log-Likelihood:</td>   <td>-199.89</td> \n",
       "</tr>\n",
       "<tr>\n",
       "         <td>Date:</td>        <td>2022-02-16 12:05</td>    <td>LL-Null:</td>       <td>-542.20</td> \n",
       "</tr>\n",
       "<tr>\n",
       "   <td>No. Observations:</td>         <td>800</td>          <td>Deviance:</td>      <td>399.79</td>  \n",
       "</tr>\n",
       "<tr>\n",
       "       <td>Df Model:</td>              <td>8</td>         <td>Pearson chi2:</td>     <td>581.</td>   \n",
       "</tr>\n",
       "<tr>\n",
       "     <td>Df Residuals:</td>           <td>791</td>           <td>Scale:</td>        <td>1.0000</td>  \n",
       "</tr>\n",
       "<tr>\n",
       "        <td>Method:</td>             <td>IRLS</td>              <td></td>              <td></td>     \n",
       "</tr>\n",
       "</table>\n",
       "<table class=\"simpletable\">\n",
       "<tr>\n",
       "        <td></td>         <th>Coef.</th>  <th>Std.Err.</th>     <th>z</th>     <th>P>|z|</th> <th>[0.025</th>  <th>0.975]</th> \n",
       "</tr>\n",
       "<tr>\n",
       "  <th>const</th>         <td>-5.5792</td>  <td>0.5270</td>  <td>-10.5873</td> <td>0.0000</td> <td>-6.6120</td> <td>-4.5463</td>\n",
       "</tr>\n",
       "<tr>\n",
       "  <th>Salary</th>        <td>0.0001</td>   <td>0.0000</td>   <td>8.7903</td>  <td>0.0000</td> <td>0.0001</td>  <td>0.0001</td> \n",
       "</tr>\n",
       "<tr>\n",
       "  <th>Children</th>      <td>-0.8673</td>  <td>0.1702</td>   <td>-5.0946</td> <td>0.0000</td> <td>-1.2009</td> <td>-0.5336</td>\n",
       "</tr>\n",
       "<tr>\n",
       "  <th>Catalogs</th>      <td>0.2103</td>   <td>0.0233</td>   <td>9.0342</td>  <td>0.0000</td> <td>0.1646</td>  <td>0.2559</td> \n",
       "</tr>\n",
       "<tr>\n",
       "  <th>class_Middle</th>  <td>-1.5405</td>  <td>0.2823</td>   <td>-5.4560</td> <td>0.0000</td> <td>-2.0939</td> <td>-0.9871</td>\n",
       "</tr>\n",
       "<tr>\n",
       "  <th>class_Old</th>     <td>-1.5364</td>  <td>0.2887</td>   <td>-5.3216</td> <td>0.0000</td> <td>-2.1022</td> <td>-0.9705</td>\n",
       "</tr>\n",
       "<tr>\n",
       "  <th>class_Young</th>   <td>-2.5023</td>  <td>0.3118</td>   <td>-8.0253</td> <td>0.0000</td> <td>-3.1134</td> <td>-1.8912</td>\n",
       "</tr>\n",
       "<tr>\n",
       "  <th>class_Close</th>   <td>-1.8871</td>  <td>0.3441</td>   <td>-5.4850</td> <td>0.0000</td> <td>-2.5615</td> <td>-1.2128</td>\n",
       "</tr>\n",
       "<tr>\n",
       "  <th>class_High</th>    <td>1.8771</td>   <td>0.4057</td>   <td>4.6272</td>  <td>0.0000</td> <td>1.0820</td>  <td>2.6722</td> \n",
       "</tr>\n",
       "<tr>\n",
       "  <th>class_NewCust</th> <td>2.4871</td>   <td>0.3302</td>   <td>7.5313</td>  <td>0.0000</td> <td>1.8399</td>  <td>3.1344</td> \n",
       "</tr>\n",
       "</table>"
      ],
      "text/plain": [
       "<class 'statsmodels.iolib.summary2.Summary'>\n",
       "\"\"\"\n",
       "               Results: Generalized linear model\n",
       "===============================================================\n",
       "Model:              GLM              AIC:            417.7897  \n",
       "Link Function:      logit            BIC:            -4887.7382\n",
       "Dependent Variable: Target           Log-Likelihood: -199.89   \n",
       "Date:               2022-02-16 12:05 LL-Null:        -542.20   \n",
       "No. Observations:   800              Deviance:       399.79    \n",
       "Df Model:           8                Pearson chi2:   581.      \n",
       "Df Residuals:       791              Scale:          1.0000    \n",
       "Method:             IRLS                                       \n",
       "---------------------------------------------------------------\n",
       "                Coef.  Std.Err.    z     P>|z|   [0.025  0.975]\n",
       "---------------------------------------------------------------\n",
       "const          -5.5792   0.5270 -10.5873 0.0000 -6.6120 -4.5463\n",
       "Salary          0.0001   0.0000   8.7903 0.0000  0.0001  0.0001\n",
       "Children       -0.8673   0.1702  -5.0946 0.0000 -1.2009 -0.5336\n",
       "Catalogs        0.2103   0.0233   9.0342 0.0000  0.1646  0.2559\n",
       "class_Middle   -1.5405   0.2823  -5.4560 0.0000 -2.0939 -0.9871\n",
       "class_Old      -1.5364   0.2887  -5.3216 0.0000 -2.1022 -0.9705\n",
       "class_Young    -2.5023   0.3118  -8.0253 0.0000 -3.1134 -1.8912\n",
       "class_Close    -1.8871   0.3441  -5.4850 0.0000 -2.5615 -1.2128\n",
       "class_High      1.8771   0.4057   4.6272 0.0000  1.0820  2.6722\n",
       "class_NewCust   2.4871   0.3302   7.5313 0.0000  1.8399  3.1344\n",
       "===============================================================\n",
       "\n",
       "\"\"\""
      ]
     },
     "execution_count": 41,
     "metadata": {},
     "output_type": "execute_result"
    }
   ],
   "source": [
    "model6.summary2()"
   ]
  },
  {
   "cell_type": "code",
   "execution_count": 44,
   "id": "3ce9c2cc",
   "metadata": {},
   "outputs": [],
   "source": [
    "predictions = model6.predict(xtest)"
   ]
  },
  {
   "cell_type": "code",
   "execution_count": 45,
   "id": "97041881",
   "metadata": {},
   "outputs": [
    {
     "data": {
      "text/plain": [
       "521    0.002653\n",
       "737    0.041345\n",
       "740    0.019799\n",
       "660    0.000226\n",
       "411    0.253016\n",
       "         ...   \n",
       "408    0.015969\n",
       "332    0.952753\n",
       "208    0.238566\n",
       "613    0.289760\n",
       "78     0.000425\n",
       "Length: 200, dtype: float64"
      ]
     },
     "execution_count": 45,
     "metadata": {},
     "output_type": "execute_result"
    }
   ],
   "source": [
    "predictions"
   ]
  },
  {
   "cell_type": "code",
   "execution_count": 46,
   "id": "8a947e86",
   "metadata": {},
   "outputs": [],
   "source": [
    "threshold=0.5\n",
    "predicted_classes = np.where(predictions>threshold,1,0)"
   ]
  },
  {
   "cell_type": "code",
   "execution_count": 47,
   "id": "b65412b8",
   "metadata": {},
   "outputs": [
    {
     "data": {
      "text/plain": [
       "521    0\n",
       "737    0\n",
       "740    0\n",
       "660    0\n",
       "411    0\n",
       "      ..\n",
       "408    0\n",
       "332    1\n",
       "208    0\n",
       "613    0\n",
       "78     0\n",
       "Name: Target, Length: 200, dtype: int64"
      ]
     },
     "execution_count": 47,
     "metadata": {},
     "output_type": "execute_result"
    }
   ],
   "source": [
    "ytest"
   ]
  },
  {
   "cell_type": "code",
   "execution_count": 48,
   "id": "436f131a",
   "metadata": {},
   "outputs": [
    {
     "data": {
      "text/plain": [
       "0.89"
      ]
     },
     "execution_count": 48,
     "metadata": {},
     "output_type": "execute_result"
    }
   ],
   "source": [
    "accuracy_score(ytest,predicted_classes)"
   ]
  },
  {
   "cell_type": "code",
   "execution_count": 49,
   "id": "6ee685f8",
   "metadata": {},
   "outputs": [],
   "source": [
    "confmat = confusion_matrix(ytest, predicted_classes)"
   ]
  },
  {
   "cell_type": "code",
   "execution_count": 50,
   "id": "14d7bc4e",
   "metadata": {},
   "outputs": [
    {
     "data": {
      "text/plain": [
       "array([[119,  12],\n",
       "       [ 10,  59]], dtype=int64)"
      ]
     },
     "execution_count": 50,
     "metadata": {},
     "output_type": "execute_result"
    }
   ],
   "source": [
    "confmat"
   ]
  },
  {
   "cell_type": "code",
   "execution_count": 51,
   "id": "12d6fc44",
   "metadata": {},
   "outputs": [],
   "source": [
    "confmat = pd.DataFrame(confmat, index=['Actual 0','Actual 1'], columns=['Predicted 0','Predicted 1'])"
   ]
  },
  {
   "cell_type": "code",
   "execution_count": 52,
   "id": "6419f4ee",
   "metadata": {},
   "outputs": [
    {
     "data": {
      "text/html": [
       "<div>\n",
       "<style scoped>\n",
       "    .dataframe tbody tr th:only-of-type {\n",
       "        vertical-align: middle;\n",
       "    }\n",
       "\n",
       "    .dataframe tbody tr th {\n",
       "        vertical-align: top;\n",
       "    }\n",
       "\n",
       "    .dataframe thead th {\n",
       "        text-align: right;\n",
       "    }\n",
       "</style>\n",
       "<table border=\"1\" class=\"dataframe\">\n",
       "  <thead>\n",
       "    <tr style=\"text-align: right;\">\n",
       "      <th></th>\n",
       "      <th>Predicted 0</th>\n",
       "      <th>Predicted 1</th>\n",
       "    </tr>\n",
       "  </thead>\n",
       "  <tbody>\n",
       "    <tr>\n",
       "      <th>Actual 0</th>\n",
       "      <td>119</td>\n",
       "      <td>12</td>\n",
       "    </tr>\n",
       "    <tr>\n",
       "      <th>Actual 1</th>\n",
       "      <td>10</td>\n",
       "      <td>59</td>\n",
       "    </tr>\n",
       "  </tbody>\n",
       "</table>\n",
       "</div>"
      ],
      "text/plain": [
       "          Predicted 0  Predicted 1\n",
       "Actual 0          119           12\n",
       "Actual 1           10           59"
      ]
     },
     "execution_count": 52,
     "metadata": {},
     "output_type": "execute_result"
    }
   ],
   "source": [
    "confmat"
   ]
  },
  {
   "cell_type": "code",
   "execution_count": 54,
   "id": "562e34d3",
   "metadata": {},
   "outputs": [
    {
     "name": "stdout",
     "output_type": "stream",
     "text": [
      "              precision    recall  f1-score   support\n",
      "\n",
      "           0       0.92      0.91      0.92       131\n",
      "           1       0.83      0.86      0.84        69\n",
      "\n",
      "    accuracy                           0.89       200\n",
      "   macro avg       0.88      0.88      0.88       200\n",
      "weighted avg       0.89      0.89      0.89       200\n",
      "\n"
     ]
    }
   ],
   "source": [
    "print(classification_report(ytest, predicted_classes))"
   ]
  },
  {
   "cell_type": "code",
   "execution_count": 56,
   "id": "de1e0548",
   "metadata": {},
   "outputs": [],
   "source": [
    "roc_score = roc_auc_score(ytest,predictions)"
   ]
  },
  {
   "cell_type": "code",
   "execution_count": 57,
   "id": "01783679",
   "metadata": {},
   "outputs": [
    {
     "data": {
      "text/plain": [
       "0.9587343732713796"
      ]
     },
     "execution_count": 57,
     "metadata": {},
     "output_type": "execute_result"
    }
   ],
   "source": [
    "roc_score"
   ]
  },
  {
   "cell_type": "code",
   "execution_count": 58,
   "id": "032f5014",
   "metadata": {},
   "outputs": [],
   "source": [
    "fpr, tpr, threshold = roc_curve(ytest,predictions)"
   ]
  },
  {
   "cell_type": "code",
   "execution_count": 62,
   "id": "65fc0e54",
   "metadata": {},
   "outputs": [
    {
     "data": {
      "text/plain": [
       "array([1.99991424e+00, 9.99914243e-01, 9.44236257e-01, 9.41703826e-01,\n",
       "       8.94482933e-01, 8.69065757e-01, 8.45099029e-01, 8.36840135e-01,\n",
       "       7.96489826e-01, 7.96000602e-01, 7.80284298e-01, 7.10934301e-01,\n",
       "       6.85995097e-01, 6.81387539e-01, 6.60705657e-01, 6.06387742e-01,\n",
       "       5.98318377e-01, 5.79919915e-01, 5.26267796e-01, 5.05470757e-01,\n",
       "       4.77372292e-01, 4.60893690e-01, 4.43023265e-01, 3.77449599e-01,\n",
       "       3.66703246e-01, 3.29050701e-01, 3.10105675e-01, 2.74759386e-01,\n",
       "       2.61493160e-01, 2.09374641e-01, 2.09177618e-01, 1.62016411e-01,\n",
       "       1.61027208e-01, 8.29807984e-02, 8.12487592e-02, 4.21481984e-02,\n",
       "       4.15875564e-02, 1.11178269e-04])"
      ]
     },
     "execution_count": 62,
     "metadata": {},
     "output_type": "execute_result"
    }
   ],
   "source": [
    "threshold"
   ]
  },
  {
   "cell_type": "code",
   "execution_count": 67,
   "id": "55de4419",
   "metadata": {},
   "outputs": [
    {
     "data": {
      "image/png": "[encoded data removed]",
      "text/plain": [
       "<Figure size 432x288 with 1 Axes>"
      ]
     },
     "metadata": {
      "needs_background": "light"
     },
     "output_type": "display_data"
    }
   ],
   "source": [
    "plt.title('ROC Curve')\n",
    "plt.plot(fpr,tpr,'b',label='AUC = %0.2f' % roc_score)\n",
    "plt.legend(loc='lower right')\n",
    "plt.plot([0,1],[0,1],'r--')\n",
    "plt.ylabel('True Positive Rate')\n",
    "plt.xlabel('False Positive Rate')\n",
    "plt.show()"
   ]
  },
  {
   "cell_type": "code",
   "execution_count": 69,
   "id": "882bbcb3",
   "metadata": {},
   "outputs": [],
   "source": [
    "optimal_idx = np.argmax(tpr-fpr)\n",
    "optimal_threshold = threshold[optimal_idx]"
   ]
  },
  {
   "cell_type": "code",
   "execution_count": 70,
   "id": "8820b87e",
   "metadata": {},
   "outputs": [
    {
     "data": {
      "text/plain": [
       "0.44302326482927595"
      ]
     },
     "execution_count": 70,
     "metadata": {},
     "output_type": "execute_result"
    }
   ],
   "source": [
    "optimal_threshold"
   ]
  },
  {
   "cell_type": "code",
   "execution_count": 71,
   "id": "15b0f101",
   "metadata": {},
   "outputs": [],
   "source": [
    "predicted_classes = np.where(predictions>optimal_threshold,1,0)"
   ]
  },
  {
   "cell_type": "code",
   "execution_count": 72,
   "id": "9877b8aa",
   "metadata": {},
   "outputs": [
    {
     "data": {
      "text/plain": [
       "0.885"
      ]
     },
     "execution_count": 72,
     "metadata": {},
     "output_type": "execute_result"
    }
   ],
   "source": [
    "accuracy_score(ytest,predicted_classes)"
   ]
  },
  {
   "cell_type": "code",
   "execution_count": 73,
   "id": "bfc3664e",
   "metadata": {},
   "outputs": [
    {
     "data": {
      "text/html": [
       "<div>\n",
       "<style scoped>\n",
       "    .dataframe tbody tr th:only-of-type {\n",
       "        vertical-align: middle;\n",
       "    }\n",
       "\n",
       "    .dataframe tbody tr th {\n",
       "        vertical-align: top;\n",
       "    }\n",
       "\n",
       "    .dataframe thead th {\n",
       "        text-align: right;\n",
       "    }\n",
       "</style>\n",
       "<table border=\"1\" class=\"dataframe\">\n",
       "  <thead>\n",
       "    <tr style=\"text-align: right;\">\n",
       "      <th></th>\n",
       "      <th>Predicted 0</th>\n",
       "      <th>Predicted 1</th>\n",
       "    </tr>\n",
       "  </thead>\n",
       "  <tbody>\n",
       "    <tr>\n",
       "      <th>Actual 0</th>\n",
       "      <td>116</td>\n",
       "      <td>15</td>\n",
       "    </tr>\n",
       "    <tr>\n",
       "      <th>Actual 1</th>\n",
       "      <td>8</td>\n",
       "      <td>61</td>\n",
       "    </tr>\n",
       "  </tbody>\n",
       "</table>\n",
       "</div>"
      ],
      "text/plain": [
       "          Predicted 0  Predicted 1\n",
       "Actual 0          116           15\n",
       "Actual 1            8           61"
      ]
     },
     "execution_count": 73,
     "metadata": {},
     "output_type": "execute_result"
    }
   ],
   "source": [
    "confmat = confusion_matrix(ytest, predicted_classes)\n",
    "confmat = pd.DataFrame(confmat, index=['Actual 0','Actual 1'], columns=['Predicted 0','Predicted 1'])\n",
    "confmat"
   ]
  },
  {
   "cell_type": "code",
   "execution_count": 74,
   "id": "6cf4ebe0",
   "metadata": {},
   "outputs": [
    {
     "name": "stdout",
     "output_type": "stream",
     "text": [
      "              precision    recall  f1-score   support\n",
      "\n",
      "           0       0.94      0.89      0.91       131\n",
      "           1       0.80      0.88      0.84        69\n",
      "\n",
      "    accuracy                           0.89       200\n",
      "   macro avg       0.87      0.88      0.88       200\n",
      "weighted avg       0.89      0.89      0.89       200\n",
      "\n"
     ]
    }
   ],
   "source": [
    "print(classification_report(ytest, predicted_classes))"
   ]
  },
  {
   "cell_type": "code",
   "execution_count": null,
   "id": "4c772941",
   "metadata": {},
   "outputs": [],
   "source": []
  },
  {
   "cell_type": "code",
   "execution_count": 75,
   "id": "4f156e47",
   "metadata": {},
   "outputs": [],
   "source": [
    "mreview = pd.read_table('movie_reviews.tsv',sep='\\t')"
   ]
  },
  {
   "cell_type": "code",
   "execution_count": 76,
   "id": "1279119b",
   "metadata": {},
   "outputs": [
    {
     "data": {
      "text/html": [
       "<div>\n",
       "<style scoped>\n",
       "    .dataframe tbody tr th:only-of-type {\n",
       "        vertical-align: middle;\n",
       "    }\n",
       "\n",
       "    .dataframe tbody tr th {\n",
       "        vertical-align: top;\n",
       "    }\n",
       "\n",
       "    .dataframe thead th {\n",
       "        text-align: right;\n",
       "    }\n",
       "</style>\n",
       "<table border=\"1\" class=\"dataframe\">\n",
       "  <thead>\n",
       "    <tr style=\"text-align: right;\">\n",
       "      <th></th>\n",
       "      <th>id</th>\n",
       "      <th>sentiment</th>\n",
       "      <th>review</th>\n",
       "    </tr>\n",
       "  </thead>\n",
       "  <tbody>\n",
       "    <tr>\n",
       "      <th>0</th>\n",
       "      <td>5814_8</td>\n",
       "      <td>1</td>\n",
       "      <td>With all this stuff going down at the moment w...</td>\n",
       "    </tr>\n",
       "    <tr>\n",
       "      <th>1</th>\n",
       "      <td>2381_9</td>\n",
       "      <td>1</td>\n",
       "      <td>\\The Classic War of the Worlds\\\" by Timothy Hi...</td>\n",
       "    </tr>\n",
       "    <tr>\n",
       "      <th>2</th>\n",
       "      <td>7759_3</td>\n",
       "      <td>0</td>\n",
       "      <td>The film starts with a manager (Nicholas Bell)...</td>\n",
       "    </tr>\n",
       "    <tr>\n",
       "      <th>3</th>\n",
       "      <td>3630_4</td>\n",
       "      <td>0</td>\n",
       "      <td>It must be assumed that those who praised this...</td>\n",
       "    </tr>\n",
       "    <tr>\n",
       "      <th>4</th>\n",
       "      <td>9495_8</td>\n",
       "      <td>1</td>\n",
       "      <td>Superbly trashy and wondrously unpretentious 8...</td>\n",
       "    </tr>\n",
       "  </tbody>\n",
       "</table>\n",
       "</div>"
      ],
      "text/plain": [
       "       id  sentiment                                             review\n",
       "0  5814_8          1  With all this stuff going down at the moment w...\n",
       "1  2381_9          1  \\The Classic War of the Worlds\\\" by Timothy Hi...\n",
       "2  7759_3          0  The film starts with a manager (Nicholas Bell)...\n",
       "3  3630_4          0  It must be assumed that those who praised this...\n",
       "4  9495_8          1  Superbly trashy and wondrously unpretentious 8..."
      ]
     },
     "execution_count": 76,
     "metadata": {},
     "output_type": "execute_result"
    }
   ],
   "source": [
    "mreview.head()"
   ]
  },
  {
   "cell_type": "code",
   "execution_count": 79,
   "id": "4896d53a",
   "metadata": {},
   "outputs": [
    {
     "data": {
      "text/plain": [
       "'I just watched it. A couple of laughs, but nothing to write home about. Jason Lee looked like he was having fun. The (long) DVD gag reel consists almost solely of him having fits of uncontrollable laughter. Selma Blair seemed to be punching a time clock, but then again, her character was supposed to be a stick in the mud, so \\\\well done\\\\\" I guess? Jim Brolin was surprisingly funny. (Being married to Babs can\\'t be a picnic.) The soundtrack was hip, and eclectic. Larry Miller, who played Julia Stiles father (hilariously), in 10 Things I Hate About You is funny here as well. He\\'s great, but the best aspect of this movie was the casting of Julia Stiles. I could spend two hours watching her fold laundry, and I feel like I just did.\"'"
      ]
     },
     "execution_count": 79,
     "metadata": {},
     "output_type": "execute_result"
    }
   ],
   "source": [
    "mreview['review'][20000]"
   ]
  },
  {
   "cell_type": "code",
   "execution_count": 78,
   "id": "d027097c",
   "metadata": {},
   "outputs": [
    {
     "data": {
      "text/plain": [
       "(25000, 3)"
      ]
     },
     "execution_count": 78,
     "metadata": {},
     "output_type": "execute_result"
    }
   ],
   "source": [
    "mreview.shape"
   ]
  },
  {
   "cell_type": "code",
   "execution_count": 80,
   "id": "878b5769",
   "metadata": {},
   "outputs": [
    {
     "data": {
      "text/plain": [
       "id           0\n",
       "sentiment    0\n",
       "review       0\n",
       "dtype: int64"
      ]
     },
     "execution_count": 80,
     "metadata": {},
     "output_type": "execute_result"
    }
   ],
   "source": [
    "mreview.isnull().sum()"
   ]
  },
  {
   "cell_type": "code",
   "execution_count": 81,
   "id": "345b4c6d",
   "metadata": {},
   "outputs": [
    {
     "data": {
      "text/plain": [
       "count    25000.00000\n",
       "mean         0.50000\n",
       "std          0.50001\n",
       "min          0.00000\n",
       "25%          0.00000\n",
       "50%          0.50000\n",
       "75%          1.00000\n",
       "max          1.00000\n",
       "Name: sentiment, dtype: float64"
      ]
     },
     "execution_count": 81,
     "metadata": {},
     "output_type": "execute_result"
    }
   ],
   "source": [
    "mreview['sentiment'].describe()"
   ]
  },
  {
   "cell_type": "code",
   "execution_count": null,
   "id": "8a1f5288",
   "metadata": {},
   "outputs": [],
   "source": [
    "#Convert [text]-->[predictor_matrix]\n",
    "\n",
    "#Term-Document Matrix"
   ]
  },
  {
   "cell_type": "code",
   "execution_count": null,
   "id": "e768fffd",
   "metadata": {},
   "outputs": [],
   "source": []
  },
  {
   "cell_type": "code",
   "execution_count": null,
   "id": "9352e5da",
   "metadata": {},
   "outputs": [],
   "source": []
  },
  {
   "cell_type": "code",
   "execution_count": null,
   "id": "4a48cf46",
   "metadata": {},
   "outputs": [],
   "source": []
  },
  {
   "cell_type": "code",
   "execution_count": null,
   "id": "ce447e2d",
   "metadata": {},
   "outputs": [],
   "source": []
  },
  {
   "cell_type": "code",
   "execution_count": null,
   "id": "a6da012b",
   "metadata": {},
   "outputs": [],
   "source": []
  },
  {
   "cell_type": "code",
   "execution_count": null,
   "id": "40eb6a3c",
   "metadata": {},
   "outputs": [],
   "source": []
  },
  {
   "cell_type": "code",
   "execution_count": null,
   "id": "a84b9b33",
   "metadata": {},
   "outputs": [],
   "source": []
  },
  {
   "cell_type": "code",
   "execution_count": null,
   "id": "0e0a5d4f",
   "metadata": {},
   "outputs": [],
   "source": []
  },
  {
   "cell_type": "code",
   "execution_count": null,
   "id": "a845ed5b",
   "metadata": {},
   "outputs": [],
   "source": []
  },
  {
   "cell_type": "code",
   "execution_count": null,
   "id": "250fd8b0",
   "metadata": {},
   "outputs": [],
   "source": []
  },
  {
   "cell_type": "code",
   "execution_count": null,
   "id": "af013521",
   "metadata": {},
   "outputs": [],
   "source": []
  },
  {
   "cell_type": "code",
   "execution_count": null,
   "id": "e6d8f9fc",
   "metadata": {},
   "outputs": [],
   "source": []
  },
  {
   "cell_type": "code",
   "execution_count": null,
   "id": "44aaa94c",
   "metadata": {},
   "outputs": [],
   "source": []
  },
  {
   "cell_type": "code",
   "execution_count": null,
   "id": "060aaa97",
   "metadata": {},
   "outputs": [],
   "source": []
  },
  {
   "cell_type": "code",
   "execution_count": null,
   "id": "dcd5bc5c",
   "metadata": {},
   "outputs": [],
   "source": []
  },
  {
   "cell_type": "code",
   "execution_count": null,
   "id": "4cfc4679",
   "metadata": {},
   "outputs": [],
   "source": []
  },
  {
   "cell_type": "code",
   "execution_count": null,
   "id": "9ed8a92a",
   "metadata": {},
   "outputs": [],
   "source": []
  }
 ],
 "metadata": {
  "kernelspec": {
   "display_name": "Python 3",
   "language": "python",
   "name": "python3"
  },
  "language_info": {
   "codemirror_mode": {
    "name": "ipython",
    "version": 3
   },
   "file_extension": ".py",
   "mimetype": "text/x-python",
   "name": "python",
   "nbconvert_exporter": "python",
   "pygments_lexer": "ipython3",
   "version": "3.8.8"
  }
 },
 "nbformat": 4,
 "nbformat_minor": 5
}
